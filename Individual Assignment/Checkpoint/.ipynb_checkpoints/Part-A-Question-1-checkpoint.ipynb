{
 "cells": [
  {
   "cell_type": "markdown",
   "metadata": {
    "id": "xnNL_kbZq6nT"
   },
   "source": [
    "# Individual Assignment - Submission\n",
    "\n",
    "> - **Course:** *CE/CZ 4042 - Neural Networks and Deep Learning* \n",
    "> - **Name:** *Singh Aishwarya*\n",
    "> - **Matriculation Number:** *U1923952C*\n",
    "> - **Part:** *A - Classification Problem*\n",
    "> - **Question:** *1*"
   ]
  },
  {
   "cell_type": "markdown",
   "metadata": {
    "id": "GS-E2pAAq6nU"
   },
   "source": [
    "### Necessary Imports"
   ]
  },
  {
   "cell_type": "code",
   "execution_count": 1,
   "metadata": {
    "colab": {
     "base_uri": "https://localhost:8080/"
    },
    "executionInfo": {
     "elapsed": 16503,
     "status": "ok",
     "timestamp": 1634196424145,
     "user": {
      "displayName": "Aishwarya Singh",
      "photoUrl": "https://lh3.googleusercontent.com/a-/AOh14GgrDt3XHTbi6lUxuRrKkBiFChJ6Iau-0J22gLWWrA=s64",
      "userId": "06952162984620525698"
     },
     "user_tz": -480
    },
    "id": "ezXguQQosiIh",
    "outputId": "5585bda3-9c87-4bee-e1cb-7faa0f07e2e6"
   },
   "outputs": [
    {
     "name": "stdout",
     "output_type": "stream",
     "text": [
      "Mounted at /content/drive\n"
     ]
    }
   ],
   "source": [
    "from google.colab import drive\n",
    "drive.mount('/content/drive')"
   ]
  },
  {
   "cell_type": "code",
   "execution_count": 2,
   "metadata": {
    "executionInfo": {
     "elapsed": 3775,
     "status": "ok",
     "timestamp": 1634196431360,
     "user": {
      "displayName": "Aishwarya Singh",
      "photoUrl": "https://lh3.googleusercontent.com/a-/AOh14GgrDt3XHTbi6lUxuRrKkBiFChJ6Iau-0J22gLWWrA=s64",
      "userId": "06952162984620525698"
     },
     "user_tz": -480
    },
    "id": "mHx16Ajcq6nV"
   },
   "outputs": [],
   "source": [
    "# Basic Helper Libraries\n",
    "import tensorflow\n",
    "import pandas as pd\n",
    "import time\n",
    "import numpy as np\n",
    "\n",
    "# Tensorflow Libraries\n",
    "import tensorflow as tf\n",
    "import tensorflow.keras as keras\n",
    "from tensorflow.keras import Sequential\n",
    "from tensorflow.keras.layers import Dense, Dropout\n",
    "from tensorflow.keras.callbacks import Callback\n",
    "\n",
    "# sklearn libraries are useful for preprocessing, performance measures, etc.\n",
    "from sklearn import preprocessing\n",
    "from sklearn.model_selection import KFold\n",
    "from sklearn.model_selection import train_test_split\n",
    "\n",
    "# Libraries for plotting and visualization\n",
    "import pylab as plt\n",
    "import matplotlib.pyplot as matplt"
   ]
  },
  {
   "cell_type": "markdown",
   "metadata": {
    "id": "pfKpdLK7q6nV"
   },
   "source": [
    "### Data Retrieval + Train-Test Split"
   ]
  },
  {
   "cell_type": "code",
   "execution_count": 3,
   "metadata": {
    "colab": {
     "base_uri": "https://localhost:8080/",
     "height": 224
    },
    "executionInfo": {
     "elapsed": 861,
     "status": "ok",
     "timestamp": 1634196464210,
     "user": {
      "displayName": "Aishwarya Singh",
      "photoUrl": "https://lh3.googleusercontent.com/a-/AOh14GgrDt3XHTbi6lUxuRrKkBiFChJ6Iau-0J22gLWWrA=s64",
      "userId": "06952162984620525698"
     },
     "user_tz": -480
    },
    "id": "PR3sVzwQq6nV",
    "outputId": "452de084-0f10-4282-d2c4-b87a81e2a4cd"
   },
   "outputs": [
    {
     "data": {
      "text/html": [
       "<div>\n",
       "<style scoped>\n",
       "    .dataframe tbody tr th:only-of-type {\n",
       "        vertical-align: middle;\n",
       "    }\n",
       "\n",
       "    .dataframe tbody tr th {\n",
       "        vertical-align: top;\n",
       "    }\n",
       "\n",
       "    .dataframe thead th {\n",
       "        text-align: right;\n",
       "    }\n",
       "</style>\n",
       "<table border=\"1\" class=\"dataframe\">\n",
       "  <thead>\n",
       "    <tr style=\"text-align: right;\">\n",
       "      <th></th>\n",
       "      <th>filename</th>\n",
       "      <th>length</th>\n",
       "      <th>chroma_stft_mean</th>\n",
       "      <th>chroma_stft_var</th>\n",
       "      <th>rms_mean</th>\n",
       "      <th>rms_var</th>\n",
       "      <th>spectral_centroid_mean</th>\n",
       "      <th>spectral_centroid_var</th>\n",
       "      <th>spectral_bandwidth_mean</th>\n",
       "      <th>spectral_bandwidth_var</th>\n",
       "      <th>rolloff_mean</th>\n",
       "      <th>rolloff_var</th>\n",
       "      <th>zero_crossing_rate_mean</th>\n",
       "      <th>zero_crossing_rate_var</th>\n",
       "      <th>harmony_mean</th>\n",
       "      <th>harmony_var</th>\n",
       "      <th>perceptr_mean</th>\n",
       "      <th>perceptr_var</th>\n",
       "      <th>tempo</th>\n",
       "      <th>mfcc1_mean</th>\n",
       "      <th>mfcc1_var</th>\n",
       "      <th>mfcc2_mean</th>\n",
       "      <th>mfcc2_var</th>\n",
       "      <th>mfcc3_mean</th>\n",
       "      <th>mfcc3_var</th>\n",
       "      <th>mfcc4_mean</th>\n",
       "      <th>mfcc4_var</th>\n",
       "      <th>mfcc5_mean</th>\n",
       "      <th>mfcc5_var</th>\n",
       "      <th>mfcc6_mean</th>\n",
       "      <th>mfcc6_var</th>\n",
       "      <th>mfcc7_mean</th>\n",
       "      <th>mfcc7_var</th>\n",
       "      <th>mfcc8_mean</th>\n",
       "      <th>mfcc8_var</th>\n",
       "      <th>mfcc9_mean</th>\n",
       "      <th>mfcc9_var</th>\n",
       "      <th>mfcc10_mean</th>\n",
       "      <th>mfcc10_var</th>\n",
       "      <th>mfcc11_mean</th>\n",
       "      <th>mfcc11_var</th>\n",
       "      <th>mfcc12_mean</th>\n",
       "      <th>mfcc12_var</th>\n",
       "      <th>mfcc13_mean</th>\n",
       "      <th>mfcc13_var</th>\n",
       "      <th>mfcc14_mean</th>\n",
       "      <th>mfcc14_var</th>\n",
       "      <th>mfcc15_mean</th>\n",
       "      <th>mfcc15_var</th>\n",
       "      <th>mfcc16_mean</th>\n",
       "      <th>mfcc16_var</th>\n",
       "      <th>mfcc17_mean</th>\n",
       "      <th>mfcc17_var</th>\n",
       "      <th>mfcc18_mean</th>\n",
       "      <th>mfcc18_var</th>\n",
       "      <th>mfcc19_mean</th>\n",
       "      <th>mfcc19_var</th>\n",
       "      <th>mfcc20_mean</th>\n",
       "      <th>mfcc20_var</th>\n",
       "      <th>label</th>\n",
       "    </tr>\n",
       "  </thead>\n",
       "  <tbody>\n",
       "    <tr>\n",
       "      <th>0</th>\n",
       "      <td>blues.00000.wav</td>\n",
       "      <td>661794</td>\n",
       "      <td>0.350088</td>\n",
       "      <td>0.088757</td>\n",
       "      <td>0.130228</td>\n",
       "      <td>0.002827</td>\n",
       "      <td>1784.165850</td>\n",
       "      <td>129774.064525</td>\n",
       "      <td>2002.449060</td>\n",
       "      <td>85882.761315</td>\n",
       "      <td>3805.839606</td>\n",
       "      <td>9.015054e+05</td>\n",
       "      <td>0.083045</td>\n",
       "      <td>0.000767</td>\n",
       "      <td>-4.529724e-05</td>\n",
       "      <td>0.008172</td>\n",
       "      <td>0.000008</td>\n",
       "      <td>0.005698</td>\n",
       "      <td>123.046875</td>\n",
       "      <td>-113.570648</td>\n",
       "      <td>2564.207520</td>\n",
       "      <td>121.571793</td>\n",
       "      <td>295.913818</td>\n",
       "      <td>-19.168142</td>\n",
       "      <td>235.574432</td>\n",
       "      <td>42.366421</td>\n",
       "      <td>151.106873</td>\n",
       "      <td>-6.364664</td>\n",
       "      <td>167.934799</td>\n",
       "      <td>18.623499</td>\n",
       "      <td>89.180840</td>\n",
       "      <td>-13.704891</td>\n",
       "      <td>67.660492</td>\n",
       "      <td>15.343150</td>\n",
       "      <td>68.932579</td>\n",
       "      <td>-12.274110</td>\n",
       "      <td>82.204201</td>\n",
       "      <td>10.976572</td>\n",
       "      <td>63.386311</td>\n",
       "      <td>-8.326573</td>\n",
       "      <td>61.773094</td>\n",
       "      <td>8.803792</td>\n",
       "      <td>51.244125</td>\n",
       "      <td>-3.672300</td>\n",
       "      <td>41.217415</td>\n",
       "      <td>5.747995</td>\n",
       "      <td>40.554478</td>\n",
       "      <td>-5.162882</td>\n",
       "      <td>49.775421</td>\n",
       "      <td>0.752740</td>\n",
       "      <td>52.420910</td>\n",
       "      <td>-1.690215</td>\n",
       "      <td>36.524071</td>\n",
       "      <td>-0.408979</td>\n",
       "      <td>41.597103</td>\n",
       "      <td>-2.303523</td>\n",
       "      <td>55.062923</td>\n",
       "      <td>1.221291</td>\n",
       "      <td>46.936035</td>\n",
       "      <td>blues</td>\n",
       "    </tr>\n",
       "    <tr>\n",
       "      <th>1</th>\n",
       "      <td>blues.00001.wav</td>\n",
       "      <td>661794</td>\n",
       "      <td>0.340914</td>\n",
       "      <td>0.094980</td>\n",
       "      <td>0.095948</td>\n",
       "      <td>0.002373</td>\n",
       "      <td>1530.176679</td>\n",
       "      <td>375850.073649</td>\n",
       "      <td>2039.036516</td>\n",
       "      <td>213843.755497</td>\n",
       "      <td>3550.522098</td>\n",
       "      <td>2.977893e+06</td>\n",
       "      <td>0.056040</td>\n",
       "      <td>0.001448</td>\n",
       "      <td>1.395807e-04</td>\n",
       "      <td>0.005099</td>\n",
       "      <td>-0.000178</td>\n",
       "      <td>0.003063</td>\n",
       "      <td>67.999589</td>\n",
       "      <td>-207.501694</td>\n",
       "      <td>7764.555176</td>\n",
       "      <td>123.991264</td>\n",
       "      <td>560.259949</td>\n",
       "      <td>8.955127</td>\n",
       "      <td>572.810913</td>\n",
       "      <td>35.877647</td>\n",
       "      <td>264.506104</td>\n",
       "      <td>2.907320</td>\n",
       "      <td>279.932922</td>\n",
       "      <td>21.510466</td>\n",
       "      <td>156.477097</td>\n",
       "      <td>-8.560436</td>\n",
       "      <td>200.849182</td>\n",
       "      <td>23.370686</td>\n",
       "      <td>142.555954</td>\n",
       "      <td>-10.099661</td>\n",
       "      <td>166.108521</td>\n",
       "      <td>11.900497</td>\n",
       "      <td>104.358612</td>\n",
       "      <td>-5.555639</td>\n",
       "      <td>105.173630</td>\n",
       "      <td>5.376327</td>\n",
       "      <td>96.197212</td>\n",
       "      <td>-2.231760</td>\n",
       "      <td>64.914291</td>\n",
       "      <td>4.220140</td>\n",
       "      <td>73.152534</td>\n",
       "      <td>-6.012148</td>\n",
       "      <td>52.422142</td>\n",
       "      <td>0.927998</td>\n",
       "      <td>55.356403</td>\n",
       "      <td>-0.731125</td>\n",
       "      <td>60.314529</td>\n",
       "      <td>0.295073</td>\n",
       "      <td>48.120598</td>\n",
       "      <td>-0.283518</td>\n",
       "      <td>51.106190</td>\n",
       "      <td>0.531217</td>\n",
       "      <td>45.786282</td>\n",
       "      <td>blues</td>\n",
       "    </tr>\n",
       "    <tr>\n",
       "      <th>2</th>\n",
       "      <td>blues.00002.wav</td>\n",
       "      <td>661794</td>\n",
       "      <td>0.363637</td>\n",
       "      <td>0.085275</td>\n",
       "      <td>0.175570</td>\n",
       "      <td>0.002746</td>\n",
       "      <td>1552.811865</td>\n",
       "      <td>156467.643368</td>\n",
       "      <td>1747.702312</td>\n",
       "      <td>76254.192257</td>\n",
       "      <td>3042.260232</td>\n",
       "      <td>7.840345e+05</td>\n",
       "      <td>0.076291</td>\n",
       "      <td>0.001007</td>\n",
       "      <td>2.105576e-06</td>\n",
       "      <td>0.016342</td>\n",
       "      <td>-0.000019</td>\n",
       "      <td>0.007458</td>\n",
       "      <td>161.499023</td>\n",
       "      <td>-90.722595</td>\n",
       "      <td>3319.044922</td>\n",
       "      <td>140.446304</td>\n",
       "      <td>508.765045</td>\n",
       "      <td>-29.093889</td>\n",
       "      <td>411.781219</td>\n",
       "      <td>31.684334</td>\n",
       "      <td>144.090317</td>\n",
       "      <td>-13.984504</td>\n",
       "      <td>155.493759</td>\n",
       "      <td>25.764742</td>\n",
       "      <td>74.548401</td>\n",
       "      <td>-13.664875</td>\n",
       "      <td>106.981827</td>\n",
       "      <td>11.639934</td>\n",
       "      <td>106.574875</td>\n",
       "      <td>-11.783643</td>\n",
       "      <td>65.447945</td>\n",
       "      <td>9.718760</td>\n",
       "      <td>67.908859</td>\n",
       "      <td>-13.133803</td>\n",
       "      <td>57.781425</td>\n",
       "      <td>5.791199</td>\n",
       "      <td>64.480209</td>\n",
       "      <td>-8.907628</td>\n",
       "      <td>60.385151</td>\n",
       "      <td>-1.077000</td>\n",
       "      <td>57.711136</td>\n",
       "      <td>-9.229274</td>\n",
       "      <td>36.580986</td>\n",
       "      <td>2.451690</td>\n",
       "      <td>40.598766</td>\n",
       "      <td>-7.729093</td>\n",
       "      <td>47.639427</td>\n",
       "      <td>-1.816407</td>\n",
       "      <td>52.382141</td>\n",
       "      <td>-3.439720</td>\n",
       "      <td>46.639660</td>\n",
       "      <td>-2.231258</td>\n",
       "      <td>30.573025</td>\n",
       "      <td>blues</td>\n",
       "    </tr>\n",
       "    <tr>\n",
       "      <th>3</th>\n",
       "      <td>blues.00003.wav</td>\n",
       "      <td>661794</td>\n",
       "      <td>0.404785</td>\n",
       "      <td>0.093999</td>\n",
       "      <td>0.141093</td>\n",
       "      <td>0.006346</td>\n",
       "      <td>1070.106615</td>\n",
       "      <td>184355.942417</td>\n",
       "      <td>1596.412872</td>\n",
       "      <td>166441.494769</td>\n",
       "      <td>2184.745799</td>\n",
       "      <td>1.493194e+06</td>\n",
       "      <td>0.033309</td>\n",
       "      <td>0.000423</td>\n",
       "      <td>4.583644e-07</td>\n",
       "      <td>0.019054</td>\n",
       "      <td>-0.000014</td>\n",
       "      <td>0.002712</td>\n",
       "      <td>63.024009</td>\n",
       "      <td>-199.544205</td>\n",
       "      <td>5507.517090</td>\n",
       "      <td>150.090897</td>\n",
       "      <td>456.505402</td>\n",
       "      <td>5.662678</td>\n",
       "      <td>257.161163</td>\n",
       "      <td>26.859079</td>\n",
       "      <td>158.267303</td>\n",
       "      <td>1.771399</td>\n",
       "      <td>268.034393</td>\n",
       "      <td>14.234031</td>\n",
       "      <td>126.794128</td>\n",
       "      <td>-4.832006</td>\n",
       "      <td>155.912079</td>\n",
       "      <td>9.286494</td>\n",
       "      <td>81.273743</td>\n",
       "      <td>-0.759186</td>\n",
       "      <td>92.114090</td>\n",
       "      <td>8.137607</td>\n",
       "      <td>71.314079</td>\n",
       "      <td>-3.200653</td>\n",
       "      <td>110.236687</td>\n",
       "      <td>6.079319</td>\n",
       "      <td>48.251999</td>\n",
       "      <td>-2.480174</td>\n",
       "      <td>56.799400</td>\n",
       "      <td>-1.079305</td>\n",
       "      <td>62.289902</td>\n",
       "      <td>-2.870789</td>\n",
       "      <td>51.651592</td>\n",
       "      <td>0.780874</td>\n",
       "      <td>44.427753</td>\n",
       "      <td>-3.319597</td>\n",
       "      <td>50.206673</td>\n",
       "      <td>0.636965</td>\n",
       "      <td>37.319130</td>\n",
       "      <td>-0.619121</td>\n",
       "      <td>37.259739</td>\n",
       "      <td>-3.407448</td>\n",
       "      <td>31.949339</td>\n",
       "      <td>blues</td>\n",
       "    </tr>\n",
       "    <tr>\n",
       "      <th>4</th>\n",
       "      <td>blues.00004.wav</td>\n",
       "      <td>661794</td>\n",
       "      <td>0.308526</td>\n",
       "      <td>0.087841</td>\n",
       "      <td>0.091529</td>\n",
       "      <td>0.002303</td>\n",
       "      <td>1835.004266</td>\n",
       "      <td>343399.939274</td>\n",
       "      <td>1748.172116</td>\n",
       "      <td>88445.209036</td>\n",
       "      <td>3579.757627</td>\n",
       "      <td>1.572978e+06</td>\n",
       "      <td>0.101461</td>\n",
       "      <td>0.001954</td>\n",
       "      <td>-1.756129e-05</td>\n",
       "      <td>0.004814</td>\n",
       "      <td>-0.000010</td>\n",
       "      <td>0.003094</td>\n",
       "      <td>135.999178</td>\n",
       "      <td>-160.337708</td>\n",
       "      <td>5195.291992</td>\n",
       "      <td>126.219635</td>\n",
       "      <td>853.784729</td>\n",
       "      <td>-35.587811</td>\n",
       "      <td>333.792938</td>\n",
       "      <td>22.148071</td>\n",
       "      <td>193.456100</td>\n",
       "      <td>-32.478600</td>\n",
       "      <td>336.276825</td>\n",
       "      <td>10.852294</td>\n",
       "      <td>134.831573</td>\n",
       "      <td>-23.352329</td>\n",
       "      <td>93.257095</td>\n",
       "      <td>0.498434</td>\n",
       "      <td>124.672127</td>\n",
       "      <td>-11.793437</td>\n",
       "      <td>130.073349</td>\n",
       "      <td>1.207256</td>\n",
       "      <td>99.675575</td>\n",
       "      <td>-13.088418</td>\n",
       "      <td>80.254066</td>\n",
       "      <td>-2.813867</td>\n",
       "      <td>86.430626</td>\n",
       "      <td>-6.933385</td>\n",
       "      <td>89.555443</td>\n",
       "      <td>-7.552725</td>\n",
       "      <td>70.943336</td>\n",
       "      <td>-9.164666</td>\n",
       "      <td>75.793404</td>\n",
       "      <td>-4.520576</td>\n",
       "      <td>86.099236</td>\n",
       "      <td>-5.454034</td>\n",
       "      <td>75.269707</td>\n",
       "      <td>-0.916874</td>\n",
       "      <td>53.613918</td>\n",
       "      <td>-4.404827</td>\n",
       "      <td>62.910812</td>\n",
       "      <td>-11.703234</td>\n",
       "      <td>55.195160</td>\n",
       "      <td>blues</td>\n",
       "    </tr>\n",
       "  </tbody>\n",
       "</table>\n",
       "</div>"
      ],
      "text/plain": [
       "          filename  length  chroma_stft_mean  ...  mfcc20_mean  mfcc20_var  label\n",
       "0  blues.00000.wav  661794          0.350088  ...     1.221291   46.936035  blues\n",
       "1  blues.00001.wav  661794          0.340914  ...     0.531217   45.786282  blues\n",
       "2  blues.00002.wav  661794          0.363637  ...    -2.231258   30.573025  blues\n",
       "3  blues.00003.wav  661794          0.404785  ...    -3.407448   31.949339  blues\n",
       "4  blues.00004.wav  661794          0.308526  ...   -11.703234   55.195160  blues\n",
       "\n",
       "[5 rows x 60 columns]"
      ]
     },
     "execution_count": 3,
     "metadata": {},
     "output_type": "execute_result"
    }
   ],
   "source": [
    "# Accessing the features data in the csv file and assigning it to a dataframe\n",
    "df = pd.read_csv('/content/drive/MyDrive/CE4042/assignment/features_30_sec.csv')\n",
    "df.head()"
   ]
  },
  {
   "cell_type": "code",
   "execution_count": 4,
   "metadata": {
    "colab": {
     "base_uri": "https://localhost:8080/"
    },
    "executionInfo": {
     "elapsed": 6,
     "status": "ok",
     "timestamp": 1634196464598,
     "user": {
      "displayName": "Aishwarya Singh",
      "photoUrl": "https://lh3.googleusercontent.com/a-/AOh14GgrDt3XHTbi6lUxuRrKkBiFChJ6Iau-0J22gLWWrA=s64",
      "userId": "06952162984620525698"
     },
     "user_tz": -480
    },
    "id": "V0uiE-d7q6nW",
    "outputId": "a031eb1a-513b-4afa-aa2e-e010cb60db19"
   },
   "outputs": [
    {
     "data": {
      "text/plain": [
       "classical    100\n",
       "metal        100\n",
       "hiphop       100\n",
       "jazz         100\n",
       "country      100\n",
       "blues        100\n",
       "reggae       100\n",
       "disco        100\n",
       "pop          100\n",
       "rock         100\n",
       "Name: label, dtype: int64"
      ]
     },
     "execution_count": 4,
     "metadata": {},
     "output_type": "execute_result"
    }
   ],
   "source": [
    "# Check the value count of the output\n",
    "df['label'].value_counts()"
   ]
  },
  {
   "cell_type": "code",
   "execution_count": 5,
   "metadata": {
    "executionInfo": {
     "elapsed": 1,
     "status": "ok",
     "timestamp": 1634196466250,
     "user": {
      "displayName": "Aishwarya Singh",
      "photoUrl": "https://lh3.googleusercontent.com/a-/AOh14GgrDt3XHTbi6lUxuRrKkBiFChJ6Iau-0J22gLWWrA=s64",
      "userId": "06952162984620525698"
     },
     "user_tz": -480
    },
    "id": "-AOrj1Roq6nW"
   },
   "outputs": [],
   "source": [
    "# Prepare Train and Test Dataframes\n",
    "columns_to_drop = ['label','filename', 'length']\n",
    "\n",
    "def prepare_dataset(df, columns_to_drop, test_size, random_state):\n",
    "\n",
    "    # Encode the labels from 0 to n_classes-1  \n",
    "    label_encoder = preprocessing.LabelEncoder()\n",
    "    df['label'] = label_encoder.fit_transform(df['label'])\n",
    "  \n",
    "    # Divide data to train and test\n",
    "    df_train, df_test = train_test_split(df, test_size=test_size, random_state=random_state)\n",
    "    \n",
    "    # Scale the training inputs\n",
    "    x_train = df_train.drop(columns_to_drop,axis=1)\n",
    "    y_train = df_train['label'].to_numpy()\n",
    "    \n",
    "    standard_scaler = preprocessing.StandardScaler()\n",
    "    x_train_scaled = standard_scaler.fit_transform(x_train)\n",
    "\n",
    "    # Scale and prepare testing data\n",
    "    x_test = df_test.drop(columns_to_drop,axis=1)\n",
    "    x_test_scaled = standard_scaler.transform(x_test)\n",
    "    y_test = df_test['label'].to_numpy() \n",
    "  \n",
    "    return x_train_scaled, y_train, x_test_scaled, y_test"
   ]
  },
  {
   "cell_type": "code",
   "execution_count": 6,
   "metadata": {
    "colab": {
     "base_uri": "https://localhost:8080/"
    },
    "executionInfo": {
     "elapsed": 503,
     "status": "ok",
     "timestamp": 1634196467764,
     "user": {
      "displayName": "Aishwarya Singh",
      "photoUrl": "https://lh3.googleusercontent.com/a-/AOh14GgrDt3XHTbi6lUxuRrKkBiFChJ6Iau-0J22gLWWrA=s64",
      "userId": "06952162984620525698"
     },
     "user_tz": -480
    },
    "id": "bkOhhGaoq6nX",
    "outputId": "72a6f760-1fbd-47dc-a54e-3eaf5cc17ee0"
   },
   "outputs": [
    {
     "name": "stdout",
     "output_type": "stream",
     "text": [
      "(700, 57) (700,)\n",
      "(300, 57) (300,)\n"
     ]
    }
   ],
   "source": [
    "# Splitting the prepared dataframes (70% Training and 30% Test)\n",
    "X_train, y_train, X_test, y_test = prepare_dataset(df, columns_to_drop, test_size=0.3, random_state=0)\n",
    "\n",
    "print(X_train.shape, y_train.shape)\n",
    "print(X_test.shape, y_test.shape)"
   ]
  },
  {
   "cell_type": "markdown",
   "metadata": {
    "id": "f_dIzD3Yq6nX"
   },
   "source": [
    "### Model Training - Answering the question"
   ]
  },
  {
   "cell_type": "markdown",
   "metadata": {
    "id": "W36IpDVXq6nX"
   },
   "source": [
    "> **Question:** *Design a feedforward deep neural network (DNN) which consists of an input layer, one hidden layer of **16 neurons** with **ReLU activation function**,  and an **output softmax layer**. Use an **stochastic gradient descent** with **‘adam’ optimizer** with default parameters,and **batch size = 1**. Apply **dropout of probability 0.3** to the hidden layer.*"
   ]
  },
  {
   "cell_type": "code",
   "execution_count": 7,
   "metadata": {
    "executionInfo": {
     "elapsed": 487,
     "status": "ok",
     "timestamp": 1634196474418,
     "user": {
      "displayName": "Aishwarya Singh",
      "photoUrl": "https://lh3.googleusercontent.com/a-/AOh14GgrDt3XHTbi6lUxuRrKkBiFChJ6Iau-0J22gLWWrA=s64",
      "userId": "06952162984620525698"
     },
     "user_tz": -480
    },
    "id": "LAv0v8JJq6nX"
   },
   "outputs": [],
   "source": [
    "# Setting the given parameters for the model\n",
    "num_epochs = 50\n",
    "num_hidden = 16\n",
    "batch_size = 1\n",
    "num_labels = 10\n",
    "num_features = 57"
   ]
  },
  {
   "cell_type": "code",
   "execution_count": 8,
   "metadata": {
    "executionInfo": {
     "elapsed": 294,
     "status": "ok",
     "timestamp": 1634196476476,
     "user": {
      "displayName": "Aishwarya Singh",
      "photoUrl": "https://lh3.googleusercontent.com/a-/AOh14GgrDt3XHTbi6lUxuRrKkBiFChJ6Iau-0J22gLWWrA=s64",
      "userId": "06952162984620525698"
     },
     "user_tz": -480
    },
    "id": "c5Xk09Tmq6nY"
   },
   "outputs": [],
   "source": [
    "# Designing the model with the given parameters\n",
    "model = Sequential()\n",
    "model.add(Dropout(0.3))\n",
    "model.add(Dense(num_hidden, activation='relu'))\n",
    "model.add(Dense(num_labels, activation='softmax'))\n",
    "\n",
    "# Setting the loss to sparse_categorical_crossentropy as this is a classification problem\n",
    "model.compile(optimizer='adam',\n",
    "              loss='sparse_categorical_crossentropy',\n",
    "              metrics = ['accuracy'])"
   ]
  },
  {
   "cell_type": "markdown",
   "metadata": {
    "id": "dChsGJpMq6nY"
   },
   "source": [
    "#### a) Use the training dataset to train the model for 50 epochs. Note: Use 50 epochs for subsequent experiments."
   ]
  },
  {
   "cell_type": "code",
   "execution_count": null,
   "metadata": {
    "id": "Tatw5jfaq6nY",
    "outputId": "e6a73e66-cfaf-46dd-ac32-4e2388289e01",
    "scrolled": false
   },
   "outputs": [
    {
     "name": "stdout",
     "output_type": "stream",
     "text": [
      "Epoch 1/50\n",
      "700/700 [==============================] - 2s 1ms/step - loss: 2.1453 - accuracy: 0.2543 - val_loss: 1.7498 - val_accuracy: 0.3700\n",
      "Epoch 2/50\n",
      "700/700 [==============================] - 1s 883us/step - loss: 1.5593 - accuracy: 0.4671 - val_loss: 1.4644 - val_accuracy: 0.4767\n",
      "Epoch 3/50\n",
      "700/700 [==============================] - 1s 827us/step - loss: 1.3496 - accuracy: 0.5329 - val_loss: 1.2937 - val_accuracy: 0.5333\n",
      "Epoch 4/50\n",
      "700/700 [==============================] - 1s 824us/step - loss: 1.2184 - accuracy: 0.5871 - val_loss: 1.2277 - val_accuracy: 0.5533\n",
      "Epoch 5/50\n",
      "700/700 [==============================] - 1s 826us/step - loss: 1.1411 - accuracy: 0.5886 - val_loss: 1.1640 - val_accuracy: 0.5800\n",
      "Epoch 6/50\n",
      "700/700 [==============================] - 1s 840us/step - loss: 1.0636 - accuracy: 0.6343 - val_loss: 1.1491 - val_accuracy: 0.5733\n",
      "Epoch 7/50\n",
      "700/700 [==============================] - 1s 855us/step - loss: 1.0444 - accuracy: 0.6357 - val_loss: 1.1200 - val_accuracy: 0.5933\n",
      "Epoch 8/50\n",
      "700/700 [==============================] - 1s 832us/step - loss: 1.0031 - accuracy: 0.6329 - val_loss: 1.1126 - val_accuracy: 0.5900\n",
      "Epoch 9/50\n",
      "700/700 [==============================] - 1s 827us/step - loss: 0.9990 - accuracy: 0.6214 - val_loss: 1.1218 - val_accuracy: 0.6067\n",
      "Epoch 10/50\n",
      "700/700 [==============================] - 1s 856us/step - loss: 0.9838 - accuracy: 0.6414 - val_loss: 1.1018 - val_accuracy: 0.6100\n",
      "Epoch 11/50\n",
      "700/700 [==============================] - 1s 843us/step - loss: 0.9467 - accuracy: 0.6486 - val_loss: 1.1005 - val_accuracy: 0.6067\n",
      "Epoch 12/50\n",
      "700/700 [==============================] - 1s 827us/step - loss: 0.9126 - accuracy: 0.6757 - val_loss: 1.0799 - val_accuracy: 0.6300\n",
      "Epoch 13/50\n",
      "700/700 [==============================] - 1s 832us/step - loss: 0.8741 - accuracy: 0.7000 - val_loss: 1.0992 - val_accuracy: 0.6167\n",
      "Epoch 14/50\n",
      "700/700 [==============================] - 1s 831us/step - loss: 0.9004 - accuracy: 0.6700 - val_loss: 1.0448 - val_accuracy: 0.6233\n",
      "Epoch 15/50\n",
      "700/700 [==============================] - 1s 822us/step - loss: 0.8916 - accuracy: 0.6543 - val_loss: 1.0445 - val_accuracy: 0.6133\n",
      "Epoch 16/50\n",
      "700/700 [==============================] - 1s 935us/step - loss: 0.9166 - accuracy: 0.6914 - val_loss: 1.0306 - val_accuracy: 0.6233\n",
      "Epoch 17/50\n",
      "700/700 [==============================] - 1s 846us/step - loss: 0.8418 - accuracy: 0.6929 - val_loss: 1.0277 - val_accuracy: 0.6233\n",
      "Epoch 18/50\n",
      "700/700 [==============================] - 1s 834us/step - loss: 0.8312 - accuracy: 0.7143 - val_loss: 1.0313 - val_accuracy: 0.6267\n",
      "Epoch 19/50\n",
      "700/700 [==============================] - 1s 838us/step - loss: 0.8491 - accuracy: 0.7043 - val_loss: 1.0433 - val_accuracy: 0.6333\n",
      "Epoch 20/50\n",
      "700/700 [==============================] - 1s 825us/step - loss: 0.8538 - accuracy: 0.7057 - val_loss: 1.0217 - val_accuracy: 0.6333\n",
      "Epoch 21/50\n",
      "700/700 [==============================] - 1s 858us/step - loss: 0.8385 - accuracy: 0.6886 - val_loss: 1.0267 - val_accuracy: 0.6367\n",
      "Epoch 22/50\n",
      "700/700 [==============================] - 1s 843us/step - loss: 0.8398 - accuracy: 0.6871 - val_loss: 1.0610 - val_accuracy: 0.6233\n",
      "Epoch 23/50\n",
      "700/700 [==============================] - 1s 821us/step - loss: 0.8068 - accuracy: 0.7029 - val_loss: 1.0294 - val_accuracy: 0.6333\n",
      "Epoch 24/50\n",
      "700/700 [==============================] - 1s 830us/step - loss: 0.8380 - accuracy: 0.7014 - val_loss: 1.0384 - val_accuracy: 0.6467\n",
      "Epoch 25/50\n",
      "700/700 [==============================] - 1s 845us/step - loss: 0.7929 - accuracy: 0.7086 - val_loss: 1.0483 - val_accuracy: 0.6267\n",
      "Epoch 26/50\n",
      "700/700 [==============================] - 1s 838us/step - loss: 0.8076 - accuracy: 0.7100 - val_loss: 1.0489 - val_accuracy: 0.6367\n",
      "Epoch 27/50\n",
      "700/700 [==============================] - 1s 844us/step - loss: 0.8235 - accuracy: 0.7229 - val_loss: 1.0618 - val_accuracy: 0.6333\n",
      "Epoch 28/50\n",
      "700/700 [==============================] - 1s 935us/step - loss: 0.7716 - accuracy: 0.7186 - val_loss: 1.0552 - val_accuracy: 0.6233\n",
      "Epoch 29/50\n",
      "700/700 [==============================] - 1s 835us/step - loss: 0.7786 - accuracy: 0.7114 - val_loss: 1.0704 - val_accuracy: 0.6200\n",
      "Epoch 30/50\n",
      "700/700 [==============================] - 1s 889us/step - loss: 0.8220 - accuracy: 0.7100 - val_loss: 1.0200 - val_accuracy: 0.6300\n",
      "Epoch 31/50\n",
      "700/700 [==============================] - 1s 858us/step - loss: 0.7384 - accuracy: 0.7400 - val_loss: 1.0151 - val_accuracy: 0.6367\n",
      "Epoch 32/50\n",
      "700/700 [==============================] - 1s 834us/step - loss: 0.7628 - accuracy: 0.7357 - val_loss: 1.0274 - val_accuracy: 0.6300\n",
      "Epoch 33/50\n",
      "700/700 [==============================] - 1s 822us/step - loss: 0.8121 - accuracy: 0.7214 - val_loss: 1.0522 - val_accuracy: 0.6400\n",
      "Epoch 34/50\n",
      "700/700 [==============================] - 1s 839us/step - loss: 0.7610 - accuracy: 0.7186 - val_loss: 1.0590 - val_accuracy: 0.6200\n",
      "Epoch 35/50\n",
      "700/700 [==============================] - 1s 845us/step - loss: 0.7454 - accuracy: 0.7386 - val_loss: 1.0546 - val_accuracy: 0.6267\n",
      "Epoch 36/50\n",
      "700/700 [==============================] - 1s 836us/step - loss: 0.7704 - accuracy: 0.7300 - val_loss: 1.0597 - val_accuracy: 0.6567\n",
      "Epoch 37/50\n",
      "700/700 [==============================] - 1s 830us/step - loss: 0.7353 - accuracy: 0.7429 - val_loss: 1.0144 - val_accuracy: 0.6400\n",
      "Epoch 38/50\n",
      "700/700 [==============================] - 1s 897us/step - loss: 0.7375 - accuracy: 0.7414 - val_loss: 1.0196 - val_accuracy: 0.6300\n",
      "Epoch 39/50\n",
      "700/700 [==============================] - 1s 816us/step - loss: 0.7232 - accuracy: 0.7329 - val_loss: 1.0447 - val_accuracy: 0.6233\n",
      "Epoch 40/50\n",
      "700/700 [==============================] - 1s 806us/step - loss: 0.7344 - accuracy: 0.7414 - val_loss: 1.0220 - val_accuracy: 0.6467\n",
      "Epoch 41/50\n",
      "700/700 [==============================] - 1s 835us/step - loss: 0.7448 - accuracy: 0.7386 - val_loss: 1.0231 - val_accuracy: 0.6500\n",
      "Epoch 42/50\n",
      "700/700 [==============================] - 1s 824us/step - loss: 0.7448 - accuracy: 0.7429 - val_loss: 1.0103 - val_accuracy: 0.6533\n",
      "Epoch 43/50\n",
      "700/700 [==============================] - 1s 883us/step - loss: 0.7395 - accuracy: 0.7400 - val_loss: 1.0227 - val_accuracy: 0.6567\n",
      "Epoch 44/50\n",
      "700/700 [==============================] - 1s 836us/step - loss: 0.7264 - accuracy: 0.7457 - val_loss: 1.0320 - val_accuracy: 0.6667\n",
      "Epoch 45/50\n",
      "700/700 [==============================] - 1s 809us/step - loss: 0.7729 - accuracy: 0.7314 - val_loss: 1.0359 - val_accuracy: 0.6500\n",
      "Epoch 46/50\n",
      "700/700 [==============================] - 1s 884us/step - loss: 0.7540 - accuracy: 0.7414 - val_loss: 1.0254 - val_accuracy: 0.6533\n",
      "Epoch 47/50\n",
      "700/700 [==============================] - 1s 835us/step - loss: 0.7539 - accuracy: 0.7214 - val_loss: 1.0211 - val_accuracy: 0.6567\n",
      "Epoch 48/50\n",
      "700/700 [==============================] - 1s 859us/step - loss: 0.7746 - accuracy: 0.7200 - val_loss: 1.0374 - val_accuracy: 0.6400\n",
      "Epoch 49/50\n",
      "700/700 [==============================] - ETA: 0s - loss: 0.7683 - accuracy: 0.71 - 1s 843us/step - loss: 0.7574 - accuracy: 0.7243 - val_loss: 1.0566 - val_accuracy: 0.6400\n",
      "Epoch 50/50\n",
      "700/700 [==============================] - 1s 874us/step - loss: 0.7153 - accuracy: 0.7371 - val_loss: 1.0542 - val_accuracy: 0.6600\n"
     ]
    }
   ],
   "source": [
    "# Training the model\n",
    "history = model.fit(X_train, y_train, \n",
    "                    epochs=num_epochs, \n",
    "                    batch_size=batch_size, \n",
    "                    validation_data=(X_test, y_test))"
   ]
  },
  {
   "cell_type": "markdown",
   "metadata": {
    "id": "8oxImYTrq6nY"
   },
   "source": [
    "#### b) Plot accuracies on training and test data against training epochs and comment on the plots."
   ]
  },
  {
   "cell_type": "code",
   "execution_count": null,
   "metadata": {
    "id": "DDzWy_jiq6nZ",
    "outputId": "0faf2357-fff6-4ca3-89cb-7449859ec09b"
   },
   "outputs": [
    {
     "data": {
      "image/png": "[encoded data removed]",
      "text/plain": [
       "<Figure size 432x288 with 1 Axes>"
      ]
     },
     "metadata": {
      "needs_background": "light"
     },
     "output_type": "display_data"
    }
   ],
   "source": [
    "# Plotting the Model Accuracy\n",
    "plt.plot(history.history['accuracy'])\n",
    "plt.plot(history.history['val_accuracy'])\n",
    "plt.title('Model Accuracy - Part A Question 1b')\n",
    "plt.ylabel('Accuracy')\n",
    "plt.xlabel('Epochs')\n",
    "plt.legend(['train', 'test'], loc='upper left')\n",
    "plt.savefig('./Figures/PartAQuestion1-1.png')"
   ]
  },
  {
   "cell_type": "markdown",
   "metadata": {
    "id": "5sDbAdqYq6nZ"
   },
   "source": [
    "> **Comment on the plots:** *The accuracy for both the train and test plots do not seem to be stabalising for upto 50 epochs according to the plot. In fact, towards the end of 50 epochs, the train and test accuracy plots are seen to be slightly increasing. In addition to this, there is an indication of overfitting given the gap between the train and test plots. The greater the gap between the two, the greater the model has overfit.*"
   ]
  },
  {
   "cell_type": "markdown",
   "metadata": {
    "id": "RinP_VNPq6nZ"
   },
   "source": [
    "#### c) Plot the losses on training and test data against training epochs. State the approximate number of epochs where the test error begins to converge."
   ]
  },
  {
   "cell_type": "code",
   "execution_count": null,
   "metadata": {
    "id": "cy-o_hx8q6nZ",
    "outputId": "825b3ae6-3ac5-40fc-c6eb-f647fed7e953"
   },
   "outputs": [
    {
     "data": {
      "image/png": "[encoded data removed]",
      "text/plain": [
       "<Figure size 432x288 with 1 Axes>"
      ]
     },
     "metadata": {
      "needs_background": "light"
     },
     "output_type": "display_data"
    }
   ],
   "source": [
    "# Plotting the Model Loss\n",
    "plt.plot(history.history['loss'])\n",
    "plt.plot(history.history['val_loss'])\n",
    "plt.title('Model Loss - Part A Question 1c')\n",
    "plt.ylabel('Loss')\n",
    "plt.xlabel('Epochs')\n",
    "plt.legend(['train', 'test'], loc='upper left')\n",
    "plt.savefig('./Figures/PartAQuestion1-2.png')"
   ]
  },
  {
   "cell_type": "markdown",
   "metadata": {
    "id": "muYyhG4Jq6na"
   },
   "source": [
    "> **Number of Epochs the Test Error begins to converge:** *After about 15 epochs the Test Error begins to converge*"
   ]
  },
  {
   "cell_type": "markdown",
   "metadata": {
    "id": "_v_q4mtMq6na"
   },
   "source": [
    "### Conclusion\n",
    "> Both the accuracy and loss plots for the training epochs seem to suggest some overfitting of the model. There is a considerable gap between the train and test loss curves. In addition to this, it can also be observed that the loss curve for test increases over the course of the epochs."
   ]
  }
 ],
 "metadata": {
  "colab": {
   "collapsed_sections": [],
   "name": "Part-A-Question-1.ipynb",
   "provenance": []
  },
  "kernelspec": {
   "display_name": "Python 3",
   "language": "python",
   "name": "python3"
  },
  "language_info": {
   "codemirror_mode": {
    "name": "ipython",
    "version": 3
   },
   "file_extension": ".py",
   "mimetype": "text/x-python",
   "name": "python",
   "nbconvert_exporter": "python",
   "pygments_lexer": "ipython3",
   "version": "3.8.5"
  }
 },
 "nbformat": 4,
 "nbformat_minor": 1
}
