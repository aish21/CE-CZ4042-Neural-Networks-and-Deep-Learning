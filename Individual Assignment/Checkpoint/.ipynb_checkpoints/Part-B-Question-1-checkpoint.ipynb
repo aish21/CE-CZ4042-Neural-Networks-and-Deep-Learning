{
 "cells": [
  {
   "cell_type": "markdown",
   "metadata": {
    "id": "s8KxDU3xt_7d"
   },
   "source": [
    "# Individual Assignment - Submission\n",
    "\n",
    "> - **Course:** *CE/CZ 4042 - Neural Networks and Deep Learning* \n",
    "> - **Name:** *Singh Aishwarya*\n",
    "> - **Matriculation Number:** *U1923952C*\n",
    "> - **Part:** *B - Regression Problem*\n",
    "> - **Question:** *1*"
   ]
  },
  {
   "cell_type": "markdown",
   "metadata": {
    "id": "5oAvwr92t_7e"
   },
   "source": [
    "### Necessary Imports + Environment Setting"
   ]
  },
  {
   "cell_type": "code",
   "execution_count": 1,
   "metadata": {
    "colab": {
     "base_uri": "https://localhost:8080/"
    },
    "executionInfo": {
     "elapsed": 19872,
     "status": "ok",
     "timestamp": 1634196914548,
     "user": {
      "displayName": "Aishwarya Singh",
      "photoUrl": "https://lh3.googleusercontent.com/a-/AOh14GgrDt3XHTbi6lUxuRrKkBiFChJ6Iau-0J22gLWWrA=s64",
      "userId": "06952162984620525698"
     },
     "user_tz": -480
    },
    "id": "aEg1KuVUuXbi",
    "outputId": "f5c5b66e-4cc0-4c7a-d5a5-d9383fb1a598"
   },
   "outputs": [
    {
     "name": "stdout",
     "output_type": "stream",
     "text": [
      "Mounted at /content/drive\n"
     ]
    }
   ],
   "source": [
    "from google.colab import drive\n",
    "drive.mount('/content/drive')"
   ]
  },
  {
   "cell_type": "code",
   "execution_count": 2,
   "metadata": {
    "executionInfo": {
     "elapsed": 1883,
     "status": "ok",
     "timestamp": 1634196967031,
     "user": {
      "displayName": "Aishwarya Singh",
      "photoUrl": "https://lh3.googleusercontent.com/a-/AOh14GgrDt3XHTbi6lUxuRrKkBiFChJ6Iau-0J22gLWWrA=s64",
      "userId": "06952162984620525698"
     },
     "user_tz": -480
    },
    "id": "T_TJ88IQt_7e"
   },
   "outputs": [],
   "source": [
    "# Setting the seed here is sufficient. \n",
    "# If you don't plan to use these starter code, make sure you add this cell.\n",
    "\n",
    "SEED = 42\n",
    "\n",
    "import os\n",
    "os.environ['TF_CUDNN_DETERMINISTIC'] = '1'\n",
    "\n",
    "import random \n",
    "random.seed(SEED)\n",
    "\n",
    "import numpy as np\n",
    "np.random.seed(SEED)\n",
    "\n",
    "import tensorflow as tf\n",
    "tf.random.set_seed(SEED)"
   ]
  },
  {
   "cell_type": "code",
   "execution_count": 3,
   "metadata": {
    "executionInfo": {
     "elapsed": 805,
     "status": "ok",
     "timestamp": 1634196970291,
     "user": {
      "displayName": "Aishwarya Singh",
      "photoUrl": "https://lh3.googleusercontent.com/a-/AOh14GgrDt3XHTbi6lUxuRrKkBiFChJ6Iau-0J22gLWWrA=s64",
      "userId": "06952162984620525698"
     },
     "user_tz": -480
    },
    "id": "E0vzaTCMt_7f"
   },
   "outputs": [],
   "source": [
    "from tensorflow import keras\n",
    "from tensorflow.keras import layers\n",
    "from tensorflow.keras.layers import Normalization, StringLookup, IntegerLookup\n",
    "import pandas as pd\n",
    "from tensorflow.keras import metrics\n",
    "import pydot\n",
    "import graphviz\n",
    "from keras.utils.vis_utils import plot_model\n",
    "import matplotlib.pyplot as plt\n",
    "from tensorflow.python.keras.metrics import Metric\n",
    "import tensorflow as tf\n",
    "from keras import backend as K"
   ]
  },
  {
   "cell_type": "markdown",
   "metadata": {
    "id": "LRmBIcIQt_7f"
   },
   "source": [
    "### Data Retrieval + Defining Important Functions"
   ]
  },
  {
   "cell_type": "code",
   "execution_count": 5,
   "metadata": {
    "colab": {
     "base_uri": "https://localhost:8080/",
     "height": 202
    },
    "executionInfo": {
     "elapsed": 1084,
     "status": "ok",
     "timestamp": 1634196990163,
     "user": {
      "displayName": "Aishwarya Singh",
      "photoUrl": "https://lh3.googleusercontent.com/a-/AOh14GgrDt3XHTbi6lUxuRrKkBiFChJ6Iau-0J22gLWWrA=s64",
      "userId": "06952162984620525698"
     },
     "user_tz": -480
    },
    "id": "KLlEYoLUt_7f",
    "outputId": "7f967b7b-d7e1-4806-cf24-7ee94cc1e749"
   },
   "outputs": [
    {
     "data": {
      "text/html": [
       "<div>\n",
       "<style scoped>\n",
       "    .dataframe tbody tr th:only-of-type {\n",
       "        vertical-align: middle;\n",
       "    }\n",
       "\n",
       "    .dataframe tbody tr th {\n",
       "        vertical-align: top;\n",
       "    }\n",
       "\n",
       "    .dataframe thead th {\n",
       "        text-align: right;\n",
       "    }\n",
       "</style>\n",
       "<table border=\"1\" class=\"dataframe\">\n",
       "  <thead>\n",
       "    <tr style=\"text-align: right;\">\n",
       "      <th></th>\n",
       "      <th>month</th>\n",
       "      <th>year</th>\n",
       "      <th>full_address</th>\n",
       "      <th>nearest_stn</th>\n",
       "      <th>dist_to_nearest_stn</th>\n",
       "      <th>dist_to_dhoby</th>\n",
       "      <th>degree_centrality</th>\n",
       "      <th>eigenvector_centrality</th>\n",
       "      <th>flat_model_type</th>\n",
       "      <th>remaining_lease_years</th>\n",
       "      <th>floor_area_sqm</th>\n",
       "      <th>storey_range</th>\n",
       "      <th>resale_price</th>\n",
       "    </tr>\n",
       "  </thead>\n",
       "  <tbody>\n",
       "    <tr>\n",
       "      <th>0</th>\n",
       "      <td>1</td>\n",
       "      <td>2017</td>\n",
       "      <td>406 ANG MO KIO AVENUE 10</td>\n",
       "      <td>Ang Mo Kio</td>\n",
       "      <td>1.007264</td>\n",
       "      <td>7.006044</td>\n",
       "      <td>0.016807</td>\n",
       "      <td>0.006243</td>\n",
       "      <td>2 ROOM, Improved</td>\n",
       "      <td>61.333333</td>\n",
       "      <td>44.0</td>\n",
       "      <td>10 TO 12</td>\n",
       "      <td>232000.0</td>\n",
       "    </tr>\n",
       "    <tr>\n",
       "      <th>1</th>\n",
       "      <td>1</td>\n",
       "      <td>2017</td>\n",
       "      <td>108 ANG MO KIO AVENUE 4</td>\n",
       "      <td>Ang Mo Kio</td>\n",
       "      <td>1.271389</td>\n",
       "      <td>7.983837</td>\n",
       "      <td>0.016807</td>\n",
       "      <td>0.006243</td>\n",
       "      <td>3 ROOM, New Generation</td>\n",
       "      <td>60.583333</td>\n",
       "      <td>67.0</td>\n",
       "      <td>01 TO 03</td>\n",
       "      <td>250000.0</td>\n",
       "    </tr>\n",
       "    <tr>\n",
       "      <th>2</th>\n",
       "      <td>1</td>\n",
       "      <td>2017</td>\n",
       "      <td>602 ANG MO KIO AVENUE 5</td>\n",
       "      <td>Yio Chu Kang</td>\n",
       "      <td>1.069743</td>\n",
       "      <td>9.090700</td>\n",
       "      <td>0.016807</td>\n",
       "      <td>0.002459</td>\n",
       "      <td>3 ROOM, New Generation</td>\n",
       "      <td>62.416667</td>\n",
       "      <td>67.0</td>\n",
       "      <td>01 TO 03</td>\n",
       "      <td>262000.0</td>\n",
       "    </tr>\n",
       "    <tr>\n",
       "      <th>3</th>\n",
       "      <td>1</td>\n",
       "      <td>2017</td>\n",
       "      <td>465 ANG MO KIO AVENUE 10</td>\n",
       "      <td>Ang Mo Kio</td>\n",
       "      <td>0.946890</td>\n",
       "      <td>7.519889</td>\n",
       "      <td>0.016807</td>\n",
       "      <td>0.006243</td>\n",
       "      <td>3 ROOM, New Generation</td>\n",
       "      <td>62.083333</td>\n",
       "      <td>68.0</td>\n",
       "      <td>04 TO 06</td>\n",
       "      <td>265000.0</td>\n",
       "    </tr>\n",
       "    <tr>\n",
       "      <th>4</th>\n",
       "      <td>1</td>\n",
       "      <td>2017</td>\n",
       "      <td>601 ANG MO KIO AVENUE 5</td>\n",
       "      <td>Yio Chu Kang</td>\n",
       "      <td>1.092551</td>\n",
       "      <td>9.130489</td>\n",
       "      <td>0.016807</td>\n",
       "      <td>0.002459</td>\n",
       "      <td>3 ROOM, New Generation</td>\n",
       "      <td>62.416667</td>\n",
       "      <td>67.0</td>\n",
       "      <td>01 TO 03</td>\n",
       "      <td>265000.0</td>\n",
       "    </tr>\n",
       "  </tbody>\n",
       "</table>\n",
       "</div>"
      ],
      "text/plain": [
       "   month  year  ... storey_range resale_price\n",
       "0      1  2017  ...     10 TO 12     232000.0\n",
       "1      1  2017  ...     01 TO 03     250000.0\n",
       "2      1  2017  ...     01 TO 03     262000.0\n",
       "3      1  2017  ...     04 TO 06     265000.0\n",
       "4      1  2017  ...     01 TO 03     265000.0\n",
       "\n",
       "[5 rows x 13 columns]"
      ]
     },
     "execution_count": 5,
     "metadata": {},
     "output_type": "execute_result"
    }
   ],
   "source": [
    "df = pd.read_csv('/content/drive/MyDrive/CE4042/assignment/hdb_price_prediction.csv')\n",
    "df.head()"
   ]
  },
  {
   "cell_type": "code",
   "execution_count": 6,
   "metadata": {
    "executionInfo": {
     "elapsed": 1,
     "status": "ok",
     "timestamp": 1634196992673,
     "user": {
      "displayName": "Aishwarya Singh",
      "photoUrl": "https://lh3.googleusercontent.com/a-/AOh14GgrDt3XHTbi6lUxuRrKkBiFChJ6Iau-0J22gLWWrA=s64",
      "userId": "06952162984620525698"
     },
     "user_tz": -480
    },
    "id": "05HM7tGkt_7g"
   },
   "outputs": [],
   "source": [
    "def dataframe_to_dataset(dataframe):\n",
    "    dataframe = dataframe.copy()\n",
    "    labels = dataframe.pop(\"resale_price\")\n",
    "    ds = tf.data.Dataset.from_tensor_slices((dict(dataframe), labels))\n",
    "    ds = ds.shuffle(buffer_size=len(dataframe))\n",
    "    return ds\n",
    "\n",
    "\n",
    "def encode_numerical_feature(feature, name, dataset):\n",
    "    # Create a Normalization layer for our feature\n",
    "    normalizer = Normalization()\n",
    "\n",
    "    # Prepare a Dataset that only yields our feature\n",
    "    feature_ds = dataset.map(lambda x, y: x[name])\n",
    "    feature_ds = feature_ds.map(lambda x: tf.expand_dims(x, -1))\n",
    "\n",
    "    # Learn the statistics of the data\n",
    "    normalizer.adapt(feature_ds)\n",
    "\n",
    "    # Normalize the input feature\n",
    "    encoded_feature = normalizer(feature)\n",
    "    return encoded_feature\n",
    "\n",
    "\n",
    "def encode_categorical_feature(feature, name, dataset, is_string):\n",
    "    lookup_class = StringLookup if is_string else IntegerLookup\n",
    "    # Create a lookup layer which will turn strings into integer indices\n",
    "    lookup = lookup_class(output_mode=\"binary\") # NOTE: as mentioned in the question paper, this actually does one-hot encoding. You could replace 'binary' with 'one_hot' if you wish to.\n",
    "\n",
    "    # Prepare a Dataset that only yields our feature\n",
    "    feature_ds = dataset.map(lambda x, y: x[name])\n",
    "    feature_ds = feature_ds.map(lambda x: tf.expand_dims(x, -1))\n",
    "\n",
    "    # Learn the set of possible string values and assign them a fixed integer index\n",
    "    lookup.adapt(feature_ds)\n",
    "\n",
    "    # Turn the string input into integer indices\n",
    "    encoded_feature = lookup(feature)\n",
    "    return encoded_feature\n"
   ]
  },
  {
   "cell_type": "markdown",
   "metadata": {
    "id": "LK0pMySTt_7g"
   },
   "source": [
    "### Model Training - Answering the question"
   ]
  },
  {
   "cell_type": "markdown",
   "metadata": {
    "id": "JDzvI2NAt_7h"
   },
   "source": [
    "> **Question:** *Real world datasets often contain a mix of numeric and categorical features–this dataset is one such example. Modelling such a mix of feature types with neural networks requires some modifications to the input layer.*"
   ]
  },
  {
   "cell_type": "markdown",
   "metadata": {
    "id": "oDSuaGVut_7h"
   },
   "source": [
    "#### a) Divide the dataset (‘HDB_price_prediction.csv’) into train and test sets by using entries from year 2020 and before as training data (with the remaining data from year 2021 used as test data). Why is this done instead of random train/test splits?"
   ]
  },
  {
   "cell_type": "code",
   "execution_count": 7,
   "metadata": {
    "executionInfo": {
     "elapsed": 502,
     "status": "ok",
     "timestamp": 1634196996165,
     "user": {
      "displayName": "Aishwarya Singh",
      "photoUrl": "https://lh3.googleusercontent.com/a-/AOh14GgrDt3XHTbi6lUxuRrKkBiFChJ6Iau-0J22gLWWrA=s64",
      "userId": "06952162984620525698"
     },
     "user_tz": -480
    },
    "id": "8I9J8Ku0t_7h"
   },
   "outputs": [],
   "source": [
    "# Split into train and test datasets based on the condition given\n",
    "train_dataframe = df[df['year'] <= 2020] \n",
    "test_dataframe = df[df['year'] > 2020]\n",
    "\n",
    "train_ds = dataframe_to_dataset(train_dataframe)\n",
    "test_ds = dataframe_to_dataset(test_dataframe)\n",
    "\n",
    "# Create Batches\n",
    "train_ds = train_ds.batch(128)\n",
    "test_ds = test_ds.batch(128)"
   ]
  },
  {
   "cell_type": "markdown",
   "metadata": {
    "id": "e3fp0T8Lt_7i"
   },
   "source": [
    "> **Why?** *A test dataset's actual goal is to estimate how well a classifier will perform in future production scenarios. We do not test the classifier on training data because training error has a large unwanted upward score bias: it is simple to identify classifiers that perform well on training but do not perform well on future data. The error on test data — data that the classifier has never seen before — is intended to provide a more accurate prediction of the model's future performance. The fundamental assumption of adopting a random test/train split is that future data is interchangeable with past data: that is, the relevant variables will be distributed in the same way, such that training data is a good estimate of test data — and test data is a good estimate of future data. However, owing to time constraints, the data is not exchangeable in many fields (in this HDB example). In these cases, a random test/train split will result in test data that is too similar to the training data and not enough like future data. This has the effect of making a classifier appear better than it is, so you can't be certain that your testing method has removed faulty classifiers. In fact, you may unintentionally remove a good classifier in favor of a weaker one that outperforms it in this simulated circumstance.*"
   ]
  },
  {
   "cell_type": "markdown",
   "metadata": {
    "id": "E1HKsaANt_7i"
   },
   "source": [
    "#### b) Design  a 2-layer  feedforward  neural  network consisting of an input layer, a hidden layer (10 neurons, ReLU as activation function), and a linear output layer. One-hot encoding should be applied to  categorical  features  and  numeric  features  are  standardised.  After encoding / standardisation, the input features should be concatenated. "
   ]
  },
  {
   "cell_type": "code",
   "execution_count": 8,
   "metadata": {
    "executionInfo": {
     "elapsed": 13262,
     "status": "ok",
     "timestamp": 1634197010969,
     "user": {
      "displayName": "Aishwarya Singh",
      "photoUrl": "https://lh3.googleusercontent.com/a-/AOh14GgrDt3XHTbi6lUxuRrKkBiFChJ6Iau-0J22gLWWrA=s64",
      "userId": "06952162984620525698"
     },
     "user_tz": -480
    },
    "id": "bSuO_pRtt_7i"
   },
   "outputs": [],
   "source": [
    "# One-hot encoding + Standardization of features\n",
    "\n",
    "# Categorical features encoded as integers\n",
    "month = keras.Input(shape=(1,), name=\"month\", dtype=\"int64\")\n",
    "month_encoded = encode_categorical_feature(month, \"month\", train_ds, False)\n",
    "\n",
    "# Categorical feature encoded as string\n",
    "flat_model_type = keras.Input(shape=(1,), name=\"flat_model_type\", dtype=\"string\")\n",
    "flat_model_type_encoded = encode_categorical_feature(flat_model_type, \"flat_model_type\", train_ds, True)\n",
    "\n",
    "storey_range = keras.Input(shape=(1,), name=\"storey_range\", dtype=\"string\")\n",
    "storey_range_encoded = encode_categorical_feature(storey_range, \"storey_range\", train_ds, True)\n",
    "\n",
    "# Numerical features\n",
    "floor_area_sqm = keras.Input(shape=(1,), name=\"floor_area_sqm\")\n",
    "floor_area_sqm_encoded = encode_numerical_feature(floor_area_sqm, \"floor_area_sqm\", train_ds)\n",
    "\n",
    "dist_to_nearest_stn = keras.Input(shape=(1,), name=\"dist_to_nearest_stn\")\n",
    "dist_to_nearest_stn_encoded = encode_numerical_feature(dist_to_nearest_stn, \"dist_to_nearest_stn\", train_ds)\n",
    "\n",
    "dist_to_dhoby = keras.Input(shape=(1,), name=\"dist_to_dhoby\")\n",
    "dist_to_dhoby_encoded = encode_numerical_feature(dist_to_dhoby, \"dist_to_dhoby\", train_ds)\n",
    "\n",
    "degree_centrality = keras.Input(shape=(1,), name=\"degree_centrality\")\n",
    "degree_centrality_encoded = encode_numerical_feature(degree_centrality, \"degree_centrality\", train_ds)\n",
    "\n",
    "eigenvector_centrality = keras.Input(shape=(1,), name=\"eigenvector_centrality\")\n",
    "eigenvector_centrality_encoded = encode_numerical_feature(eigenvector_centrality, \"eigenvector_centrality\", train_ds)\n",
    "\n",
    "remaining_lease_years = keras.Input(shape=(1,), name=\"remaining_lease_years\")\n",
    "remaining_lease_years_encoded = encode_numerical_feature(remaining_lease_years, \"remaining_lease_years\", train_ds)\n",
    "\n",
    "all_inputs = [\n",
    "    month,\n",
    "    flat_model_type,\n",
    "    storey_range,\n",
    "    floor_area_sqm,\n",
    "    dist_to_nearest_stn,\n",
    "    dist_to_dhoby,\n",
    "    degree_centrality,\n",
    "    eigenvector_centrality,\n",
    "    remaining_lease_years\n",
    "]\n",
    "\n",
    "all_features = layers.concatenate(\n",
    "    [\n",
    "        month_encoded,\n",
    "        flat_model_type_encoded,\n",
    "        floor_area_sqm_encoded,\n",
    "        dist_to_nearest_stn_encoded,\n",
    "        storey_range_encoded,\n",
    "        dist_to_dhoby_encoded,\n",
    "        degree_centrality_encoded,\n",
    "        eigenvector_centrality_encoded,\n",
    "        remaining_lease_years_encoded,\n",
    "    ]\n",
    ")"
   ]
  },
  {
   "cell_type": "code",
   "execution_count": 9,
   "metadata": {
    "executionInfo": {
     "elapsed": 3,
     "status": "ok",
     "timestamp": 1634197010970,
     "user": {
      "displayName": "Aishwarya Singh",
      "photoUrl": "https://lh3.googleusercontent.com/a-/AOh14GgrDt3XHTbi6lUxuRrKkBiFChJ6Iau-0J22gLWWrA=s64",
      "userId": "06952162984620525698"
     },
     "user_tz": -480
    },
    "id": "4VR9TValt_7i"
   },
   "outputs": [],
   "source": [
    "# Define R2 Score\n",
    "def r2Score(y_true, y_pred):\n",
    "    SS_res = K.sum(K.square(y_true - y_pred))\n",
    "    SS_tot = K.sum(K.square(y_true - K.mean(y_true)))\n",
    "    return (1 - SS_res/(SS_tot + K.epsilon()))"
   ]
  },
  {
   "cell_type": "markdown",
   "metadata": {
    "id": "x02KP1Hr4SNn"
   },
   "source": [
    "#### c) On the training data, train the model for 100 epochs using mini-batch gradient descent with batch size = 128, Use ‘adam’ optimiser with a learning rate of 𝛼 = 0.05 and mean square error as cost function"
   ]
  },
  {
   "cell_type": "code",
   "execution_count": 10,
   "metadata": {
    "executionInfo": {
     "elapsed": 3,
     "status": "ok",
     "timestamp": 1634197010971,
     "user": {
      "displayName": "Aishwarya Singh",
      "photoUrl": "https://lh3.googleusercontent.com/a-/AOh14GgrDt3XHTbi6lUxuRrKkBiFChJ6Iau-0J22gLWWrA=s64",
      "userId": "06952162984620525698"
     },
     "user_tz": -480
    },
    "id": "pb8t-tYFt_7j"
   },
   "outputs": [],
   "source": [
    "# Feedforward network with one hidden layer\n",
    "x = layers.Dense(10, activation=\"relu\")(all_features)\n",
    "output = layers.Dense(1, activation=\"linear\")(x)"
   ]
  },
  {
   "cell_type": "code",
   "execution_count": 11,
   "metadata": {
    "executionInfo": {
     "elapsed": 3,
     "status": "ok",
     "timestamp": 1634197010971,
     "user": {
      "displayName": "Aishwarya Singh",
      "photoUrl": "https://lh3.googleusercontent.com/a-/AOh14GgrDt3XHTbi6lUxuRrKkBiFChJ6Iau-0J22gLWWrA=s64",
      "userId": "06952162984620525698"
     },
     "user_tz": -480
    },
    "id": "RFV1LJ6Rt_7j"
   },
   "outputs": [],
   "source": [
    "# Build the model\n",
    "model = keras.Model(all_inputs, output)\n",
    "opt = keras.optimizers.Adam(learning_rate=0.05)\n",
    "model.compile(optimizer=opt,\n",
    "              loss='mse',\n",
    "              metrics = [tf.keras.metrics.RootMeanSquaredError(name='rmse'), r2Score])"
   ]
  },
  {
   "cell_type": "code",
   "execution_count": 12,
   "metadata": {
    "colab": {
     "base_uri": "https://localhost:8080/"
    },
    "executionInfo": {
     "elapsed": 282,
     "status": "ok",
     "timestamp": 1634197021488,
     "user": {
      "displayName": "Aishwarya Singh",
      "photoUrl": "https://lh3.googleusercontent.com/a-/AOh14GgrDt3XHTbi6lUxuRrKkBiFChJ6Iau-0J22gLWWrA=s64",
      "userId": "06952162984620525698"
     },
     "user_tz": -480
    },
    "id": "SN3v75sCu2mx",
    "outputId": "fbcec967-23b6-478d-edd4-71d967f6c4f7"
   },
   "outputs": [
    {
     "name": "stdout",
     "output_type": "stream",
     "text": [
      "Model: \"model\"\n",
      "__________________________________________________________________________________________________\n",
      "Layer (type)                    Output Shape         Param #     Connected to                     \n",
      "==================================================================================================\n",
      "month (InputLayer)              [(None, 1)]          0                                            \n",
      "__________________________________________________________________________________________________\n",
      "flat_model_type (InputLayer)    [(None, 1)]          0                                            \n",
      "__________________________________________________________________________________________________\n",
      "floor_area_sqm (InputLayer)     [(None, 1)]          0                                            \n",
      "__________________________________________________________________________________________________\n",
      "dist_to_nearest_stn (InputLayer [(None, 1)]          0                                            \n",
      "__________________________________________________________________________________________________\n",
      "storey_range (InputLayer)       [(None, 1)]          0                                            \n",
      "__________________________________________________________________________________________________\n",
      "dist_to_dhoby (InputLayer)      [(None, 1)]          0                                            \n",
      "__________________________________________________________________________________________________\n",
      "degree_centrality (InputLayer)  [(None, 1)]          0                                            \n",
      "__________________________________________________________________________________________________\n",
      "eigenvector_centrality (InputLa [(None, 1)]          0                                            \n",
      "__________________________________________________________________________________________________\n",
      "remaining_lease_years (InputLay [(None, 1)]          0                                            \n",
      "__________________________________________________________________________________________________\n",
      "integer_lookup (IntegerLookup)  (None, 13)           0           month[0][0]                      \n",
      "__________________________________________________________________________________________________\n",
      "string_lookup (StringLookup)    (None, 44)           0           flat_model_type[0][0]            \n",
      "__________________________________________________________________________________________________\n",
      "normalization (Normalization)   (None, 1)            3           floor_area_sqm[0][0]             \n",
      "__________________________________________________________________________________________________\n",
      "normalization_1 (Normalization) (None, 1)            3           dist_to_nearest_stn[0][0]        \n",
      "__________________________________________________________________________________________________\n",
      "string_lookup_1 (StringLookup)  (None, 18)           0           storey_range[0][0]               \n",
      "__________________________________________________________________________________________________\n",
      "normalization_2 (Normalization) (None, 1)            3           dist_to_dhoby[0][0]              \n",
      "__________________________________________________________________________________________________\n",
      "normalization_3 (Normalization) (None, 1)            3           degree_centrality[0][0]          \n",
      "__________________________________________________________________________________________________\n",
      "normalization_4 (Normalization) (None, 1)            3           eigenvector_centrality[0][0]     \n",
      "__________________________________________________________________________________________________\n",
      "normalization_5 (Normalization) (None, 1)            3           remaining_lease_years[0][0]      \n",
      "__________________________________________________________________________________________________\n",
      "concatenate (Concatenate)       (None, 81)           0           integer_lookup[0][0]             \n",
      "                                                                 string_lookup[0][0]              \n",
      "                                                                 normalization[0][0]              \n",
      "                                                                 normalization_1[0][0]            \n",
      "                                                                 string_lookup_1[0][0]            \n",
      "                                                                 normalization_2[0][0]            \n",
      "                                                                 normalization_3[0][0]            \n",
      "                                                                 normalization_4[0][0]            \n",
      "                                                                 normalization_5[0][0]            \n",
      "__________________________________________________________________________________________________\n",
      "dense (Dense)                   (None, 10)           820         concatenate[0][0]                \n",
      "__________________________________________________________________________________________________\n",
      "dense_1 (Dense)                 (None, 1)            11          dense[0][0]                      \n",
      "==================================================================================================\n",
      "Total params: 849\n",
      "Trainable params: 831\n",
      "Non-trainable params: 18\n",
      "__________________________________________________________________________________________________\n"
     ]
    }
   ],
   "source": [
    "# Summarise the model\n",
    "model.summary()"
   ]
  },
  {
   "cell_type": "code",
   "execution_count": 13,
   "metadata": {
    "colab": {
     "base_uri": "https://localhost:8080/",
     "height": 1000
    },
    "executionInfo": {
     "elapsed": 1120,
     "status": "ok",
     "timestamp": 1634197025730,
     "user": {
      "displayName": "Aishwarya Singh",
      "photoUrl": "https://lh3.googleusercontent.com/a-/AOh14GgrDt3XHTbi6lUxuRrKkBiFChJ6Iau-0J22gLWWrA=s64",
      "userId": "06952162984620525698"
     },
     "user_tz": -480
    },
    "id": "r-J9zlu1t_7j",
    "outputId": "938303bb-aa99-401c-96e0-add0dde752ce"
   },
   "outputs": [
    {
     "data": {
      "image/png": "[encoded data removed]",
      "text/plain": [
       "<IPython.core.display.Image object>"
      ]
     },
     "execution_count": 13,
     "metadata": {},
     "output_type": "execute_result"
    }
   ],
   "source": [
    "# Visualise the model\n",
    "keras.utils.plot_model(model, show_shapes=True, rankdir=\"LR\")"
   ]
  },
  {
   "cell_type": "code",
   "execution_count": 15,
   "metadata": {
    "colab": {
     "base_uri": "https://localhost:8080/"
    },
    "executionInfo": {
     "elapsed": 428274,
     "status": "ok",
     "timestamp": 1634197480148,
     "user": {
      "displayName": "Aishwarya Singh",
      "photoUrl": "https://lh3.googleusercontent.com/a-/AOh14GgrDt3XHTbi6lUxuRrKkBiFChJ6Iau-0J22gLWWrA=s64",
      "userId": "06952162984620525698"
     },
     "user_tz": -480
    },
    "id": "ZZ3dJxNot_7j",
    "outputId": "7a9ad5c2-1e5b-466c-aec5-510e826099c3"
   },
   "outputs": [
    {
     "name": "stdout",
     "output_type": "stream",
     "text": [
      "Epoch 1/100\n",
      "683/683 [==============================] - 3s 4ms/step - loss: 67256442880.0000 - rmse: 259338.4688 - r2Score: -1.8819 - val_loss: 39849705472.0000 - val_rmse: 199623.9062 - val_r2Score: -0.5514\n",
      "Epoch 2/100\n",
      "683/683 [==============================] - 3s 4ms/step - loss: 10812144640.0000 - rmse: 103981.4609 - r2Score: 0.5404 - val_loss: 11018702848.0000 - val_rmse: 104970.0078 - val_r2Score: 0.5743\n",
      "Epoch 3/100\n",
      "683/683 [==============================] - 3s 4ms/step - loss: 5549173760.0000 - rmse: 74492.7734 - r2Score: 0.7636 - val_loss: 8586063872.0000 - val_rmse: 92661.0156 - val_r2Score: 0.6685\n",
      "Epoch 4/100\n",
      "683/683 [==============================] - 3s 4ms/step - loss: 5006125568.0000 - rmse: 70753.9766 - r2Score: 0.7865 - val_loss: 8100270080.0000 - val_rmse: 90001.5000 - val_r2Score: 0.6865\n",
      "Epoch 5/100\n",
      "683/683 [==============================] - 3s 4ms/step - loss: 4636574208.0000 - rmse: 68092.3984 - r2Score: 0.8025 - val_loss: 7596423168.0000 - val_rmse: 87157.4609 - val_r2Score: 0.7071\n",
      "Epoch 6/100\n",
      "683/683 [==============================] - 3s 4ms/step - loss: 4367768576.0000 - rmse: 66089.0938 - r2Score: 0.8134 - val_loss: 7323543552.0000 - val_rmse: 85577.7031 - val_r2Score: 0.7158\n",
      "Epoch 7/100\n",
      "683/683 [==============================] - 3s 4ms/step - loss: 4176472320.0000 - rmse: 64625.6328 - r2Score: 0.8212 - val_loss: 7106745856.0000 - val_rmse: 84301.5156 - val_r2Score: 0.7249\n",
      "Epoch 8/100\n",
      "683/683 [==============================] - 3s 4ms/step - loss: 4040969216.0000 - rmse: 63568.6172 - r2Score: 0.8272 - val_loss: 6749958656.0000 - val_rmse: 82158.1328 - val_r2Score: 0.7384\n",
      "Epoch 9/100\n",
      "683/683 [==============================] - 3s 4ms/step - loss: 3946220288.0000 - rmse: 62818.9492 - r2Score: 0.8309 - val_loss: 6769844224.0000 - val_rmse: 82279.0625 - val_r2Score: 0.7369\n",
      "Epoch 10/100\n",
      "683/683 [==============================] - 3s 4ms/step - loss: 3880255744.0000 - rmse: 62291.6992 - r2Score: 0.8338 - val_loss: 6628315648.0000 - val_rmse: 81414.4688 - val_r2Score: 0.7416\n",
      "Epoch 11/100\n",
      "683/683 [==============================] - 3s 4ms/step - loss: 3832088064.0000 - rmse: 61903.8633 - r2Score: 0.8358 - val_loss: 6678460928.0000 - val_rmse: 81721.8516 - val_r2Score: 0.7400\n",
      "Epoch 12/100\n",
      "683/683 [==============================] - 3s 4ms/step - loss: 3796846592.0000 - rmse: 61618.5586 - r2Score: 0.8371 - val_loss: 6593344512.0000 - val_rmse: 81199.4141 - val_r2Score: 0.7442\n",
      "Epoch 13/100\n",
      "683/683 [==============================] - 3s 4ms/step - loss: 3768995584.0000 - rmse: 61392.1445 - r2Score: 0.8385 - val_loss: 6360741376.0000 - val_rmse: 79754.2578 - val_r2Score: 0.7535\n",
      "Epoch 14/100\n",
      "683/683 [==============================] - 3s 4ms/step - loss: 3745660928.0000 - rmse: 61201.8047 - r2Score: 0.8394 - val_loss: 6182998016.0000 - val_rmse: 78632.0391 - val_r2Score: 0.7594\n",
      "Epoch 15/100\n",
      "683/683 [==============================] - 3s 4ms/step - loss: 3727237888.0000 - rmse: 61051.1094 - r2Score: 0.8404 - val_loss: 6463079424.0000 - val_rmse: 80393.2812 - val_r2Score: 0.7474\n",
      "Epoch 16/100\n",
      "683/683 [==============================] - 3s 4ms/step - loss: 3711259392.0000 - rmse: 60920.1055 - r2Score: 0.8406 - val_loss: 6378593280.0000 - val_rmse: 79866.0938 - val_r2Score: 0.7511\n",
      "Epoch 17/100\n",
      "683/683 [==============================] - 3s 4ms/step - loss: 3697377536.0000 - rmse: 60806.0664 - r2Score: 0.8416 - val_loss: 6287618560.0000 - val_rmse: 79294.5078 - val_r2Score: 0.7554\n",
      "Epoch 18/100\n",
      "683/683 [==============================] - 3s 4ms/step - loss: 3686670848.0000 - rmse: 60717.9609 - r2Score: 0.8417 - val_loss: 6268367872.0000 - val_rmse: 79173.0234 - val_r2Score: 0.7564\n",
      "Epoch 19/100\n",
      "683/683 [==============================] - 3s 4ms/step - loss: 3677904640.0000 - rmse: 60645.7305 - r2Score: 0.8421 - val_loss: 6303263744.0000 - val_rmse: 79393.0938 - val_r2Score: 0.7546\n",
      "Epoch 20/100\n",
      "683/683 [==============================] - 3s 4ms/step - loss: 3669703680.0000 - rmse: 60578.0781 - r2Score: 0.8422 - val_loss: 6103409152.0000 - val_rmse: 78124.3203 - val_r2Score: 0.7627\n",
      "Epoch 21/100\n",
      "683/683 [==============================] - 3s 4ms/step - loss: 3661978624.0000 - rmse: 60514.2852 - r2Score: 0.8427 - val_loss: 6225460736.0000 - val_rmse: 78901.5859 - val_r2Score: 0.7572\n",
      "Epoch 22/100\n",
      "683/683 [==============================] - 3s 4ms/step - loss: 3656184576.0000 - rmse: 60466.3906 - r2Score: 0.8430 - val_loss: 6028768256.0000 - val_rmse: 77645.1406 - val_r2Score: 0.7653\n",
      "Epoch 23/100\n",
      "683/683 [==============================] - 3s 4ms/step - loss: 3651075584.0000 - rmse: 60424.1289 - r2Score: 0.8430 - val_loss: 6257558016.0000 - val_rmse: 79104.7266 - val_r2Score: 0.7565\n",
      "Epoch 24/100\n",
      "683/683 [==============================] - 3s 4ms/step - loss: 3646550272.0000 - rmse: 60386.6719 - r2Score: 0.8434 - val_loss: 6168677888.0000 - val_rmse: 78540.9297 - val_r2Score: 0.7598\n",
      "Epoch 25/100\n",
      "683/683 [==============================] - 3s 4ms/step - loss: 3641559296.0000 - rmse: 60345.3320 - r2Score: 0.8435 - val_loss: 6262221824.0000 - val_rmse: 79134.2031 - val_r2Score: 0.7553\n",
      "Epoch 26/100\n",
      "683/683 [==============================] - 3s 4ms/step - loss: 3637893632.0000 - rmse: 60314.9531 - r2Score: 0.8438 - val_loss: 6087791104.0000 - val_rmse: 78024.2969 - val_r2Score: 0.7620\n",
      "Epoch 27/100\n",
      "683/683 [==============================] - 3s 4ms/step - loss: 3634254848.0000 - rmse: 60284.7812 - r2Score: 0.8435 - val_loss: 6258899968.0000 - val_rmse: 79113.2109 - val_r2Score: 0.7555\n",
      "Epoch 28/100\n",
      "683/683 [==============================] - 3s 4ms/step - loss: 3629030912.0000 - rmse: 60241.4375 - r2Score: 0.8444 - val_loss: 6214808064.0000 - val_rmse: 78834.0547 - val_r2Score: 0.7578\n",
      "Epoch 29/100\n",
      "683/683 [==============================] - 3s 4ms/step - loss: 3619986432.0000 - rmse: 60166.3242 - r2Score: 0.8445 - val_loss: 6287106048.0000 - val_rmse: 79291.2734 - val_r2Score: 0.7557\n",
      "Epoch 30/100\n",
      "683/683 [==============================] - 3s 4ms/step - loss: 3602252032.0000 - rmse: 60018.7656 - r2Score: 0.8454 - val_loss: 6082920448.0000 - val_rmse: 77993.0781 - val_r2Score: 0.7636\n",
      "Epoch 31/100\n",
      "683/683 [==============================] - 3s 4ms/step - loss: 3569915648.0000 - rmse: 59748.7695 - r2Score: 0.8467 - val_loss: 6080204288.0000 - val_rmse: 77975.6641 - val_r2Score: 0.7642\n",
      "Epoch 32/100\n",
      "683/683 [==============================] - 3s 4ms/step - loss: 3511234560.0000 - rmse: 59255.6719 - r2Score: 0.8492 - val_loss: 5973833216.0000 - val_rmse: 77290.5781 - val_r2Score: 0.7667\n",
      "Epoch 33/100\n",
      "683/683 [==============================] - 3s 4ms/step - loss: 3419016448.0000 - rmse: 58472.3555 - r2Score: 0.8530 - val_loss: 6000309248.0000 - val_rmse: 77461.6641 - val_r2Score: 0.7658\n",
      "Epoch 34/100\n",
      "683/683 [==============================] - 3s 4ms/step - loss: 3310437376.0000 - rmse: 57536.4023 - r2Score: 0.8573 - val_loss: 5751412224.0000 - val_rmse: 75838.0625 - val_r2Score: 0.7761\n",
      "Epoch 35/100\n",
      "683/683 [==============================] - 3s 4ms/step - loss: 3200487680.0000 - rmse: 56572.8516 - r2Score: 0.8623 - val_loss: 5477656576.0000 - val_rmse: 74011.1953 - val_r2Score: 0.7850\n",
      "Epoch 36/100\n",
      "683/683 [==============================] - 3s 4ms/step - loss: 3093691392.0000 - rmse: 55620.9609 - r2Score: 0.8671 - val_loss: 5532168704.0000 - val_rmse: 74378.5469 - val_r2Score: 0.7846\n",
      "Epoch 37/100\n",
      "683/683 [==============================] - 3s 4ms/step - loss: 3004571648.0000 - rmse: 54813.9727 - r2Score: 0.8704 - val_loss: 5445635072.0000 - val_rmse: 73794.5469 - val_r2Score: 0.7872\n",
      "Epoch 38/100\n",
      "683/683 [==============================] - 3s 4ms/step - loss: 2939241728.0000 - rmse: 54214.7734 - r2Score: 0.8735 - val_loss: 5300246528.0000 - val_rmse: 72802.7891 - val_r2Score: 0.7919\n",
      "Epoch 39/100\n",
      "683/683 [==============================] - 3s 4ms/step - loss: 2893610240.0000 - rmse: 53792.2891 - r2Score: 0.8755 - val_loss: 5458408960.0000 - val_rmse: 73881.0469 - val_r2Score: 0.7867\n",
      "Epoch 40/100\n",
      "683/683 [==============================] - 3s 4ms/step - loss: 2861590016.0000 - rmse: 53493.8320 - r2Score: 0.8769 - val_loss: 5438914048.0000 - val_rmse: 73748.9922 - val_r2Score: 0.7866\n",
      "Epoch 41/100\n",
      "683/683 [==============================] - 3s 4ms/step - loss: 2838361088.0000 - rmse: 53276.2695 - r2Score: 0.8779 - val_loss: 5388368896.0000 - val_rmse: 73405.5078 - val_r2Score: 0.7890\n",
      "Epoch 42/100\n",
      "683/683 [==============================] - 3s 4ms/step - loss: 2820756480.0000 - rmse: 53110.7930 - r2Score: 0.8786 - val_loss: 5320839680.0000 - val_rmse: 72944.0859 - val_r2Score: 0.7917\n",
      "Epoch 43/100\n",
      "683/683 [==============================] - 3s 4ms/step - loss: 2805356032.0000 - rmse: 52965.6133 - r2Score: 0.8792 - val_loss: 5245846528.0000 - val_rmse: 72428.2188 - val_r2Score: 0.7949\n",
      "Epoch 44/100\n",
      "683/683 [==============================] - 3s 4ms/step - loss: 2789773056.0000 - rmse: 52818.3008 - r2Score: 0.8800 - val_loss: 5309693440.0000 - val_rmse: 72867.6406 - val_r2Score: 0.7925\n",
      "Epoch 45/100\n",
      "683/683 [==============================] - 3s 4ms/step - loss: 2776968192.0000 - rmse: 52696.9453 - r2Score: 0.8806 - val_loss: 5340227072.0000 - val_rmse: 73076.8594 - val_r2Score: 0.7921\n",
      "Epoch 46/100\n",
      "683/683 [==============================] - 3s 4ms/step - loss: 2765507072.0000 - rmse: 52588.0898 - r2Score: 0.8808 - val_loss: 5268603392.0000 - val_rmse: 72585.1484 - val_r2Score: 0.7936\n",
      "Epoch 47/100\n",
      "683/683 [==============================] - 3s 4ms/step - loss: 2753525760.0000 - rmse: 52474.0469 - r2Score: 0.8815 - val_loss: 5227551232.0000 - val_rmse: 72301.8047 - val_r2Score: 0.7948\n",
      "Epoch 48/100\n",
      "683/683 [==============================] - 3s 4ms/step - loss: 2743808512.0000 - rmse: 52381.3750 - r2Score: 0.8819 - val_loss: 5206983680.0000 - val_rmse: 72159.4297 - val_r2Score: 0.7969\n",
      "Epoch 49/100\n",
      "683/683 [==============================] - 3s 4ms/step - loss: 2735887360.0000 - rmse: 52305.7109 - r2Score: 0.8822 - val_loss: 5221835264.0000 - val_rmse: 72262.2656 - val_r2Score: 0.7946\n",
      "Epoch 50/100\n",
      "683/683 [==============================] - 3s 4ms/step - loss: 2727262720.0000 - rmse: 52223.1992 - r2Score: 0.8824 - val_loss: 5042230784.0000 - val_rmse: 71008.6641 - val_r2Score: 0.8030\n",
      "Epoch 51/100\n",
      "683/683 [==============================] - 3s 4ms/step - loss: 2719950848.0000 - rmse: 52153.1484 - r2Score: 0.8829 - val_loss: 5288529920.0000 - val_rmse: 72722.2812 - val_r2Score: 0.7940\n",
      "Epoch 52/100\n",
      "683/683 [==============================] - 3s 4ms/step - loss: 2713370112.0000 - rmse: 52090.0195 - r2Score: 0.8831 - val_loss: 5293905920.0000 - val_rmse: 72759.2344 - val_r2Score: 0.7929\n",
      "Epoch 53/100\n",
      "683/683 [==============================] - 3s 4ms/step - loss: 2707572224.0000 - rmse: 52034.3359 - r2Score: 0.8831 - val_loss: 5004240384.0000 - val_rmse: 70740.6562 - val_r2Score: 0.8038\n",
      "Epoch 54/100\n",
      "683/683 [==============================] - 3s 4ms/step - loss: 2702472448.0000 - rmse: 51985.3086 - r2Score: 0.8837 - val_loss: 5130119680.0000 - val_rmse: 71624.8516 - val_r2Score: 0.7993\n",
      "Epoch 55/100\n",
      "683/683 [==============================] - 3s 4ms/step - loss: 2698495744.0000 - rmse: 51947.0469 - r2Score: 0.8839 - val_loss: 5191656448.0000 - val_rmse: 72053.1484 - val_r2Score: 0.7968\n",
      "Epoch 56/100\n",
      "683/683 [==============================] - 3s 4ms/step - loss: 2693705984.0000 - rmse: 51900.9258 - r2Score: 0.8840 - val_loss: 5178562048.0000 - val_rmse: 71962.2266 - val_r2Score: 0.7970\n",
      "Epoch 57/100\n",
      "683/683 [==============================] - 3s 4ms/step - loss: 2689918720.0000 - rmse: 51864.4258 - r2Score: 0.8843 - val_loss: 5089993216.0000 - val_rmse: 71344.1875 - val_r2Score: 0.8007\n",
      "Epoch 58/100\n",
      "683/683 [==============================] - 3s 4ms/step - loss: 2685926144.0000 - rmse: 51825.9219 - r2Score: 0.8844 - val_loss: 5268517888.0000 - val_rmse: 72584.5547 - val_r2Score: 0.7944\n",
      "Epoch 59/100\n",
      "683/683 [==============================] - 3s 4ms/step - loss: 2683139584.0000 - rmse: 51799.0312 - r2Score: 0.8844 - val_loss: 5125135872.0000 - val_rmse: 71590.0547 - val_r2Score: 0.8003\n",
      "Epoch 60/100\n",
      "683/683 [==============================] - 3s 4ms/step - loss: 2679597312.0000 - rmse: 51764.8281 - r2Score: 0.8844 - val_loss: 5299156992.0000 - val_rmse: 72795.3125 - val_r2Score: 0.7926\n",
      "Epoch 61/100\n",
      "683/683 [==============================] - 3s 4ms/step - loss: 2675759104.0000 - rmse: 51727.7383 - r2Score: 0.8846 - val_loss: 5142078976.0000 - val_rmse: 71708.2891 - val_r2Score: 0.7993\n",
      "Epoch 62/100\n",
      "683/683 [==============================] - 3s 4ms/step - loss: 2673638144.0000 - rmse: 51707.2344 - r2Score: 0.8846 - val_loss: 4966501376.0000 - val_rmse: 70473.4062 - val_r2Score: 0.8051\n",
      "Epoch 63/100\n",
      "683/683 [==============================] - 3s 4ms/step - loss: 2670255360.0000 - rmse: 51674.5117 - r2Score: 0.8849 - val_loss: 5183368192.0000 - val_rmse: 71995.6094 - val_r2Score: 0.7977\n",
      "Epoch 64/100\n",
      "683/683 [==============================] - 3s 4ms/step - loss: 2667772160.0000 - rmse: 51650.4805 - r2Score: 0.8850 - val_loss: 5094062080.0000 - val_rmse: 71372.6953 - val_r2Score: 0.8011\n",
      "Epoch 65/100\n",
      "683/683 [==============================] - 3s 4ms/step - loss: 2665312256.0000 - rmse: 51626.6641 - r2Score: 0.8852 - val_loss: 5098552320.0000 - val_rmse: 71404.1484 - val_r2Score: 0.8017\n",
      "Epoch 66/100\n",
      "683/683 [==============================] - 3s 4ms/step - loss: 2663255808.0000 - rmse: 51606.7422 - r2Score: 0.8851 - val_loss: 5063861248.0000 - val_rmse: 71160.8125 - val_r2Score: 0.8018\n",
      "Epoch 67/100\n",
      "683/683 [==============================] - 3s 4ms/step - loss: 2661403392.0000 - rmse: 51588.7930 - r2Score: 0.8853 - val_loss: 5121954304.0000 - val_rmse: 71567.8281 - val_r2Score: 0.7993\n",
      "Epoch 68/100\n",
      "683/683 [==============================] - 3s 4ms/step - loss: 2658833664.0000 - rmse: 51563.8789 - r2Score: 0.8858 - val_loss: 4881605120.0000 - val_rmse: 69868.4844 - val_r2Score: 0.8090\n",
      "Epoch 69/100\n",
      "683/683 [==============================] - 3s 4ms/step - loss: 2657217792.0000 - rmse: 51548.2070 - r2Score: 0.8856 - val_loss: 5139707392.0000 - val_rmse: 71691.7500 - val_r2Score: 0.7981\n",
      "Epoch 70/100\n",
      "683/683 [==============================] - 3s 4ms/step - loss: 2655575296.0000 - rmse: 51532.2734 - r2Score: 0.8855 - val_loss: 5249206272.0000 - val_rmse: 72451.4062 - val_r2Score: 0.7950\n",
      "Epoch 71/100\n",
      "683/683 [==============================] - 3s 4ms/step - loss: 2653859072.0000 - rmse: 51515.6211 - r2Score: 0.8852 - val_loss: 5182524928.0000 - val_rmse: 71989.7578 - val_r2Score: 0.7988\n",
      "Epoch 72/100\n",
      "683/683 [==============================] - 3s 4ms/step - loss: 2652471040.0000 - rmse: 51502.1445 - r2Score: 0.8855 - val_loss: 5079875072.0000 - val_rmse: 71273.2422 - val_r2Score: 0.8010\n",
      "Epoch 73/100\n",
      "683/683 [==============================] - 3s 4ms/step - loss: 2650634496.0000 - rmse: 51484.3125 - r2Score: 0.8863 - val_loss: 4997647360.0000 - val_rmse: 70694.0391 - val_r2Score: 0.8049\n",
      "Epoch 74/100\n",
      "683/683 [==============================] - 3s 4ms/step - loss: 2649212416.0000 - rmse: 51470.5000 - r2Score: 0.8859 - val_loss: 5206206976.0000 - val_rmse: 72154.0469 - val_r2Score: 0.7962\n",
      "Epoch 75/100\n",
      "683/683 [==============================] - 3s 5ms/step - loss: 2647974656.0000 - rmse: 51458.4766 - r2Score: 0.8858 - val_loss: 5290237440.0000 - val_rmse: 72734.0156 - val_r2Score: 0.7929\n",
      "Epoch 76/100\n",
      "683/683 [==============================] - 3s 4ms/step - loss: 2647111680.0000 - rmse: 51450.0898 - r2Score: 0.8858 - val_loss: 4993202176.0000 - val_rmse: 70662.5938 - val_r2Score: 0.8046\n",
      "Epoch 77/100\n",
      "683/683 [==============================] - 3s 4ms/step - loss: 2646131712.0000 - rmse: 51440.5664 - r2Score: 0.8862 - val_loss: 5208695296.0000 - val_rmse: 72171.2891 - val_r2Score: 0.7953\n",
      "Epoch 78/100\n",
      "683/683 [==============================] - 3s 4ms/step - loss: 2644905728.0000 - rmse: 51428.6484 - r2Score: 0.8856 - val_loss: 5164641280.0000 - val_rmse: 71865.4375 - val_r2Score: 0.7985\n",
      "Epoch 79/100\n",
      "683/683 [==============================] - 3s 4ms/step - loss: 2643357184.0000 - rmse: 51413.5898 - r2Score: 0.8863 - val_loss: 5203740160.0000 - val_rmse: 72136.9531 - val_r2Score: 0.7967\n",
      "Epoch 80/100\n",
      "683/683 [==============================] - 3s 4ms/step - loss: 2642495744.0000 - rmse: 51405.2109 - r2Score: 0.8862 - val_loss: 5076384768.0000 - val_rmse: 71248.7500 - val_r2Score: 0.8011\n",
      "Epoch 81/100\n",
      "683/683 [==============================] - 3s 4ms/step - loss: 2641179136.0000 - rmse: 51392.4023 - r2Score: 0.8861 - val_loss: 5118513152.0000 - val_rmse: 71543.7812 - val_r2Score: 0.7995\n",
      "Epoch 82/100\n",
      "683/683 [==============================] - 3s 4ms/step - loss: 2640465152.0000 - rmse: 51385.4570 - r2Score: 0.8863 - val_loss: 5093988864.0000 - val_rmse: 71372.1875 - val_r2Score: 0.8009\n",
      "Epoch 83/100\n",
      "683/683 [==============================] - 3s 4ms/step - loss: 2639428608.0000 - rmse: 51375.3711 - r2Score: 0.8860 - val_loss: 5215343104.0000 - val_rmse: 72217.3359 - val_r2Score: 0.7959\n",
      "Epoch 84/100\n",
      "683/683 [==============================] - 3s 4ms/step - loss: 2638412800.0000 - rmse: 51365.4844 - r2Score: 0.8861 - val_loss: 5059171328.0000 - val_rmse: 71127.8516 - val_r2Score: 0.8029\n",
      "Epoch 85/100\n",
      "683/683 [==============================] - 3s 4ms/step - loss: 2637678592.0000 - rmse: 51358.3359 - r2Score: 0.8863 - val_loss: 5062892032.0000 - val_rmse: 71154.0000 - val_r2Score: 0.8018\n",
      "Epoch 86/100\n",
      "683/683 [==============================] - 3s 4ms/step - loss: 2637233152.0000 - rmse: 51354.0000 - r2Score: 0.8860 - val_loss: 5086589952.0000 - val_rmse: 71320.3359 - val_r2Score: 0.8013\n",
      "Epoch 87/100\n",
      "683/683 [==============================] - 3s 4ms/step - loss: 2636817152.0000 - rmse: 51349.9492 - r2Score: 0.8863 - val_loss: 5202833408.0000 - val_rmse: 72130.6719 - val_r2Score: 0.7961\n",
      "Epoch 88/100\n",
      "683/683 [==============================] - 3s 4ms/step - loss: 2635412480.0000 - rmse: 51336.2695 - r2Score: 0.8864 - val_loss: 5047559680.0000 - val_rmse: 71046.1797 - val_r2Score: 0.8027\n",
      "Epoch 89/100\n",
      "683/683 [==============================] - 3s 4ms/step - loss: 2634605824.0000 - rmse: 51328.4102 - r2Score: 0.8864 - val_loss: 5143674368.0000 - val_rmse: 71719.4141 - val_r2Score: 0.7985\n",
      "Epoch 90/100\n",
      "683/683 [==============================] - 3s 4ms/step - loss: 2634040832.0000 - rmse: 51322.9062 - r2Score: 0.8867 - val_loss: 5184352768.0000 - val_rmse: 72002.4531 - val_r2Score: 0.7966\n",
      "Epoch 91/100\n",
      "683/683 [==============================] - 3s 4ms/step - loss: 2633050880.0000 - rmse: 51313.2617 - r2Score: 0.8866 - val_loss: 5077083136.0000 - val_rmse: 71253.6562 - val_r2Score: 0.8003\n",
      "Epoch 92/100\n",
      "683/683 [==============================] - 3s 4ms/step - loss: 2632745216.0000 - rmse: 51310.2852 - r2Score: 0.8867 - val_loss: 5031136256.0000 - val_rmse: 70930.5000 - val_r2Score: 0.8034\n",
      "Epoch 93/100\n",
      "683/683 [==============================] - 3s 4ms/step - loss: 2631398912.0000 - rmse: 51297.1641 - r2Score: 0.8866 - val_loss: 5113207296.0000 - val_rmse: 71506.6953 - val_r2Score: 0.7997\n",
      "Epoch 94/100\n",
      "683/683 [==============================] - 3s 4ms/step - loss: 2630533120.0000 - rmse: 51288.7227 - r2Score: 0.8866 - val_loss: 5156209664.0000 - val_rmse: 71806.7500 - val_r2Score: 0.7974\n",
      "Epoch 95/100\n",
      "683/683 [==============================] - 3s 5ms/step - loss: 2630108928.0000 - rmse: 51284.5859 - r2Score: 0.8866 - val_loss: 5164778496.0000 - val_rmse: 71866.3906 - val_r2Score: 0.7978\n",
      "Epoch 96/100\n",
      "683/683 [==============================] - 3s 4ms/step - loss: 2629299456.0000 - rmse: 51276.6953 - r2Score: 0.8868 - val_loss: 5188214272.0000 - val_rmse: 72029.2578 - val_r2Score: 0.7970\n",
      "Epoch 97/100\n",
      "683/683 [==============================] - 3s 4ms/step - loss: 2628014080.0000 - rmse: 51264.1602 - r2Score: 0.8866 - val_loss: 4958204928.0000 - val_rmse: 70414.5234 - val_r2Score: 0.8055\n",
      "Epoch 98/100\n",
      "683/683 [==============================] - 3s 4ms/step - loss: 2627589120.0000 - rmse: 51260.0156 - r2Score: 0.8869 - val_loss: 5136903680.0000 - val_rmse: 71672.1953 - val_r2Score: 0.7989\n",
      "Epoch 99/100\n",
      "683/683 [==============================] - 3s 4ms/step - loss: 2626636288.0000 - rmse: 51250.7188 - r2Score: 0.8870 - val_loss: 5094639616.0000 - val_rmse: 71376.7422 - val_r2Score: 0.8010\n",
      "Epoch 100/100\n",
      "683/683 [==============================] - 3s 4ms/step - loss: 2624824832.0000 - rmse: 51233.0430 - r2Score: 0.8872 - val_loss: 5161110528.0000 - val_rmse: 71840.8672 - val_r2Score: 0.7972\n"
     ]
    }
   ],
   "source": [
    "# Training the model - Introducing Callback\n",
    "\n",
    "checkpoint_filepath = '/content/drive/MyDrive/CE4042/assignment/Checkpoint/model'\n",
    "model_checkpoint_callback = tf.keras.callbacks.ModelCheckpoint(\n",
    "    filepath=checkpoint_filepath,\n",
    "    save_weights_only=True,\n",
    "    monitor='val_rmse',\n",
    "    mode='min',\n",
    "    save_best_only=True)\n",
    "\n",
    "history = model.fit(train_ds, \n",
    "                    epochs=100, \n",
    "                    batch_size=128,\n",
    "                    callbacks=[model_checkpoint_callback], \n",
    "                    validation_data=test_ds)"
   ]
  },
  {
   "cell_type": "markdown",
   "metadata": {
    "id": "TskzVCDg4lV3"
   },
   "source": [
    "#### d) Plot the train and test root mean square errors (RMSE) against epochs."
   ]
  },
  {
   "cell_type": "code",
   "execution_count": null,
   "metadata": {
    "id": "fuYXWcpDt_7k",
    "outputId": "65f88ce5-b62d-4606-a733-f62fac69aa8d"
   },
   "outputs": [
    {
     "data": {
      "image/png": "[encoded data removed]",
      "text/plain": [
       "<Figure size 432x288 with 1 Axes>"
      ]
     },
     "metadata": {
      "needs_background": "light"
     },
     "output_type": "display_data"
    }
   ],
   "source": [
    "# Plotting the Model RMSE\n",
    "plt.plot(history.history['rmse'][2:])\n",
    "plt.plot(history.history['val_rmse'][2:])\n",
    "plt.title('Model RMSE - Part B Question 1')\n",
    "plt.ylabel('RMSE')\n",
    "plt.xlabel('Epochs')\n",
    "plt.xticks([x for x in range(0, 100, 5)])\n",
    "plt.legend(['train', 'test'], loc='best')\n",
    "plt.savefig('./Figures/PartBQuestion1-1.png')"
   ]
  },
  {
   "cell_type": "markdown",
   "metadata": {
    "id": "sReNGtN-4r_n"
   },
   "source": [
    "#### e) State the epoch with the lowest test error. State the test R2 value at that epoch."
   ]
  },
  {
   "cell_type": "code",
   "execution_count": 17,
   "metadata": {
    "colab": {
     "base_uri": "https://localhost:8080/"
    },
    "executionInfo": {
     "elapsed": 278,
     "status": "ok",
     "timestamp": 1634197557853,
     "user": {
      "displayName": "Aishwarya Singh",
      "photoUrl": "https://lh3.googleusercontent.com/a-/AOh14GgrDt3XHTbi6lUxuRrKkBiFChJ6Iau-0J22gLWWrA=s64",
      "userId": "06952162984620525698"
     },
     "user_tz": -480
    },
    "id": "NXbHyAGuvnGT",
    "outputId": "9108ed03-990d-4b29-81e9-9759d00b88f5"
   },
   "outputs": [
    {
     "name": "stdout",
     "output_type": "stream",
     "text": [
      "Epoch: 100\n",
      "RMSE: 51233.04296875\n",
      "R2 Score: 0.8872498273849487\n"
     ]
    }
   ],
   "source": [
    "print(\"Epoch: 100\")\n",
    "print(\"RMSE:\", min(history.history['rmse']))\n",
    "print(\"R2 Score:\", max(history.history['r2Score']))"
   ]
  },
  {
   "cell_type": "markdown",
   "metadata": {
    "id": "F24Oag744wYO"
   },
   "source": [
    "> **Epoch with lowest R2 Score:** *100*\n",
    "\n",
    "> **Corresponding R2 Score:** *0.8872498273849487*\n"
   ]
  },
  {
   "cell_type": "code",
   "execution_count": 18,
   "metadata": {
    "colab": {
     "base_uri": "https://localhost:8080/"
    },
    "executionInfo": {
     "elapsed": 297,
     "status": "ok",
     "timestamp": 1634197566116,
     "user": {
      "displayName": "Aishwarya Singh",
      "photoUrl": "https://lh3.googleusercontent.com/a-/AOh14GgrDt3XHTbi6lUxuRrKkBiFChJ6Iau-0J22gLWWrA=s64",
      "userId": "06952162984620525698"
     },
     "user_tz": -480
    },
    "id": "CAPb5mxJt_7k",
    "outputId": "4b28c5f7-a199-4eea-bbc2-ebb274cdbb6c"
   },
   "outputs": [
    {
     "data": {
      "text/plain": [
       "<tensorflow.python.training.tracking.util.CheckpointLoadStatus at 0x7ff8d8844390>"
      ]
     },
     "execution_count": 18,
     "metadata": {},
     "output_type": "execute_result"
    }
   ],
   "source": [
    "# The model weights (that are considered the best) are loaded into the model.\n",
    "model.load_weights(checkpoint_filepath)"
   ]
  },
  {
   "cell_type": "markdown",
   "metadata": {
    "id": "ARngqron5XeO"
   },
   "source": [
    "#### f) Using the model from that best epoch, plot the predicted values and target values for a batch of 128 test samples."
   ]
  },
  {
   "cell_type": "code",
   "execution_count": 19,
   "metadata": {
    "executionInfo": {
     "elapsed": 302,
     "status": "ok",
     "timestamp": 1634197568384,
     "user": {
      "displayName": "Aishwarya Singh",
      "photoUrl": "https://lh3.googleusercontent.com/a-/AOh14GgrDt3XHTbi6lUxuRrKkBiFChJ6Iau-0J22gLWWrA=s64",
      "userId": "06952162984620525698"
     },
     "user_tz": -480
    },
    "id": "cMp-tP2Gt_7k"
   },
   "outputs": [],
   "source": [
    "# Loading the model with the best saved epoch\n",
    "loadModel = keras.Model(all_inputs, output)\n",
    "loadModel.load_weights(\"/content/drive/MyDrive/CE4042/assignment/Checkpoint/model\")\n",
    "loadModel.compile(optimizer=opt,\n",
    "              loss='mse',\n",
    "              metrics = [tf.keras.metrics.RootMeanSquaredError(name='rmse'), r2Score])"
   ]
  },
  {
   "cell_type": "code",
   "execution_count": 20,
   "metadata": {
    "colab": {
     "base_uri": "https://localhost:8080/"
    },
    "executionInfo": {
     "elapsed": 319,
     "status": "ok",
     "timestamp": 1634197571489,
     "user": {
      "displayName": "Aishwarya Singh",
      "photoUrl": "https://lh3.googleusercontent.com/a-/AOh14GgrDt3XHTbi6lUxuRrKkBiFChJ6Iau-0J22gLWWrA=s64",
      "userId": "06952162984620525698"
     },
     "user_tz": -480
    },
    "id": "jECDTGDbvRY_",
    "outputId": "c2aba1eb-bcf4-4bb7-aedb-7522e09229f3"
   },
   "outputs": [
    {
     "name": "stdout",
     "output_type": "stream",
     "text": [
      "28\n",
      "({'month': <tf.Tensor: shape=(128,), dtype=int64, numpy=\n",
      "array([7, 3, 4, 3, 1, 6, 4, 2, 4, 6, 1, 4, 6, 1, 6, 5, 6, 2, 7, 4, 2, 6,\n",
      "       1, 8, 5, 5, 5, 8, 1, 3, 1, 1, 6, 6, 3, 4, 5, 8, 4, 6, 5, 1, 1, 4,\n",
      "       7, 3, 4, 5, 7, 6, 1, 3, 1, 3, 7, 8, 7, 1, 1, 2, 2, 5, 6, 1, 3, 1,\n",
      "       5, 4, 6, 8, 2, 7, 6, 7, 1, 6, 7, 3, 3, 4, 2, 1, 2, 5, 6, 5, 3, 2,\n",
      "       3, 2, 7, 7, 3, 7, 1, 4, 4, 1, 1, 3, 4, 4, 2, 4, 4, 7, 6, 7, 7, 1,\n",
      "       2, 1, 1, 4, 1, 7, 1, 5, 6, 2, 3, 4, 1, 6, 6, 1, 6, 5])>, 'year': <tf.Tensor: shape=(128,), dtype=int64, numpy=\n",
      "array([2021, 2021, 2021, 2021, 2021, 2021, 2021, 2021, 2021, 2021, 2021,\n",
      "       2021, 2021, 2021, 2021, 2021, 2021, 2021, 2021, 2021, 2021, 2021,\n",
      "       2021, 2021, 2021, 2021, 2021, 2021, 2021, 2021, 2021, 2021, 2021,\n",
      "       2021, 2021, 2021, 2021, 2021, 2021, 2021, 2021, 2021, 2021, 2021,\n",
      "       2021, 2021, 2021, 2021, 2021, 2021, 2021, 2021, 2021, 2021, 2021,\n",
      "       2021, 2021, 2021, 2021, 2021, 2021, 2021, 2021, 2021, 2021, 2021,\n",
      "       2021, 2021, 2021, 2021, 2021, 2021, 2021, 2021, 2021, 2021, 2021,\n",
      "       2021, 2021, 2021, 2021, 2021, 2021, 2021, 2021, 2021, 2021, 2021,\n",
      "       2021, 2021, 2021, 2021, 2021, 2021, 2021, 2021, 2021, 2021, 2021,\n",
      "       2021, 2021, 2021, 2021, 2021, 2021, 2021, 2021, 2021, 2021, 2021,\n",
      "       2021, 2021, 2021, 2021, 2021, 2021, 2021, 2021, 2021, 2021, 2021,\n",
      "       2021, 2021, 2021, 2021, 2021, 2021, 2021])>, 'full_address': <tf.Tensor: shape=(128,), dtype=string, numpy=\n",
      "array([b'226 JURONG EAST STREET 21', b'403A FERNVALE LANE',\n",
      "       b'899B WOODLANDS DRIVE 50', b'146 TAMPINES AVENUE 5',\n",
      "       b'669A EDGEFIELD PLAINS', b'811A CHOA CHU KANG AVENUE 7',\n",
      "       b'30 CASSIA CRESCENT', b'10A BOON TIONG ROAD',\n",
      "       b'638 ANG MO KIO AVENUE 6', b'289F BUKIT BATOK STREET 25',\n",
      "       b'91 DAWSON ROAD', b'48 TELOK BLANGAH DRIVE',\n",
      "       b'204 SERANGOON CENTRAL', b'105A EDGEFIELD PLAINS',\n",
      "       b'407A FERNVALE ROAD', b'174 LORONG 1 TOA PAYOH',\n",
      "       b'787E WOODLANDS CRESCENT', b'487B CHOA CHU KANG AVENUE 5',\n",
      "       b'121 POTONG PASIR AVENUE 1', b'545 ANG MO KIO AVENUE 10',\n",
      "       b'705 HOUGANG AVENUE 2', b'816A KEAT HONG LINK',\n",
      "       b'114 BEDOK RESERVOIR ROAD', b'204 TOA PAYOH NORTH',\n",
      "       b'194 KIM KEAT AVENUE', b'606 JURONG WEST STREET 65',\n",
      "       b'335A YISHUN STREET 31', b'589D MONTREAL DRIVE',\n",
      "       b'868B TAMPINES AVENUE 8', b'217 PASIR RIS STREET 21',\n",
      "       b'217 TAMPINES STREET 23', b'467A FERNVALE LINK',\n",
      "       b'315A YISHUN AVENUE 9', b'127D KIM TIAN ROAD', b'615 ELIAS ROAD',\n",
      "       b'4 HOLLAND CLOSE', b'286B TOH GUAN ROAD',\n",
      "       b'395 TAMPINES AVENUE 7', b'248 KIM KEAT LINK',\n",
      "       b'170 BEDOK SOUTH ROAD', b'987A BUANGKOK GREEN',\n",
      "       b'612 WOODLANDS AVENUE 4', b'95C HENDERSON ROAD',\n",
      "       b'840 YISHUN STREET 81', b'656C JURONG WEST STREET 61',\n",
      "       b'524B PASIR RIS STREET 51', b'890B TAMPINES AVENUE 1',\n",
      "       b'646 YISHUN STREET 61', b'443B FERNVALE ROAD',\n",
      "       b'717 CLEMENTI WEST STREET 2', b'984D BUANGKOK LINK',\n",
      "       b'219C BEDOK CENTRAL', b'445B FERNVALE ROAD',\n",
      "       b'234 BUKIT PANJANG RING ROAD', b'523 CHOA CHU KANG STREET 51',\n",
      "       b'987D JURONG WEST STREET 93', b'19 EUNOS CRESCENT',\n",
      "       b'589 WOODLANDS DRIVE 16', b'426B YISHUN AVENUE 11',\n",
      "       b'321B ANCHORVALE DRIVE', b'699C HOUGANG STREET 52',\n",
      "       b'269 BUKIT BATOK EAST AVENUE 4', b'8A BOON TIONG ROAD',\n",
      "       b'308B PUNGGOL WALK', b'245 KIM KEAT LINK',\n",
      "       b'514 BUKIT BATOK STREET 52', b'327C ANCHORVALE ROAD',\n",
      "       b'148 TAMPINES AVENUE 5', b'626 YISHUN STREET 61',\n",
      "       b'116A JALAN TENTERAM', b'576 WOODLANDS DRIVE 16',\n",
      "       b'275C COMPASSVALE LINK', b'206 TOA PAYOH NORTH',\n",
      "       b'890B WOODLANDS DRIVE 50', b'949 JURONG WEST STREET 91',\n",
      "       b'492 ADMIRALTY LINK', b'103 LENGKONG TIGA', b'1G CANTONMENT ROAD',\n",
      "       b'162 TAMPINES STREET 12', b'666B PUNGGOL DRIVE',\n",
      "       b'836 TAMPINES STREET 82', b\"4 QUEEN'S ROAD\",\n",
      "       b'543 SERANGOON NORTH AVENUE 3', b'169 STIRLING ROAD',\n",
      "       b'322 SERANGOON AVENUE 3', b'817A KEAT HONG LINK',\n",
      "       b'9 LORONG 7 TOA PAYOH', b'33 JALAN BAHAGIA',\n",
      "       b'431 HOUGANG AVENUE 6', b'336A YISHUN STREET 31',\n",
      "       b'116B JALAN TENTERAM', b'511C YISHUN STREET 51',\n",
      "       b'219 BUKIT BATOK STREET 21', b'293C COMPASSVALE CRESCENT',\n",
      "       b'497J TAMPINES STREET 45', b'48A DORSET ROAD',\n",
      "       b'1 HOUGANG AVENUE 3', b'5 FARRER ROAD', b'776 YISHUN AVENUE 2',\n",
      "       b'443C FAJAR ROAD', b'676B PUNGGOL DRIVE',\n",
      "       b'173 ANG MO KIO AVENUE 4', b'18C CIRCUIT ROAD',\n",
      "       b'109 JALAN BUKIT MERAH', b'887A WOODLANDS DRIVE 50',\n",
      "       b'758 YISHUN STREET 72', b'126 BEDOK NORTH STREET 2',\n",
      "       b'515 WOODLANDS DRIVE 14', b'115 BEDOK NORTH ROAD',\n",
      "       b'103 SPOTTISWOODE PARK ROAD', b'315A ANG MO KIO STREET 31',\n",
      "       b'316A YISHUN AVENUE 9', b'339 BUKIT BATOK STREET 34',\n",
      "       b'3 EVERTON PARK', b'619 HOUGANG AVENUE 8',\n",
      "       b'833 TAMPINES STREET 83', b'17 MARINE TERRACE',\n",
      "       b'79C TOA PAYOH CENTRAL', b'298D COMPASSVALE STREET',\n",
      "       b'275B JURONG WEST STREET 25', b'240 BUKIT BATOK EAST AVENUE 5',\n",
      "       b'366 YISHUN RING ROAD', b'603 BEDOK RESERVOIR ROAD',\n",
      "       b'217D SUMANG WALK', b'653C JURONG WEST STREET 61',\n",
      "       b'230C TAMPINES STREET 24', b'269 TOH GUAN ROAD',\n",
      "       b'344 YISHUN AVENUE 11'], dtype=object)>, 'nearest_stn': <tf.Tensor: shape=(128,), dtype=string, numpy=\n",
      "array([b'Chinese Garden', b'Buangkok', b'Woodlands', b'Tampines West',\n",
      "       b'Punggol', b'Choa Chu Kang', b'Mountbatten', b'Tiong Bahru',\n",
      "       b'Yio Chu Kang', b'Bukit Batok', b'Queenstown', b'Telok Blangah',\n",
      "       b'Serangoon', b'Punggol', b'Buangkok', b'Toa Payoh', b'Woodlands',\n",
      "       b'Choa Chu Kang', b'Potong Pasir', b'Ang Mo Kio', b'Kovan',\n",
      "       b'Choa Chu Kang', b'Kaki Bukit', b'Braddell', b'Potong Pasir',\n",
      "       b'Pioneer', b'Yishun', b'Sembawang', b'Tampines', b'Pasir Ris',\n",
      "       b'Tampines East', b'Sengkang', b'Yishun', b'Tiong Bahru',\n",
      "       b'Pasir Ris', b'Holland Village', b'Jurong East', b'Tampines East',\n",
      "       b'Toa Payoh', b'Tanah Merah', b'Buangkok', b'Woodlands',\n",
      "       b'Tiong Bahru', b'Khatib', b'Pioneer', b'Pasir Ris',\n",
      "       b'Tampines West', b'Khatib', b'Buangkok', b'Clementi', b'Buangkok',\n",
      "       b'Bedok', b'Buangkok', b'Bukit Panjang', b'Choa Chu Kang',\n",
      "       b'Pioneer', b'Eunos', b'Woodlands', b'Yishun', b'Sengkang',\n",
      "       b'Hougang', b'Bukit Batok', b'Tiong Bahru', b'Punggol',\n",
      "       b'Toa Payoh', b'Bukit Gombak', b'Sengkang', b'Tampines', b'Khatib',\n",
      "       b'Boon Keng', b'Woodlands', b'Buangkok', b'Braddell', b'Woodlands',\n",
      "       b'Pioneer', b'Sembawang', b'Kembangan', b'Outram Park',\n",
      "       b'Tampines', b'Punggol', b'Tampines West', b'Farrer Road',\n",
      "       b'Kovan', b'Queenstown', b'Lorong Chuan', b'Choa Chu Kang',\n",
      "       b'Braddell', b'Boon Keng', b'Hougang', b'Yishun', b'Boon Keng',\n",
      "       b'Khatib', b'Bukit Batok', b'Sengkang', b'Tampines East',\n",
      "       b'Farrer Park', b'Hougang', b'Farrer Road', b'Khatib',\n",
      "       b'Bukit Panjang', b'Punggol', b'Yio Chu Kang', b'MacPherson',\n",
      "       b'Tiong Bahru', b'Woodlands', b'Yishun', b'Tanah Merah',\n",
      "       b'Woodlands', b'Bedok Reservoir', b'Outram Park', b'Ang Mo Kio',\n",
      "       b'Yishun', b'Bukit Gombak', b'Outram Park', b'Hougang',\n",
      "       b'Tampines West', b'Kembangan', b'Toa Payoh', b'Sengkang',\n",
      "       b'Boon Lay', b'Bukit Batok', b'Yishun', b'Kaki Bukit', b'Punggol',\n",
      "       b'Pioneer', b'Tampines East', b'Bukit Batok', b'Yishun'],\n",
      "      dtype=object)>, 'dist_to_nearest_stn': <tf.Tensor: shape=(128,), dtype=float64, numpy=\n",
      "array([0.38050487, 2.33536663, 0.99024131, 0.57494829, 1.29151683,\n",
      "       1.30460258, 0.36942307, 0.29794599, 0.20870262, 1.16040549,\n",
      "       0.74559608, 0.19005943, 0.28729937, 0.98603018, 2.09446888,\n",
      "       0.6432999 , 1.9742235 , 1.20141768, 0.60569971, 0.8237637 ,\n",
      "       0.69364432, 1.15269859, 0.5067742 , 0.24234725, 1.18007296,\n",
      "       0.20981411, 1.11912226, 0.48689589, 1.16999311, 1.37076923,\n",
      "       0.46627634, 2.01780066, 0.87036794, 0.68678866, 0.9178299 ,\n",
      "       0.36001445, 0.67224057, 0.0810542 , 0.94660241, 0.72972797,\n",
      "       1.70006564, 1.16832324, 0.5605479 , 0.19442681, 0.33805027,\n",
      "       0.32254133, 0.55761398, 0.72053288, 2.34144356, 1.33176518,\n",
      "       1.38075871, 0.37972104, 2.37440824, 1.03931044, 0.78131715,\n",
      "       0.25509339, 0.49519621, 1.40917997, 1.47565075, 0.37798382,\n",
      "       0.71324527, 1.09740183, 0.35269873, 0.42102407, 1.03125668,\n",
      "       0.51229156, 0.89601625, 0.44262992, 0.30658123, 0.77944278,\n",
      "       1.36663401, 0.07352444, 0.20587852, 0.68698909, 0.89630838,\n",
      "       0.87267102, 0.62282443, 0.56659368, 0.65933225, 1.4850214 ,\n",
      "       0.64754993, 0.14108054, 2.20305807, 0.58051141, 0.41307464,\n",
      "       1.08184265, 1.24187308, 0.80514804, 0.4717602 , 1.08689035,\n",
      "       0.83004982, 1.0939763 , 0.63567209, 0.60002145, 0.55510142,\n",
      "       0.46735246, 0.80611674, 0.12487461, 0.57764922, 0.84700486,\n",
      "       0.87344817, 1.20053624, 0.30552248, 0.79408875, 0.83328353,\n",
      "       0.41126723, 0.84680609, 0.51710746, 0.70996225, 0.7795665 ,\n",
      "       0.71016713, 0.94511383, 0.47428615, 0.35314503, 0.99787783,\n",
      "       0.73667259, 1.90699838, 0.27996661, 0.75999346, 1.62037136,\n",
      "       0.53351969, 1.20761888, 0.67716314, 0.77255912, 0.25123226,\n",
      "       0.45832172, 0.94763727, 1.03288924])>, 'dist_to_dhoby': <tf.Tensor: shape=(128,), dtype=float64, numpy=\n",
      "array([13.0978251 , 10.38360071, 16.15528047, 12.07206678, 13.93792014,\n",
      "       13.83849155,  4.32923894,  2.29049699,  8.99183043, 10.88521078,\n",
      "        3.720593  ,  4.91743093,  6.63780183, 12.70294339, 10.38387384,\n",
      "        3.51011484, 16.8279426 , 14.6904328 ,  4.60707256,  8.26657479,\n",
      "        8.73905806, 13.7370303 ,  7.92739738,  4.6930978 ,  3.77360499,\n",
      "       16.85984616, 14.83019661, 16.83044941, 11.54872513, 14.98583915,\n",
      "       13.27828641, 11.51514137, 14.73513818,  2.66402404, 13.67119639,\n",
      "        5.66562639, 12.02027121, 13.77847824,  3.7328422 , 11.415284  ,\n",
      "        9.63409266, 15.9898226 ,  2.95475399, 12.96060689, 16.73183068,\n",
      "       13.82854678, 11.08726698, 13.62581532, 10.64582955,  9.28520826,\n",
      "        9.99772861, 10.16730989, 10.76306251, 12.03547126, 15.51755798,\n",
      "       17.24437893,  6.96586985, 15.29477923, 13.6618966 , 11.35203078,\n",
      "        9.77841681, 11.06390943,  2.23552457, 13.41720092,  3.72765527,\n",
      "       12.04139526, 11.73367301, 12.14814119, 13.13149255,  3.4934902 ,\n",
      "       15.50831963, 10.73049971,  4.77151745, 16.48389227, 17.83358394,\n",
      "       17.68315342,  7.7919658 ,  2.66171003, 12.59651071, 13.73194567,\n",
      "       11.4592767 ,  4.7292069 ,  8.78737979,  4.84851452,  6.34702287,\n",
      "       13.80086301,  4.44573139,  3.34456628,  9.96027552, 14.61079788,\n",
      "        3.5549244 , 12.84644859, 11.41606847, 12.17075262, 14.2928211 ,\n",
      "        1.79162383,  8.89903609,  4.69755564, 13.70747629, 12.35637802,\n",
      "       13.71291619,  8.48657996,  5.8303276 ,  3.09483651, 16.31856804,\n",
      "       14.08623811, 10.84799741, 16.20127046, 10.74439291,  2.95201796,\n",
      "        7.19375788, 14.84159926, 12.72361418,  2.55254055,  8.880967  ,\n",
      "       11.34847129,  7.62671523,  3.93669053, 12.32284719, 17.01995964,\n",
      "       11.66916846, 14.36500996,  8.16503743, 12.68202716, 17.04530009,\n",
      "       13.30182884, 12.08399052, 14.36044221])>, 'degree_centrality': <tf.Tensor: shape=(128,), dtype=float64, numpy=\n",
      "array([0.01680672, 0.01680672, 0.01680672, 0.01680672, 0.01680672,\n",
      "       0.01680672, 0.01680672, 0.01680672, 0.01680672, 0.01680672,\n",
      "       0.01680672, 0.01680672, 0.03361345, 0.01680672, 0.01680672,\n",
      "       0.01680672, 0.01680672, 0.01680672, 0.01680672, 0.01680672,\n",
      "       0.01680672, 0.01680672, 0.01680672, 0.01680672, 0.01680672,\n",
      "       0.01680672, 0.01680672, 0.01680672, 0.03361345, 0.00840336,\n",
      "       0.01680672, 0.01680672, 0.01680672, 0.01680672, 0.00840336,\n",
      "       0.01680672, 0.02521008, 0.01680672, 0.01680672, 0.02521008,\n",
      "       0.01680672, 0.01680672, 0.01680672, 0.01680672, 0.01680672,\n",
      "       0.00840336, 0.01680672, 0.01680672, 0.01680672, 0.01680672,\n",
      "       0.01680672, 0.01680672, 0.01680672, 0.00840336, 0.01680672,\n",
      "       0.01680672, 0.01680672, 0.01680672, 0.01680672, 0.01680672,\n",
      "       0.01680672, 0.01680672, 0.01680672, 0.01680672, 0.01680672,\n",
      "       0.01680672, 0.01680672, 0.03361345, 0.01680672, 0.01680672,\n",
      "       0.01680672, 0.01680672, 0.01680672, 0.01680672, 0.01680672,\n",
      "       0.01680672, 0.01680672, 0.03361345, 0.03361345, 0.01680672,\n",
      "       0.01680672, 0.01680672, 0.01680672, 0.01680672, 0.01680672,\n",
      "       0.01680672, 0.01680672, 0.01680672, 0.01680672, 0.01680672,\n",
      "       0.01680672, 0.01680672, 0.01680672, 0.01680672, 0.01680672,\n",
      "       0.01680672, 0.01680672, 0.01680672, 0.01680672, 0.00840336,\n",
      "       0.01680672, 0.01680672, 0.03361345, 0.01680672, 0.01680672,\n",
      "       0.01680672, 0.02521008, 0.01680672, 0.01680672, 0.03361345,\n",
      "       0.01680672, 0.01680672, 0.01680672, 0.03361345, 0.01680672,\n",
      "       0.01680672, 0.01680672, 0.01680672, 0.01680672, 0.01680672,\n",
      "       0.01680672, 0.01680672, 0.01680672, 0.01680672, 0.01680672,\n",
      "       0.01680672, 0.01680672, 0.01680672])>, 'eigenvector_centrality': <tf.Tensor: shape=(128,), dtype=float64, numpy=\n",
      "array([2.16483475e-04, 5.93883434e-04, 2.41866973e-05, 1.81449702e-04,\n",
      "       9.02135653e-05, 3.41841450e-05, 1.66780137e-02, 4.77823324e-02,\n",
      "       2.45856942e-03, 2.16558751e-04, 8.34190387e-03, 1.87833549e-02,\n",
      "       9.70840141e-03, 9.02135653e-05, 5.93883434e-04, 3.69439570e-02,\n",
      "       2.41866973e-05, 3.41841450e-05, 2.17154776e-02, 6.24282027e-03,\n",
      "       3.82493121e-03, 3.41841450e-05, 1.74279574e-03, 1.79953667e-02,\n",
      "       2.17154776e-02, 1.32558866e-05, 3.81560270e-04, 1.50466913e-04,\n",
      "       2.28684214e-04, 7.86010903e-05, 1.26776186e-04, 2.33460445e-04,\n",
      "       3.81560270e-04, 4.77823324e-02, 7.86010903e-05, 1.02759245e-02,\n",
      "       5.49597727e-04, 1.26776186e-04, 3.69439570e-02, 5.86915666e-04,\n",
      "       5.93883434e-04, 2.41866973e-05, 4.77823324e-02, 9.68409061e-04,\n",
      "       1.32558866e-05, 7.86010903e-05, 1.81449702e-04, 9.68409061e-04,\n",
      "       5.93883434e-04, 1.17900318e-03, 5.93883434e-04, 1.15562103e-03,\n",
      "       5.93883434e-04, 7.00621527e-05, 3.41841450e-05, 1.32558866e-05,\n",
      "       7.04924895e-03, 2.41866973e-05, 3.81560270e-04, 2.33460445e-04,\n",
      "       1.50724457e-03, 2.16558751e-04, 4.77823324e-02, 9.02135653e-05,\n",
      "       3.69439570e-02, 8.55136070e-05, 2.33460445e-04, 2.28684214e-04,\n",
      "       9.68409061e-04, 5.30041642e-02, 2.41866973e-05, 5.93883434e-04,\n",
      "       1.79953667e-02, 2.41866973e-05, 1.32558866e-05, 1.50466913e-04,\n",
      "       2.79884924e-03, 1.21081607e-01, 2.28684214e-04, 9.02135653e-05,\n",
      "       1.81449702e-04, 2.27945881e-02, 3.82493121e-03, 8.34190387e-03,\n",
      "       8.71528480e-03, 3.41841450e-05, 1.79953667e-02, 5.30041642e-02,\n",
      "       1.50724457e-03, 3.81560270e-04, 5.30041642e-02, 9.68409061e-04,\n",
      "       2.16558751e-04, 2.33460445e-04, 1.26776186e-04, 1.33813031e-01,\n",
      "       1.50724457e-03, 2.27945881e-02, 9.68409061e-04, 7.00621527e-05,\n",
      "       9.02135653e-05, 2.45856942e-03, 1.11783628e-02, 4.77823324e-02,\n",
      "       2.41866973e-05, 3.81560270e-04, 5.86915666e-04, 2.41866973e-05,\n",
      "       3.00634154e-04, 1.21081607e-01, 6.24282027e-03, 3.81560270e-04,\n",
      "       8.55136070e-05, 1.21081607e-01, 1.50724457e-03, 1.81449702e-04,\n",
      "       2.79884924e-03, 3.69439570e-02, 2.33460445e-04, 3.36172660e-05,\n",
      "       2.16558751e-04, 3.81560270e-04, 1.74279574e-03, 9.02135653e-05,\n",
      "       1.32558866e-05, 1.26776186e-04, 2.16558751e-04, 3.81560270e-04])>, 'flat_model_type': <tf.Tensor: shape=(128,), dtype=string, numpy=\n",
      "array([b'5 ROOM, Improved', b'5 ROOM, Premium Apartment',\n",
      "       b'4 ROOM, Model A', b'EXECUTIVE, Maisonette',\n",
      "       b'5 ROOM, Premium Apartment', b'4 ROOM, Model A',\n",
      "       b'4 ROOM, Model A', b'3 ROOM, Model A', b'4 ROOM, New Generation',\n",
      "       b'4 ROOM, Model A2', b'5 ROOM, Premium Apartment',\n",
      "       b'5 ROOM, Standard', b'4 ROOM, Simplified', b'5 ROOM, Improved',\n",
      "       b'4 ROOM, Premium Apartment', b'3 ROOM, Improved',\n",
      "       b'4 ROOM, Model A', b'5 ROOM, Improved', b'3 ROOM, Model A',\n",
      "       b'5 ROOM, Improved', b'EXECUTIVE, Maisonette', b'5 ROOM, Improved',\n",
      "       b'EXECUTIVE, Maisonette', b'4 ROOM, Improved', b'3 ROOM, Improved',\n",
      "       b'4 ROOM, Premium Apartment', b'4 ROOM, Model A',\n",
      "       b'5 ROOM, Improved', b'4 ROOM, Model A', b'EXECUTIVE, Apartment',\n",
      "       b'4 ROOM, New Generation', b'4 ROOM, Model A', b'4 ROOM, Model A',\n",
      "       b'5 ROOM, Improved', b'5 ROOM, Model A', b'4 ROOM, Improved',\n",
      "       b'EXECUTIVE, Apartment', b'5 ROOM, Improved', b'5 ROOM, Improved',\n",
      "       b'5 ROOM, Improved', b'4 ROOM, Model A', b'4 ROOM, Model A',\n",
      "       b'4 ROOM, Model A', b'3 ROOM, Model A', b'5 ROOM, Improved',\n",
      "       b'5 ROOM, Improved', b'4 ROOM, Model A', b'4 ROOM, Simplified',\n",
      "       b'4 ROOM, Model A', b'5 ROOM, Improved', b'5 ROOM, Improved',\n",
      "       b'4 ROOM, Model A', b'4 ROOM, Model A', b'5 ROOM, Improved',\n",
      "       b'EXECUTIVE, Apartment', b'5 ROOM, Premium Apartment',\n",
      "       b'3 ROOM, Improved', b'EXECUTIVE, Apartment', b'4 ROOM, Model A',\n",
      "       b'4 ROOM, Model A', b'4 ROOM, Model A', b'3 ROOM, Simplified',\n",
      "       b'5 ROOM, Improved', b'3 ROOM, Premium Apartment',\n",
      "       b'5 ROOM, Improved', b'5 ROOM, Improved',\n",
      "       b'4 ROOM, Premium Apartment', b'EXECUTIVE, Maisonette',\n",
      "       b'5 ROOM, Improved', b'4 ROOM, Model A', b'5 ROOM, Improved',\n",
      "       b'4 ROOM, Premium Apartment', b'3 ROOM, Improved',\n",
      "       b'4 ROOM, Model A', b'5 ROOM, Improved', b'4 ROOM, Model A',\n",
      "       b'5 ROOM, Improved', b'4 ROOM, Type S1', b'5 ROOM, Model A',\n",
      "       b'5 ROOM, Premium Apartment', b'4 ROOM, Model A',\n",
      "       b'3 ROOM, Improved', b'EXECUTIVE, Maisonette', b'3 ROOM, Improved',\n",
      "       b'EXECUTIVE, Maisonette', b'4 ROOM, Model A', b'3 ROOM, Improved',\n",
      "       b'3 ROOM, Standard', b'EXECUTIVE, Maisonette', b'4 ROOM, Model A',\n",
      "       b'4 ROOM, Model A', b'3 ROOM, Model A', b'3 ROOM, New Generation',\n",
      "       b'5 ROOM, Improved', b'5 ROOM, Premium Apartment',\n",
      "       b'5 ROOM, Standard', b'3 ROOM, Improved', b'5 ROOM, Standard',\n",
      "       b'5 ROOM, Improved', b'4 ROOM, Model A',\n",
      "       b'5 ROOM, Premium Apartment', b'4 ROOM, New Generation',\n",
      "       b'4 ROOM, Model A', b'4 ROOM, Model A',\n",
      "       b'4 ROOM, Premium Apartment', b'5 ROOM, Improved',\n",
      "       b'3 ROOM, New Generation', b'5 ROOM, Premium Apartment',\n",
      "       b'4 ROOM, New Generation', b'5 ROOM, Standard',\n",
      "       b'5 ROOM, Improved', b'3 ROOM, Model A', b'3 ROOM, Model A',\n",
      "       b'3 ROOM, New Generation', b'3 ROOM, Improved', b'4 ROOM, Model A',\n",
      "       b'4 ROOM, Improved', b'4 ROOM, Model A',\n",
      "       b'5 ROOM, Premium Apartment', b'4 ROOM, Model A',\n",
      "       b'4 ROOM, New Generation', b'4 ROOM, Model A', b'5 ROOM, Improved',\n",
      "       b'5 ROOM, Improved', b'5 ROOM, Improved', b'5 ROOM, Improved',\n",
      "       b'4 ROOM, Model A', b'EXECUTIVE, Maisonette'], dtype=object)>, 'remaining_lease_years': <tf.Tensor: shape=(128,), dtype=float64, numpy=\n",
      "array([60.5       , 82.08333333, 75.33333333, 63.08333333, 94.5       ,\n",
      "       95.5       , 76.25      , 93.91666667, 58.25      , 76.16666667,\n",
      "       94.33333333, 54.58333333, 63.41666667, 81.41666667, 82.66666667,\n",
      "       50.16666667, 75.41666667, 94.41666667, 61.83333333, 58.83333333,\n",
      "       64.33333333, 95.25      , 63.91666667, 51.        , 51.25      ,\n",
      "       79.        , 93.58333333, 80.58333333, 93.5       , 71.41666667,\n",
      "       64.16666667, 94.58333333, 93.41666667, 90.75      , 74.33333333,\n",
      "       52.08333333, 76.66666667, 72.33333333, 66.91666667, 63.66666667,\n",
      "       92.75      , 76.66666667, 97.33333333, 66.08333333, 79.08333333,\n",
      "       93.33333333, 93.41666667, 65.25      , 90.41666667, 58.83333333,\n",
      "       82.33333333, 88.16666667, 90.91666667, 66.41666667, 72.75      ,\n",
      "       83.83333333, 54.91666667, 79.33333333, 93.25      , 80.08333333,\n",
      "       76.75      , 64.5       , 83.33333333, 94.16666667, 66.83333333,\n",
      "       64.83333333, 93.        , 62.91666667, 65.        , 95.33333333,\n",
      "       78.83333333, 87.        , 51.16666667, 95.16666667, 66.83333333,\n",
      "       81.91666667, 66.58333333, 88.83333333, 62.33333333, 93.83333333,\n",
      "       63.25      , 52.25      , 75.75      , 48.16666667, 63.83333333,\n",
      "       95.33333333, 48.41666667, 48.41666667, 67.16666667, 93.75      ,\n",
      "       95.41666667, 95.16666667, 63.        , 94.33333333, 74.5       ,\n",
      "       54.25      , 53.25      , 52.33333333, 64.41666667, 94.75      ,\n",
      "       94.41666667, 59.75      , 94.75      , 62.25      , 92.91666667,\n",
      "       64.41666667, 56.        , 76.75      , 55.83333333, 57.83333333,\n",
      "       84.25      , 93.83333333, 65.75      , 58.58333333, 63.75      ,\n",
      "       62.58333333, 53.25      , 87.        , 79.16666667, 79.91666667,\n",
      "       63.66666667, 66.33333333, 60.41666667, 95.16666667, 80.41666667,\n",
      "       71.5       , 76.91666667, 66.25      ])>, 'floor_area_sqm': <tf.Tensor: shape=(128,), dtype=float64, numpy=\n",
      "array([120., 111.,  97., 150., 112.,  93., 102.,  62.,  91.,  90.,  99.,\n",
      "       123.,  84., 110.,  90.,  65., 101., 113.,  75., 118., 154., 112.,\n",
      "       150.,  87.,  66.,  95.,  92., 110.,  92., 149.,  93.,  93.,  92.,\n",
      "       113., 134.,  88., 143., 121., 122., 122.,  93., 102.,  93.,  73.,\n",
      "       112., 113.,  93.,  84.,  94., 118., 110.,  97.,  94., 122., 152.,\n",
      "       112.,  65., 131.,  92.,  90., 100.,  64., 115.,  67., 122., 122.,\n",
      "        92., 150., 121.,  93., 110.,  90.,  65.,  93., 122.,  91., 125.,\n",
      "        93., 133., 113., 105.,  73., 143.,  70., 146.,  92.,  66.,  56.,\n",
      "       145.,  92.,  93.,  68.,  67., 113., 124., 119.,  59., 120., 120.,\n",
      "        93., 113.,  91.,  93., 105.,  92., 129.,  67., 125.,  98., 124.,\n",
      "       110.,  67.,  73.,  72.,  60., 105.,  82.,  92., 115.,  90.,  99.,\n",
      "       104., 120., 112., 111., 127., 100., 146.])>, 'storey_range': <tf.Tensor: shape=(128,), dtype=string, numpy=\n",
      "array([b'13 TO 15', b'16 TO 18', b'01 TO 03', b'04 TO 06', b'16 TO 18',\n",
      "       b'16 TO 18', b'01 TO 03', b'34 TO 36', b'01 TO 03', b'07 TO 09',\n",
      "       b'07 TO 09', b'04 TO 06', b'01 TO 03', b'10 TO 12', b'25 TO 27',\n",
      "       b'04 TO 06', b'07 TO 09', b'10 TO 12', b'04 TO 06', b'22 TO 24',\n",
      "       b'01 TO 03', b'16 TO 18', b'04 TO 06', b'04 TO 06', b'01 TO 03',\n",
      "       b'04 TO 06', b'10 TO 12', b'10 TO 12', b'01 TO 03', b'07 TO 09',\n",
      "       b'07 TO 09', b'04 TO 06', b'13 TO 15', b'25 TO 27', b'07 TO 09',\n",
      "       b'16 TO 18', b'10 TO 12', b'10 TO 12', b'04 TO 06', b'04 TO 06',\n",
      "       b'07 TO 09', b'07 TO 09', b'43 TO 45', b'10 TO 12', b'04 TO 06',\n",
      "       b'07 TO 09', b'01 TO 03', b'04 TO 06', b'04 TO 06', b'22 TO 24',\n",
      "       b'13 TO 15', b'04 TO 06', b'13 TO 15', b'07 TO 09', b'01 TO 03',\n",
      "       b'13 TO 15', b'07 TO 09', b'10 TO 12', b'04 TO 06', b'10 TO 12',\n",
      "       b'04 TO 06', b'07 TO 09', b'13 TO 15', b'07 TO 09', b'01 TO 03',\n",
      "       b'07 TO 09', b'10 TO 12', b'01 TO 03', b'01 TO 03', b'04 TO 06',\n",
      "       b'04 TO 06', b'10 TO 12', b'10 TO 12', b'13 TO 15', b'07 TO 09',\n",
      "       b'19 TO 21', b'10 TO 12', b'46 TO 48', b'07 TO 09', b'13 TO 15',\n",
      "       b'13 TO 15', b'10 TO 12', b'10 TO 12', b'16 TO 18', b'01 TO 03',\n",
      "       b'22 TO 24', b'07 TO 09', b'01 TO 03', b'01 TO 03', b'10 TO 12',\n",
      "       b'13 TO 15', b'07 TO 09', b'07 TO 09', b'10 TO 12', b'07 TO 09',\n",
      "       b'04 TO 06', b'07 TO 09', b'04 TO 06', b'10 TO 12', b'04 TO 06',\n",
      "       b'16 TO 18', b'01 TO 03', b'13 TO 15', b'07 TO 09', b'13 TO 15',\n",
      "       b'10 TO 12', b'07 TO 09', b'07 TO 09', b'07 TO 09', b'16 TO 18',\n",
      "       b'04 TO 06', b'13 TO 15', b'01 TO 03', b'10 TO 12', b'07 TO 09',\n",
      "       b'07 TO 09', b'04 TO 06', b'07 TO 09', b'01 TO 03', b'01 TO 03',\n",
      "       b'07 TO 09', b'10 TO 12', b'07 TO 09', b'01 TO 03', b'04 TO 06',\n",
      "       b'04 TO 06', b'10 TO 12', b'01 TO 03'], dtype=object)>}, <tf.Tensor: shape=(128,), dtype=float64, numpy=\n",
      "array([ 600000.,  500000.,  378000.,  758000.,  640000.,  500000.,\n",
      "        560000.,  683000.,  375000.,  402000.,  950000.,  630000.,\n",
      "        540000.,  422000.,  428000.,  280000.,  410000.,  595000.,\n",
      "        420000.,  600000.,  640000.,  630000.,  660000.,  428000.,\n",
      "        230000.,  445000.,  460000.,  475000.,  470000.,  593000.,\n",
      "        393000.,  405000.,  500000., 1010000.,  560000.,  590000.,\n",
      "        832000.,  627500.,  628000.,  580000.,  450000.,  360000.,\n",
      "        910000.,  343800.,  490000.,  700088.,  530000.,  340000.,\n",
      "        412000.,  643888.,  458000.,  570000.,  447000.,  502000.,\n",
      "        535000.,  526000.,  283000.,  540000.,  423000.,  435000.,\n",
      "        450000.,  310000.,  940000.,  390000.,  583000.,  460000.,\n",
      "        490000.,  750000.,  500000.,  645000.,  455000.,  593000.,\n",
      "        330000.,  515000.,  410000.,  408000.,  768000., 1032000.,\n",
      "        610000.,  690000.,  490000.,  430000.,  770000.,  338000.,\n",
      "        870000.,  505000.,  245000.,  218000.,  726000.,  442000.,\n",
      "        708000.,  368000.,  295000.,  620000.,  550000.,  585000.,\n",
      "        272000.,  828000.,  476000.,  440000.,  715000.,  365000.,\n",
      "        750000.,  540000.,  490000.,  580000.,  300000.,  565000.,\n",
      "        435000.,  750000.,  698000.,  356000.,  278000.,  440000.,\n",
      "        265000.,  480000.,  453000.,  730000.,  350000.,  345000.,\n",
      "        418000.,  420000.,  468000.,  585000.,  488000.,  572000.,\n",
      "        563000.,  630000.])>)\n"
     ]
    }
   ],
   "source": [
    "import random\n",
    "random_batch = random.randint(0,131)\n",
    "print(random_batch)\n",
    "i = 0\n",
    "for batch in test_ds:\n",
    "  if(i == random_batch):\n",
    "    rand_batch = batch\n",
    "  i += 1\n",
    "print(rand_batch)"
   ]
  },
  {
   "cell_type": "code",
   "execution_count": 21,
   "metadata": {
    "colab": {
     "base_uri": "https://localhost:8080/"
    },
    "executionInfo": {
     "elapsed": 773,
     "status": "ok",
     "timestamp": 1634197576342,
     "user": {
      "displayName": "Aishwarya Singh",
      "photoUrl": "https://lh3.googleusercontent.com/a-/AOh14GgrDt3XHTbi6lUxuRrKkBiFChJ6Iau-0J22gLWWrA=s64",
      "userId": "06952162984620525698"
     },
     "user_tz": -480
    },
    "id": "CCoh-CwSvfNM",
    "outputId": "47a3e21d-84b4-46c3-c8b1-833798d5df62"
   },
   "outputs": [
    {
     "name": "stderr",
     "output_type": "stream",
     "text": [
      "/usr/local/lib/python3.7/dist-packages/keras/engine/functional.py:585: UserWarning: Input dict contained keys ['year', 'full_address', 'nearest_stn'] which did not match any model input. They will be ignored by the model.\n",
      "  [n for n in tensors.keys() if n not in ref_input_names])\n"
     ]
    }
   ],
   "source": [
    "# Predict the output \n",
    "y_pred = loadModel.predict(rand_batch[0])"
   ]
  },
  {
   "cell_type": "code",
   "execution_count": 22,
   "metadata": {
    "colab": {
     "base_uri": "https://localhost:8080/",
     "height": 295
    },
    "executionInfo": {
     "elapsed": 366,
     "status": "ok",
     "timestamp": 1634197580022,
     "user": {
      "displayName": "Aishwarya Singh",
      "photoUrl": "https://lh3.googleusercontent.com/a-/AOh14GgrDt3XHTbi6lUxuRrKkBiFChJ6Iau-0J22gLWWrA=s64",
      "userId": "06952162984620525698"
     },
     "user_tz": -480
    },
    "id": "oKiAK4m0vhS1",
    "outputId": "60eed1cc-985a-4cea-8602-0576cdb3a24f"
   },
   "outputs": [
    {
     "data": {
      "text/plain": [
       "<matplotlib.collections.PathCollection at 0x7ff8d65932d0>"
      ]
     },
     "execution_count": 22,
     "metadata": {},
     "output_type": "execute_result"
    },
    {
     "data": {
      "image/png": "[encoded data removed]",
      "text/plain": [
       "<Figure size 432x288 with 1 Axes>"
      ]
     },
     "metadata": {
      "needs_background": "light"
     },
     "output_type": "display_data"
    }
   ],
   "source": [
    "# Plot the predictions\n",
    "plt.scatter(rand_batch[1], y_pred)"
   ]
  }
 ],
 "metadata": {
  "colab": {
   "collapsed_sections": [],
   "name": "Part-B-Question-1.ipynb",
   "provenance": []
  },
  "kernelspec": {
   "display_name": "Python 3",
   "language": "python",
   "name": "python3"
  },
  "language_info": {
   "codemirror_mode": {
    "name": "ipython",
    "version": 3
   },
   "file_extension": ".py",
   "mimetype": "text/x-python",
   "name": "python",
   "nbconvert_exporter": "python",
   "pygments_lexer": "ipython3",
   "version": "3.8.5"
  }
 },
 "nbformat": 4,
 "nbformat_minor": 1
}
