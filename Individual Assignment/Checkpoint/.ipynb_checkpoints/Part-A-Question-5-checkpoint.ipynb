{
 "cells": [
  {
   "cell_type": "markdown",
   "metadata": {
    "id": "qoDKVMHid-zd"
   },
   "source": [
    "# Individual Assignment - Submission\n",
    "\n",
    "> - **Course:** *CE/CZ 4042 - Neural Networks and Deep Learning* \n",
    "> - **Name:** *Singh Aishwarya*\n",
    "> - **Matriculation Number:** *U1923952C*\n",
    "> - **Part:** *A - Classification Problem*\n",
    "> - **Question:** *5*"
   ]
  },
  {
   "cell_type": "markdown",
   "metadata": {
    "id": "029lHJSGd-ze"
   },
   "source": [
    "### Necessary Imports"
   ]
  },
  {
   "cell_type": "code",
   "execution_count": null,
   "metadata": {
    "id": "GZaPhhTgd-ze"
   },
   "outputs": [],
   "source": [
    "# Basic Helper Libraries\n",
    "import tensorflow\n",
    "import pandas as pd\n",
    "import time\n",
    "import numpy as np\n",
    "\n",
    "# tensorflow libraries\n",
    "import tensorflow as tf\n",
    "import tensorflow.keras as keras\n",
    "from tensorflow.keras import Sequential\n",
    "from tensorflow.keras.layers import Dense, Dropout\n",
    "from tensorflow.keras.callbacks import Callback\n",
    "\n",
    "# sklearn libraries are useful for preprocessing, performance measures, etc.\n",
    "from sklearn import preprocessing\n",
    "from sklearn.model_selection import KFold\n",
    "from sklearn.model_selection import train_test_split\n",
    "\n",
    "# Libraries for plotting and visualization\n",
    "import pylab as plt\n",
    "import matplotlib.pyplot as matplt"
   ]
  },
  {
   "cell_type": "markdown",
   "metadata": {
    "id": "7HnBN7mAd-zf"
   },
   "source": [
    "### Data Retrieval + Train-Test Split"
   ]
  },
  {
   "cell_type": "code",
   "execution_count": null,
   "metadata": {
    "id": "-HG_iAtqd-zf",
    "outputId": "04e3de18-976c-41f4-adf6-087ee5fc4cb2"
   },
   "outputs": [
    {
     "data": {
      "text/html": [
       "<div>\n",
       "<style scoped>\n",
       "    .dataframe tbody tr th:only-of-type {\n",
       "        vertical-align: middle;\n",
       "    }\n",
       "\n",
       "    .dataframe tbody tr th {\n",
       "        vertical-align: top;\n",
       "    }\n",
       "\n",
       "    .dataframe thead th {\n",
       "        text-align: right;\n",
       "    }\n",
       "</style>\n",
       "<table border=\"1\" class=\"dataframe\">\n",
       "  <thead>\n",
       "    <tr style=\"text-align: right;\">\n",
       "      <th></th>\n",
       "      <th>filename</th>\n",
       "      <th>length</th>\n",
       "      <th>chroma_stft_mean</th>\n",
       "      <th>chroma_stft_var</th>\n",
       "      <th>rms_mean</th>\n",
       "      <th>rms_var</th>\n",
       "      <th>spectral_centroid_mean</th>\n",
       "      <th>spectral_centroid_var</th>\n",
       "      <th>spectral_bandwidth_mean</th>\n",
       "      <th>spectral_bandwidth_var</th>\n",
       "      <th>...</th>\n",
       "      <th>mfcc16_var</th>\n",
       "      <th>mfcc17_mean</th>\n",
       "      <th>mfcc17_var</th>\n",
       "      <th>mfcc18_mean</th>\n",
       "      <th>mfcc18_var</th>\n",
       "      <th>mfcc19_mean</th>\n",
       "      <th>mfcc19_var</th>\n",
       "      <th>mfcc20_mean</th>\n",
       "      <th>mfcc20_var</th>\n",
       "      <th>label</th>\n",
       "    </tr>\n",
       "  </thead>\n",
       "  <tbody>\n",
       "    <tr>\n",
       "      <th>0</th>\n",
       "      <td>blues.00000.wav</td>\n",
       "      <td>661794</td>\n",
       "      <td>0.350088</td>\n",
       "      <td>0.088757</td>\n",
       "      <td>0.130228</td>\n",
       "      <td>0.002827</td>\n",
       "      <td>1784.165850</td>\n",
       "      <td>129774.064525</td>\n",
       "      <td>2002.449060</td>\n",
       "      <td>85882.761315</td>\n",
       "      <td>...</td>\n",
       "      <td>52.420910</td>\n",
       "      <td>-1.690215</td>\n",
       "      <td>36.524071</td>\n",
       "      <td>-0.408979</td>\n",
       "      <td>41.597103</td>\n",
       "      <td>-2.303523</td>\n",
       "      <td>55.062923</td>\n",
       "      <td>1.221291</td>\n",
       "      <td>46.936035</td>\n",
       "      <td>blues</td>\n",
       "    </tr>\n",
       "    <tr>\n",
       "      <th>1</th>\n",
       "      <td>blues.00001.wav</td>\n",
       "      <td>661794</td>\n",
       "      <td>0.340914</td>\n",
       "      <td>0.094980</td>\n",
       "      <td>0.095948</td>\n",
       "      <td>0.002373</td>\n",
       "      <td>1530.176679</td>\n",
       "      <td>375850.073649</td>\n",
       "      <td>2039.036516</td>\n",
       "      <td>213843.755497</td>\n",
       "      <td>...</td>\n",
       "      <td>55.356403</td>\n",
       "      <td>-0.731125</td>\n",
       "      <td>60.314529</td>\n",
       "      <td>0.295073</td>\n",
       "      <td>48.120598</td>\n",
       "      <td>-0.283518</td>\n",
       "      <td>51.106190</td>\n",
       "      <td>0.531217</td>\n",
       "      <td>45.786282</td>\n",
       "      <td>blues</td>\n",
       "    </tr>\n",
       "    <tr>\n",
       "      <th>2</th>\n",
       "      <td>blues.00002.wav</td>\n",
       "      <td>661794</td>\n",
       "      <td>0.363637</td>\n",
       "      <td>0.085275</td>\n",
       "      <td>0.175570</td>\n",
       "      <td>0.002746</td>\n",
       "      <td>1552.811865</td>\n",
       "      <td>156467.643368</td>\n",
       "      <td>1747.702312</td>\n",
       "      <td>76254.192257</td>\n",
       "      <td>...</td>\n",
       "      <td>40.598766</td>\n",
       "      <td>-7.729093</td>\n",
       "      <td>47.639427</td>\n",
       "      <td>-1.816407</td>\n",
       "      <td>52.382141</td>\n",
       "      <td>-3.439720</td>\n",
       "      <td>46.639660</td>\n",
       "      <td>-2.231258</td>\n",
       "      <td>30.573025</td>\n",
       "      <td>blues</td>\n",
       "    </tr>\n",
       "    <tr>\n",
       "      <th>3</th>\n",
       "      <td>blues.00003.wav</td>\n",
       "      <td>661794</td>\n",
       "      <td>0.404785</td>\n",
       "      <td>0.093999</td>\n",
       "      <td>0.141093</td>\n",
       "      <td>0.006346</td>\n",
       "      <td>1070.106615</td>\n",
       "      <td>184355.942417</td>\n",
       "      <td>1596.412872</td>\n",
       "      <td>166441.494769</td>\n",
       "      <td>...</td>\n",
       "      <td>44.427753</td>\n",
       "      <td>-3.319597</td>\n",
       "      <td>50.206673</td>\n",
       "      <td>0.636965</td>\n",
       "      <td>37.319130</td>\n",
       "      <td>-0.619121</td>\n",
       "      <td>37.259739</td>\n",
       "      <td>-3.407448</td>\n",
       "      <td>31.949339</td>\n",
       "      <td>blues</td>\n",
       "    </tr>\n",
       "    <tr>\n",
       "      <th>4</th>\n",
       "      <td>blues.00004.wav</td>\n",
       "      <td>661794</td>\n",
       "      <td>0.308526</td>\n",
       "      <td>0.087841</td>\n",
       "      <td>0.091529</td>\n",
       "      <td>0.002303</td>\n",
       "      <td>1835.004266</td>\n",
       "      <td>343399.939274</td>\n",
       "      <td>1748.172116</td>\n",
       "      <td>88445.209036</td>\n",
       "      <td>...</td>\n",
       "      <td>86.099236</td>\n",
       "      <td>-5.454034</td>\n",
       "      <td>75.269707</td>\n",
       "      <td>-0.916874</td>\n",
       "      <td>53.613918</td>\n",
       "      <td>-4.404827</td>\n",
       "      <td>62.910812</td>\n",
       "      <td>-11.703234</td>\n",
       "      <td>55.195160</td>\n",
       "      <td>blues</td>\n",
       "    </tr>\n",
       "  </tbody>\n",
       "</table>\n",
       "<p>5 rows × 60 columns</p>\n",
       "</div>"
      ],
      "text/plain": [
       "          filename  length  chroma_stft_mean  chroma_stft_var  rms_mean  \\\n",
       "0  blues.00000.wav  661794          0.350088         0.088757  0.130228   \n",
       "1  blues.00001.wav  661794          0.340914         0.094980  0.095948   \n",
       "2  blues.00002.wav  661794          0.363637         0.085275  0.175570   \n",
       "3  blues.00003.wav  661794          0.404785         0.093999  0.141093   \n",
       "4  blues.00004.wav  661794          0.308526         0.087841  0.091529   \n",
       "\n",
       "    rms_var  spectral_centroid_mean  spectral_centroid_var  \\\n",
       "0  0.002827             1784.165850          129774.064525   \n",
       "1  0.002373             1530.176679          375850.073649   \n",
       "2  0.002746             1552.811865          156467.643368   \n",
       "3  0.006346             1070.106615          184355.942417   \n",
       "4  0.002303             1835.004266          343399.939274   \n",
       "\n",
       "   spectral_bandwidth_mean  spectral_bandwidth_var  ...  mfcc16_var  \\\n",
       "0              2002.449060            85882.761315  ...   52.420910   \n",
       "1              2039.036516           213843.755497  ...   55.356403   \n",
       "2              1747.702312            76254.192257  ...   40.598766   \n",
       "3              1596.412872           166441.494769  ...   44.427753   \n",
       "4              1748.172116            88445.209036  ...   86.099236   \n",
       "\n",
       "   mfcc17_mean  mfcc17_var  mfcc18_mean  mfcc18_var  mfcc19_mean  mfcc19_var  \\\n",
       "0    -1.690215   36.524071    -0.408979   41.597103    -2.303523   55.062923   \n",
       "1    -0.731125   60.314529     0.295073   48.120598    -0.283518   51.106190   \n",
       "2    -7.729093   47.639427    -1.816407   52.382141    -3.439720   46.639660   \n",
       "3    -3.319597   50.206673     0.636965   37.319130    -0.619121   37.259739   \n",
       "4    -5.454034   75.269707    -0.916874   53.613918    -4.404827   62.910812   \n",
       "\n",
       "   mfcc20_mean  mfcc20_var  label  \n",
       "0     1.221291   46.936035  blues  \n",
       "1     0.531217   45.786282  blues  \n",
       "2    -2.231258   30.573025  blues  \n",
       "3    -3.407448   31.949339  blues  \n",
       "4   -11.703234   55.195160  blues  \n",
       "\n",
       "[5 rows x 60 columns]"
      ]
     },
     "execution_count": 3,
     "metadata": {},
     "output_type": "execute_result"
    }
   ],
   "source": [
    "# Accessing the features data in the csv file and assigning it to a dataframe\n",
    "df = pd.read_csv('./features_30_sec.csv')\n",
    "df.head()"
   ]
  },
  {
   "cell_type": "code",
   "execution_count": null,
   "metadata": {
    "id": "0sh8FfMhd-zg",
    "outputId": "a2df635a-df7a-47e5-e86a-9da46682d096"
   },
   "outputs": [
    {
     "data": {
      "text/plain": [
       "classical    100\n",
       "reggae       100\n",
       "blues        100\n",
       "pop          100\n",
       "disco        100\n",
       "hiphop       100\n",
       "jazz         100\n",
       "metal        100\n",
       "country      100\n",
       "rock         100\n",
       "Name: label, dtype: int64"
      ]
     },
     "execution_count": 4,
     "metadata": {},
     "output_type": "execute_result"
    }
   ],
   "source": [
    "# Check the value count of the output\n",
    "df['label'].value_counts()"
   ]
  },
  {
   "cell_type": "code",
   "execution_count": null,
   "metadata": {
    "id": "ysA8d8q9d-zg"
   },
   "outputs": [],
   "source": [
    "# Prepare Train and Test Dataframes\n",
    "columns_to_drop = ['label','filename', 'length']\n",
    "\n",
    "def prepare_dataset(df, columns_to_drop, test_size, random_state):\n",
    "\n",
    "    # Encode the labels from 0 to n_classes-1  \n",
    "    label_encoder = preprocessing.LabelEncoder()\n",
    "    df['label'] = label_encoder.fit_transform(df['label'])\n",
    "  \n",
    "    # Divide data to train and test\n",
    "    df_train, df_test = train_test_split(df, test_size=test_size, random_state=random_state)\n",
    "    \n",
    "    # Scale the training inputs\n",
    "    x_train = df_train.drop(columns_to_drop,axis=1)\n",
    "    y_train = df_train['label'].to_numpy()\n",
    "    \n",
    "    standard_scaler = preprocessing.StandardScaler()\n",
    "    x_train_scaled = standard_scaler.fit_transform(x_train)\n",
    "\n",
    "    # Scale and prepare testing data\n",
    "    x_test = df_test.drop(columns_to_drop,axis=1)\n",
    "    x_test_scaled = standard_scaler.transform(x_test)\n",
    "    y_test = df_test['label'].to_numpy() \n",
    "  \n",
    "    return x_train_scaled, y_train, x_test_scaled, y_test"
   ]
  },
  {
   "cell_type": "code",
   "execution_count": null,
   "metadata": {
    "id": "O1SQm308d-zg",
    "outputId": "53a145dc-2dac-4d14-e74f-7925b3ed2d55"
   },
   "outputs": [
    {
     "name": "stdout",
     "output_type": "stream",
     "text": [
      "(700, 57) (700,)\n",
      "(300, 57) (300,)\n"
     ]
    }
   ],
   "source": [
    "# Splitting the prepared dataframes (70% Training and 30% Test)\n",
    "X_train, y_train, X_test, y_test = prepare_dataset(df, columns_to_drop, test_size=0.3, random_state=0)\n",
    "\n",
    "print(X_train.shape, y_train.shape)\n",
    "print(X_test.shape, y_test.shape)"
   ]
  },
  {
   "cell_type": "markdown",
   "metadata": {
    "id": "WlkI5y9pd-zg"
   },
   "source": [
    "### Model Training - Answering the question"
   ]
  },
  {
   "cell_type": "markdown",
   "metadata": {
    "id": "k4BjlJ2Qd-zh"
   },
   "source": [
    "> **Question:** *We are going to dissect the purpose of dropout in the model.*"
   ]
  },
  {
   "cell_type": "code",
   "execution_count": null,
   "metadata": {
    "id": "AQZxs8spd-zh"
   },
   "outputs": [],
   "source": [
    "# Setting the given parameters for the model\n",
    "num_epochs = 50\n",
    "num_hidden = 16\n",
    "batch_size = 1\n",
    "num_labels = 10\n",
    "num_features = 57"
   ]
  },
  {
   "cell_type": "markdown",
   "metadata": {
    "id": "1P_ye9ryd-zh"
   },
   "source": [
    "#### a) Why do we add dropouts? Investigate the purpose of dropouts by removing dropouts from your original 2-layer network (before changing the batch size and number of neurons). Plot accuracies on training and test data with neural network without dropout. Plot as well the losses on training and test data with neural network without dropout."
   ]
  },
  {
   "cell_type": "code",
   "execution_count": null,
   "metadata": {
    "id": "Sxbig9qrd-zi",
    "outputId": "752e967e-760f-4908-d1b2-8f709c4a4d40",
    "scrolled": true
   },
   "outputs": [
    {
     "name": "stdout",
     "output_type": "stream",
     "text": [
      "Epoch 1/50\n",
      "700/700 [==============================] - 2s 2ms/step - loss: 2.0091 - accuracy: 0.2729 - val_loss: 1.7186 - val_accuracy: 0.4200\n",
      "Epoch 2/50\n",
      "700/700 [==============================] - 1s 1ms/step - loss: 1.4017 - accuracy: 0.4986 - val_loss: 1.4244 - val_accuracy: 0.4867\n",
      "Epoch 3/50\n",
      "700/700 [==============================] - 1s 824us/step - loss: 1.1641 - accuracy: 0.6057 - val_loss: 1.2718 - val_accuracy: 0.5433\n",
      "Epoch 4/50\n",
      "700/700 [==============================] - 1s 815us/step - loss: 1.0108 - accuracy: 0.6614 - val_loss: 1.1794 - val_accuracy: 0.5933\n",
      "Epoch 5/50\n",
      "700/700 [==============================] - 1s 823us/step - loss: 0.9150 - accuracy: 0.6971 - val_loss: 1.1117 - val_accuracy: 0.6167\n",
      "Epoch 6/50\n",
      "700/700 [==============================] - 1s 821us/step - loss: 0.8381 - accuracy: 0.7229 - val_loss: 1.0548 - val_accuracy: 0.6333\n",
      "Epoch 7/50\n",
      "700/700 [==============================] - 1s 828us/step - loss: 0.7707 - accuracy: 0.7529 - val_loss: 1.0347 - val_accuracy: 0.6433\n",
      "Epoch 8/50\n",
      "700/700 [==============================] - 1s 814us/step - loss: 0.7221 - accuracy: 0.7643 - val_loss: 1.0181 - val_accuracy: 0.6800\n",
      "Epoch 9/50\n",
      "700/700 [==============================] - 1s 801us/step - loss: 0.6750 - accuracy: 0.7857 - val_loss: 1.0197 - val_accuracy: 0.6633\n",
      "Epoch 10/50\n",
      "700/700 [==============================] - 1s 831us/step - loss: 0.6385 - accuracy: 0.7900 - val_loss: 1.0141 - val_accuracy: 0.6767\n",
      "Epoch 11/50\n",
      "700/700 [==============================] - 1s 898us/step - loss: 0.6016 - accuracy: 0.7971 - val_loss: 1.0036 - val_accuracy: 0.6733\n",
      "Epoch 12/50\n",
      "700/700 [==============================] - 1s 876us/step - loss: 0.5668 - accuracy: 0.8086 - val_loss: 0.9979 - val_accuracy: 0.6733\n",
      "Epoch 13/50\n",
      "700/700 [==============================] - 1s 842us/step - loss: 0.5304 - accuracy: 0.8243 - val_loss: 1.0219 - val_accuracy: 0.6933\n",
      "Epoch 14/50\n",
      "700/700 [==============================] - 1s 831us/step - loss: 0.5079 - accuracy: 0.8300 - val_loss: 1.0400 - val_accuracy: 0.6900\n",
      "Epoch 15/50\n",
      "700/700 [==============================] - 1s 808us/step - loss: 0.4847 - accuracy: 0.8486 - val_loss: 1.0355 - val_accuracy: 0.6867\n",
      "Epoch 16/50\n",
      "700/700 [==============================] - 1s 805us/step - loss: 0.4555 - accuracy: 0.8457 - val_loss: 1.0867 - val_accuracy: 0.6833\n",
      "Epoch 17/50\n",
      "700/700 [==============================] - 1s 804us/step - loss: 0.4362 - accuracy: 0.8586 - val_loss: 1.0479 - val_accuracy: 0.7133\n",
      "Epoch 18/50\n",
      "700/700 [==============================] - 1s 816us/step - loss: 0.4189 - accuracy: 0.8671 - val_loss: 1.0624 - val_accuracy: 0.6967\n",
      "Epoch 19/50\n",
      "700/700 [==============================] - 1s 819us/step - loss: 0.3987 - accuracy: 0.8700 - val_loss: 1.0988 - val_accuracy: 0.6833\n",
      "Epoch 20/50\n",
      "700/700 [==============================] - 1s 818us/step - loss: 0.3769 - accuracy: 0.8800 - val_loss: 1.0980 - val_accuracy: 0.7133\n",
      "Epoch 21/50\n",
      "700/700 [==============================] - 1s 806us/step - loss: 0.3633 - accuracy: 0.8943 - val_loss: 1.1007 - val_accuracy: 0.6967\n",
      "Epoch 22/50\n",
      "700/700 [==============================] - 1s 805us/step - loss: 0.3464 - accuracy: 0.8914 - val_loss: 1.1749 - val_accuracy: 0.6900\n",
      "Epoch 23/50\n",
      "700/700 [==============================] - 1s 805us/step - loss: 0.3309 - accuracy: 0.9029 - val_loss: 1.1952 - val_accuracy: 0.7033\n",
      "Epoch 24/50\n",
      "700/700 [==============================] - 1s 812us/step - loss: 0.3190 - accuracy: 0.9043 - val_loss: 1.1930 - val_accuracy: 0.7033\n",
      "Epoch 25/50\n",
      "700/700 [==============================] - 1s 806us/step - loss: 0.3039 - accuracy: 0.9100 - val_loss: 1.2253 - val_accuracy: 0.6967\n",
      "Epoch 26/50\n",
      "700/700 [==============================] - 1s 832us/step - loss: 0.2926 - accuracy: 0.9114 - val_loss: 1.2332 - val_accuracy: 0.6967\n",
      "Epoch 27/50\n",
      "700/700 [==============================] - 1s 815us/step - loss: 0.2778 - accuracy: 0.9200 - val_loss: 1.2631 - val_accuracy: 0.7200\n",
      "Epoch 28/50\n",
      "700/700 [==============================] - 1s 810us/step - loss: 0.2661 - accuracy: 0.9257 - val_loss: 1.2579 - val_accuracy: 0.7267\n",
      "Epoch 29/50\n",
      "700/700 [==============================] - 1s 811us/step - loss: 0.2541 - accuracy: 0.9314 - val_loss: 1.3021 - val_accuracy: 0.7167\n",
      "Epoch 30/50\n",
      "700/700 [==============================] - 1s 805us/step - loss: 0.2449 - accuracy: 0.9343 - val_loss: 1.2999 - val_accuracy: 0.7233\n",
      "Epoch 31/50\n",
      "700/700 [==============================] - 1s 814us/step - loss: 0.2320 - accuracy: 0.9457 - val_loss: 1.3081 - val_accuracy: 0.7100\n",
      "Epoch 32/50\n",
      "700/700 [==============================] - 1s 810us/step - loss: 0.2192 - accuracy: 0.9443 - val_loss: 1.3265 - val_accuracy: 0.7333\n",
      "Epoch 33/50\n",
      "700/700 [==============================] - 1s 815us/step - loss: 0.2141 - accuracy: 0.9400 - val_loss: 1.3521 - val_accuracy: 0.7133\n",
      "Epoch 34/50\n",
      "700/700 [==============================] - 1s 815us/step - loss: 0.2040 - accuracy: 0.9457 - val_loss: 1.3579 - val_accuracy: 0.7033\n",
      "Epoch 35/50\n",
      "700/700 [==============================] - 1s 814us/step - loss: 0.1976 - accuracy: 0.9457 - val_loss: 1.4046 - val_accuracy: 0.7167\n",
      "Epoch 36/50\n",
      "700/700 [==============================] - 1s 823us/step - loss: 0.1848 - accuracy: 0.9614 - val_loss: 1.3806 - val_accuracy: 0.7200\n",
      "Epoch 37/50\n",
      "700/700 [==============================] - 1s 805us/step - loss: 0.1818 - accuracy: 0.9486 - val_loss: 1.4514 - val_accuracy: 0.7067\n",
      "Epoch 38/50\n",
      "700/700 [==============================] - 1s 833us/step - loss: 0.1722 - accuracy: 0.9600 - val_loss: 1.4599 - val_accuracy: 0.7033\n",
      "Epoch 39/50\n",
      "700/700 [==============================] - 1s 871us/step - loss: 0.1611 - accuracy: 0.9643 - val_loss: 1.4752 - val_accuracy: 0.7233\n",
      "Epoch 40/50\n",
      "700/700 [==============================] - 1s 843us/step - loss: 0.1593 - accuracy: 0.9557 - val_loss: 1.5030 - val_accuracy: 0.7200\n",
      "Epoch 41/50\n",
      "700/700 [==============================] - 1s 813us/step - loss: 0.1519 - accuracy: 0.9671 - val_loss: 1.5471 - val_accuracy: 0.7033\n",
      "Epoch 42/50\n",
      "700/700 [==============================] - 1s 814us/step - loss: 0.1435 - accuracy: 0.9729 - val_loss: 1.5831 - val_accuracy: 0.7133\n",
      "Epoch 43/50\n",
      "700/700 [==============================] - 1s 820us/step - loss: 0.1395 - accuracy: 0.9729 - val_loss: 1.5755 - val_accuracy: 0.7133\n",
      "Epoch 44/50\n",
      "700/700 [==============================] - 1s 912us/step - loss: 0.1322 - accuracy: 0.9714 - val_loss: 1.6130 - val_accuracy: 0.7167\n",
      "Epoch 45/50\n",
      "700/700 [==============================] - 1s 816us/step - loss: 0.1258 - accuracy: 0.9786 - val_loss: 1.6414 - val_accuracy: 0.7133\n",
      "Epoch 46/50\n",
      "700/700 [==============================] - 1s 806us/step - loss: 0.1163 - accuracy: 0.9786 - val_loss: 1.6372 - val_accuracy: 0.7167\n",
      "Epoch 47/50\n",
      "700/700 [==============================] - 1s 809us/step - loss: 0.1150 - accuracy: 0.9786 - val_loss: 1.6572 - val_accuracy: 0.7200\n",
      "Epoch 48/50\n",
      "700/700 [==============================] - 1s 816us/step - loss: 0.1098 - accuracy: 0.9800 - val_loss: 1.6803 - val_accuracy: 0.7167\n",
      "Epoch 49/50\n",
      "700/700 [==============================] - 1s 819us/step - loss: 0.1056 - accuracy: 0.9800 - val_loss: 1.7061 - val_accuracy: 0.7233\n",
      "Epoch 50/50\n",
      "700/700 [==============================] - 1s 821us/step - loss: 0.0983 - accuracy: 0.9843 - val_loss: 1.7505 - val_accuracy: 0.7300\n"
     ]
    }
   ],
   "source": [
    "# Designing the model with the given parameters\n",
    "model = Sequential()\n",
    "model.add(Dense(num_hidden, activation='relu'))\n",
    "model.add(Dense(num_labels, activation='softmax'))\n",
    "\n",
    "# Setting the loss to sparse_categorical_crossentropy as this is a classification problem\n",
    "model.compile(optimizer='adam',\n",
    "              loss='sparse_categorical_crossentropy',\n",
    "              metrics = ['accuracy'])\n",
    "\n",
    "# Training the model\n",
    "history = model.fit(X_train, y_train, \n",
    "                    epochs=num_epochs, \n",
    "                    batch_size=batch_size, \n",
    "                    validation_data=(X_test, y_test))"
   ]
  },
  {
   "cell_type": "code",
   "execution_count": null,
   "metadata": {
    "id": "lezrUSbHd-zi",
    "outputId": "9434ce52-fe49-4415-a6a1-b3bdce62b6ed"
   },
   "outputs": [
    {
     "data": {
      "image/png": "[encoded data removed]",
      "text/plain": [
       "<Figure size 432x288 with 1 Axes>"
      ]
     },
     "metadata": {
      "needs_background": "light"
     },
     "output_type": "display_data"
    }
   ],
   "source": [
    "# Plot the train and test accuracies without dropout\n",
    "plt.plot(history.history['accuracy'])\n",
    "plt.plot(history.history['val_accuracy'])\n",
    "plt.title('Model Accuracy')\n",
    "plt.ylabel('Accuracy')\n",
    "plt.xlabel('Epochs')\n",
    "plt.legend(['train', 'test'], loc='upper left')\n",
    "plt.xticks([5, 10, 15, 20, 25, 30, 35, 40, 45, 50])\n",
    "plt.savefig('./Figures/PartAQuestion5-1.png')"
   ]
  },
  {
   "cell_type": "code",
   "execution_count": null,
   "metadata": {
    "id": "fjSkkLj5d-zi",
    "outputId": "329ca2bd-8e44-48cc-fa30-99998806fc9f"
   },
   "outputs": [
    {
     "data": {
      "image/png": "[encoded data removed]",
      "text/plain": [
       "<Figure size 432x288 with 1 Axes>"
      ]
     },
     "metadata": {
      "needs_background": "light"
     },
     "output_type": "display_data"
    }
   ],
   "source": [
    "# Plot the train and test losses without dropout\n",
    "plt.plot(history.history['loss'])\n",
    "plt.plot(history.history['val_loss'])\n",
    "plt.title('Model Loss')\n",
    "plt.ylabel('Loss')\n",
    "plt.xlabel('Epochs')\n",
    "plt.legend(['train', 'test'], loc='upper left')\n",
    "plt.xticks([5, 10, 15, 20, 25, 30, 35, 40, 45, 50])\n",
    "plt.savefig('./Figures/PartAQuestion5-2.png')"
   ]
  },
  {
   "cell_type": "markdown",
   "metadata": {
    "id": "ABC4N6Qgd-zi"
   },
   "source": [
    "> **Why do we add dropouts?** *Dropout is a strategy for preventing overfitting in neural networks by removing units at random during training. As a consequence, the trained model functions as an ensemble model composed of several neural networks. The forecast of such ensembled networks is averaged in each layer at test time to produce the final model prediction. Because certain portions of the network turn off during training, we may model Dropout as training several neural networks and averaging their predictions during testing.*"
   ]
  },
  {
   "cell_type": "markdown",
   "metadata": {
    "id": "MpzgFeE9d-zj"
   },
   "source": [
    "#### b) Explain the effect of removing dropouts."
   ]
  },
  {
   "cell_type": "markdown",
   "metadata": {
    "id": "Xu4cCXqBd-zj"
   },
   "source": [
    "> *As it can be seen in both the accuracy and loss plots of the model without dropouts, the rapid increase in loss for the test curve, as well as the large, significant gap between the train and test accuracy plots indicate extreme overfitting performed by the model. The dropout has enabled the model to overfit, that too by a huge margin.*"
   ]
  },
  {
   "cell_type": "markdown",
   "metadata": {
    "id": "JHktefqDd-zj"
   },
   "source": [
    "#### c) What is another approach that you could take to address overfitting in the model?"
   ]
  },
  {
   "cell_type": "markdown",
   "metadata": {
    "id": "5VcK-Ft8d-zj"
   },
   "source": [
    "> **Early Stopping:** *When training a model with an iterative approach, early stopping is a type of regularization. With each repetition, this technique improves the model's fit to the training data. This increases the model's performance on data from the test set to a point. However, after that time, enhancing the model's fit to the training data results in higher generalization error. Early stopping criteria specify how many iterations may be performed before the model begins to overfit.*"
   ]
  },
  {
   "cell_type": "markdown",
   "metadata": {
    "id": "MqIlL-n4fCPA"
   },
   "source": [
    "### **Conclusions for Part A:**\n",
    "\n",
    "#### What are some limitations of the current approach (using FFNs to model such engineered features)?\n",
    "> *The disadvantage of the current approach is that the use of FFNs to model our engineered features can lead to risk of overfitting - as we see through the course of the questions in Part A. You run the danger of over-fitting the data if you try to build a neural network to model more basic features. This simply indicates that the model's capacity to generalize to new cases is lost. In addition to this, having larger number of features and parameters can increase the computational time - greater time to converge. Furthermore, having multiple parameters also implies difficulty in understanding the functionality of the neural network itself - need to perform repetitive experiments to observe a change in the performance of the model - as done in Part A through the course of questions.*\n",
    "\n",
    "#### Out of the parameters that were tuned, which was most impactful in terms of improving the model performance and what could be some reasons for that? \n",
    "> *Use of dropouts and batch size - there was a significant drop in model performance without dropuouts, and a significant impact on model performance and computation time without optimum batch size.*\n",
    "\n",
    "#### Considering that audio tracks are originally waveforms, what are some alternative approaches to achieve the goal of genre classification? What kind of neural network architectures will be used instead?\n",
    "> *An alternative approach can be to convert the waveforms to spectograms to extract different features from them, in addition to metadata for those audio files. An example of a neural network architecture for this classification task that can be deployed can be CNNs - Convolutional Neural Networks - because it can learn patterns that are translation invariant and have spatial hierarchies.*\n",
    "\n",
    "#### What other datasets and tasks can this approach of modelling waveform data be used for? What changes to the pipeline, if any, will you have to make when approaching these problems?\n",
    "> *This approach can also be used for NLP - Natural Language Processing - use speech data or audio and classify into different languages or for speech recognition tasks. A change to the pipeline would be to do more exploratory analysis on features - to have a better understanding of data with a lot of predictor variables. In addition to this, perform feature importance to gauge which features improve the model performance.*\n"
   ]
  }
 ],
 "metadata": {
  "colab": {
   "collapsed_sections": [],
   "name": "Part-A-Question-5.ipynb",
   "provenance": []
  },
  "kernelspec": {
   "display_name": "Python 3",
   "language": "python",
   "name": "python3"
  },
  "language_info": {
   "codemirror_mode": {
    "name": "ipython",
    "version": 3
   },
   "file_extension": ".py",
   "mimetype": "text/x-python",
   "name": "python",
   "nbconvert_exporter": "python",
   "pygments_lexer": "ipython3",
   "version": "3.8.5"
  }
 },
 "nbformat": 4,
 "nbformat_minor": 1
}
