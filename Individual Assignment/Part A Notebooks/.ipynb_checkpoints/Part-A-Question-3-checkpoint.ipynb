{
 "cells": [
  {
   "cell_type": "markdown",
   "metadata": {},
   "source": [
    "# Individual Assignment - Submission\n",
    "\n",
    "> - **Course:** *CE/CZ 4042 - Neural Networks and Deep Learning* \n",
    "> - **Name:** *Singh Aishwarya*\n",
    "> - **Matriculation Number:** *U1923952C*\n",
    "> - **Part:** *A - Classification Problem*\n",
    "> - **Question:** *3*"
   ]
  },
  {
   "cell_type": "markdown",
   "metadata": {},
   "source": [
    "### Necessary Imports"
   ]
  },
  {
   "cell_type": "code",
   "execution_count": 1,
   "metadata": {
    "id": "YM8unKH7nSIM"
   },
   "outputs": [],
   "source": [
    "# Basic Helper Libraries\n",
    "import tensorflow\n",
    "import pandas as pd\n",
    "import time\n",
    "import numpy as np\n",
    "\n",
    "# tensorflow libraries\n",
    "import tensorflow as tf\n",
    "import tensorflow.keras as keras\n",
    "from tensorflow.keras import Sequential\n",
    "from tensorflow.keras.layers import Dense, Dropout\n",
    "from tensorflow.keras.callbacks import Callback\n",
    "\n",
    "# sklearn libraries are useful for preprocessing, performance measures, etc.\n",
    "from sklearn import preprocessing\n",
    "from sklearn.model_selection import KFold\n",
    "from sklearn.model_selection import train_test_split\n",
    "\n",
    "# Libraries for plotting and visualization\n",
    "import pylab as plt\n",
    "import matplotlib.pyplot as matplt"
   ]
  },
  {
   "cell_type": "markdown",
   "metadata": {
    "id": "gmTBl3xoqA9g"
   },
   "source": [
    "### Data Retrieval + Train-Test Split"
   ]
  },
  {
   "cell_type": "code",
   "execution_count": 2,
   "metadata": {
    "id": "An4b9d12p8u2"
   },
   "outputs": [
    {
     "data": {
      "text/html": [
       "<div>\n",
       "<style scoped>\n",
       "    .dataframe tbody tr th:only-of-type {\n",
       "        vertical-align: middle;\n",
       "    }\n",
       "\n",
       "    .dataframe tbody tr th {\n",
       "        vertical-align: top;\n",
       "    }\n",
       "\n",
       "    .dataframe thead th {\n",
       "        text-align: right;\n",
       "    }\n",
       "</style>\n",
       "<table border=\"1\" class=\"dataframe\">\n",
       "  <thead>\n",
       "    <tr style=\"text-align: right;\">\n",
       "      <th></th>\n",
       "      <th>filename</th>\n",
       "      <th>length</th>\n",
       "      <th>chroma_stft_mean</th>\n",
       "      <th>chroma_stft_var</th>\n",
       "      <th>rms_mean</th>\n",
       "      <th>rms_var</th>\n",
       "      <th>spectral_centroid_mean</th>\n",
       "      <th>spectral_centroid_var</th>\n",
       "      <th>spectral_bandwidth_mean</th>\n",
       "      <th>spectral_bandwidth_var</th>\n",
       "      <th>...</th>\n",
       "      <th>mfcc16_var</th>\n",
       "      <th>mfcc17_mean</th>\n",
       "      <th>mfcc17_var</th>\n",
       "      <th>mfcc18_mean</th>\n",
       "      <th>mfcc18_var</th>\n",
       "      <th>mfcc19_mean</th>\n",
       "      <th>mfcc19_var</th>\n",
       "      <th>mfcc20_mean</th>\n",
       "      <th>mfcc20_var</th>\n",
       "      <th>label</th>\n",
       "    </tr>\n",
       "  </thead>\n",
       "  <tbody>\n",
       "    <tr>\n",
       "      <th>0</th>\n",
       "      <td>blues.00000.wav</td>\n",
       "      <td>661794</td>\n",
       "      <td>0.350088</td>\n",
       "      <td>0.088757</td>\n",
       "      <td>0.130228</td>\n",
       "      <td>0.002827</td>\n",
       "      <td>1784.165850</td>\n",
       "      <td>129774.064525</td>\n",
       "      <td>2002.449060</td>\n",
       "      <td>85882.761315</td>\n",
       "      <td>...</td>\n",
       "      <td>52.420910</td>\n",
       "      <td>-1.690215</td>\n",
       "      <td>36.524071</td>\n",
       "      <td>-0.408979</td>\n",
       "      <td>41.597103</td>\n",
       "      <td>-2.303523</td>\n",
       "      <td>55.062923</td>\n",
       "      <td>1.221291</td>\n",
       "      <td>46.936035</td>\n",
       "      <td>blues</td>\n",
       "    </tr>\n",
       "    <tr>\n",
       "      <th>1</th>\n",
       "      <td>blues.00001.wav</td>\n",
       "      <td>661794</td>\n",
       "      <td>0.340914</td>\n",
       "      <td>0.094980</td>\n",
       "      <td>0.095948</td>\n",
       "      <td>0.002373</td>\n",
       "      <td>1530.176679</td>\n",
       "      <td>375850.073649</td>\n",
       "      <td>2039.036516</td>\n",
       "      <td>213843.755497</td>\n",
       "      <td>...</td>\n",
       "      <td>55.356403</td>\n",
       "      <td>-0.731125</td>\n",
       "      <td>60.314529</td>\n",
       "      <td>0.295073</td>\n",
       "      <td>48.120598</td>\n",
       "      <td>-0.283518</td>\n",
       "      <td>51.106190</td>\n",
       "      <td>0.531217</td>\n",
       "      <td>45.786282</td>\n",
       "      <td>blues</td>\n",
       "    </tr>\n",
       "    <tr>\n",
       "      <th>2</th>\n",
       "      <td>blues.00002.wav</td>\n",
       "      <td>661794</td>\n",
       "      <td>0.363637</td>\n",
       "      <td>0.085275</td>\n",
       "      <td>0.175570</td>\n",
       "      <td>0.002746</td>\n",
       "      <td>1552.811865</td>\n",
       "      <td>156467.643368</td>\n",
       "      <td>1747.702312</td>\n",
       "      <td>76254.192257</td>\n",
       "      <td>...</td>\n",
       "      <td>40.598766</td>\n",
       "      <td>-7.729093</td>\n",
       "      <td>47.639427</td>\n",
       "      <td>-1.816407</td>\n",
       "      <td>52.382141</td>\n",
       "      <td>-3.439720</td>\n",
       "      <td>46.639660</td>\n",
       "      <td>-2.231258</td>\n",
       "      <td>30.573025</td>\n",
       "      <td>blues</td>\n",
       "    </tr>\n",
       "    <tr>\n",
       "      <th>3</th>\n",
       "      <td>blues.00003.wav</td>\n",
       "      <td>661794</td>\n",
       "      <td>0.404785</td>\n",
       "      <td>0.093999</td>\n",
       "      <td>0.141093</td>\n",
       "      <td>0.006346</td>\n",
       "      <td>1070.106615</td>\n",
       "      <td>184355.942417</td>\n",
       "      <td>1596.412872</td>\n",
       "      <td>166441.494769</td>\n",
       "      <td>...</td>\n",
       "      <td>44.427753</td>\n",
       "      <td>-3.319597</td>\n",
       "      <td>50.206673</td>\n",
       "      <td>0.636965</td>\n",
       "      <td>37.319130</td>\n",
       "      <td>-0.619121</td>\n",
       "      <td>37.259739</td>\n",
       "      <td>-3.407448</td>\n",
       "      <td>31.949339</td>\n",
       "      <td>blues</td>\n",
       "    </tr>\n",
       "    <tr>\n",
       "      <th>4</th>\n",
       "      <td>blues.00004.wav</td>\n",
       "      <td>661794</td>\n",
       "      <td>0.308526</td>\n",
       "      <td>0.087841</td>\n",
       "      <td>0.091529</td>\n",
       "      <td>0.002303</td>\n",
       "      <td>1835.004266</td>\n",
       "      <td>343399.939274</td>\n",
       "      <td>1748.172116</td>\n",
       "      <td>88445.209036</td>\n",
       "      <td>...</td>\n",
       "      <td>86.099236</td>\n",
       "      <td>-5.454034</td>\n",
       "      <td>75.269707</td>\n",
       "      <td>-0.916874</td>\n",
       "      <td>53.613918</td>\n",
       "      <td>-4.404827</td>\n",
       "      <td>62.910812</td>\n",
       "      <td>-11.703234</td>\n",
       "      <td>55.195160</td>\n",
       "      <td>blues</td>\n",
       "    </tr>\n",
       "  </tbody>\n",
       "</table>\n",
       "<p>5 rows × 60 columns</p>\n",
       "</div>"
      ],
      "text/plain": [
       "          filename  length  chroma_stft_mean  chroma_stft_var  rms_mean  \\\n",
       "0  blues.00000.wav  661794          0.350088         0.088757  0.130228   \n",
       "1  blues.00001.wav  661794          0.340914         0.094980  0.095948   \n",
       "2  blues.00002.wav  661794          0.363637         0.085275  0.175570   \n",
       "3  blues.00003.wav  661794          0.404785         0.093999  0.141093   \n",
       "4  blues.00004.wav  661794          0.308526         0.087841  0.091529   \n",
       "\n",
       "    rms_var  spectral_centroid_mean  spectral_centroid_var  \\\n",
       "0  0.002827             1784.165850          129774.064525   \n",
       "1  0.002373             1530.176679          375850.073649   \n",
       "2  0.002746             1552.811865          156467.643368   \n",
       "3  0.006346             1070.106615          184355.942417   \n",
       "4  0.002303             1835.004266          343399.939274   \n",
       "\n",
       "   spectral_bandwidth_mean  spectral_bandwidth_var  ...  mfcc16_var  \\\n",
       "0              2002.449060            85882.761315  ...   52.420910   \n",
       "1              2039.036516           213843.755497  ...   55.356403   \n",
       "2              1747.702312            76254.192257  ...   40.598766   \n",
       "3              1596.412872           166441.494769  ...   44.427753   \n",
       "4              1748.172116            88445.209036  ...   86.099236   \n",
       "\n",
       "   mfcc17_mean  mfcc17_var  mfcc18_mean  mfcc18_var  mfcc19_mean  mfcc19_var  \\\n",
       "0    -1.690215   36.524071    -0.408979   41.597103    -2.303523   55.062923   \n",
       "1    -0.731125   60.314529     0.295073   48.120598    -0.283518   51.106190   \n",
       "2    -7.729093   47.639427    -1.816407   52.382141    -3.439720   46.639660   \n",
       "3    -3.319597   50.206673     0.636965   37.319130    -0.619121   37.259739   \n",
       "4    -5.454034   75.269707    -0.916874   53.613918    -4.404827   62.910812   \n",
       "\n",
       "   mfcc20_mean  mfcc20_var  label  \n",
       "0     1.221291   46.936035  blues  \n",
       "1     0.531217   45.786282  blues  \n",
       "2    -2.231258   30.573025  blues  \n",
       "3    -3.407448   31.949339  blues  \n",
       "4   -11.703234   55.195160  blues  \n",
       "\n",
       "[5 rows x 60 columns]"
      ]
     },
     "execution_count": 2,
     "metadata": {},
     "output_type": "execute_result"
    }
   ],
   "source": [
    "# Accessing the features data in the csv file and assigning it to a dataframe\n",
    "df = pd.read_csv('./features_30_sec.csv')\n",
    "df.head()"
   ]
  },
  {
   "cell_type": "code",
   "execution_count": 3,
   "metadata": {
    "id": "CHZQbQVzqGIA"
   },
   "outputs": [
    {
     "data": {
      "text/plain": [
       "country      100\n",
       "hiphop       100\n",
       "jazz         100\n",
       "blues        100\n",
       "disco        100\n",
       "reggae       100\n",
       "pop          100\n",
       "metal        100\n",
       "rock         100\n",
       "classical    100\n",
       "Name: label, dtype: int64"
      ]
     },
     "execution_count": 3,
     "metadata": {},
     "output_type": "execute_result"
    }
   ],
   "source": [
    "# Check the value count of the output\n",
    "df['label'].value_counts()"
   ]
  },
  {
   "cell_type": "code",
   "execution_count": 4,
   "metadata": {
    "id": "2fNTd9t7qHCI"
   },
   "outputs": [],
   "source": [
    "# Prepare Train and Test Dataframes\n",
    "columns_to_drop = ['label','filename', 'length']\n",
    "\n",
    "def prepare_dataset(df, columns_to_drop, test_size, random_state):\n",
    "\n",
    "    # Encode the labels from 0 to n_classes-1  \n",
    "    label_encoder = preprocessing.LabelEncoder()\n",
    "    df['label'] = label_encoder.fit_transform(df['label'])\n",
    "  \n",
    "    # Divide data to train and test\n",
    "    df_train, df_test = train_test_split(df, test_size=test_size, random_state=random_state)\n",
    "    \n",
    "    # Scale the training inputs\n",
    "    x_train = df_train.drop(columns_to_drop,axis=1)\n",
    "    y_train = df_train['label'].to_numpy()\n",
    "    \n",
    "    standard_scaler = preprocessing.StandardScaler()\n",
    "    x_train_scaled = standard_scaler.fit_transform(x_train)\n",
    "\n",
    "    # Scale and prepare testing data\n",
    "    x_test = df_test.drop(columns_to_drop,axis=1)\n",
    "    x_test_scaled = standard_scaler.transform(x_test)\n",
    "    y_test = df_test['label'].to_numpy() \n",
    "  \n",
    "    return x_train_scaled, y_train, x_test_scaled, y_test"
   ]
  },
  {
   "cell_type": "code",
   "execution_count": 5,
   "metadata": {
    "id": "2fNTd9t7qHCI"
   },
   "outputs": [
    {
     "name": "stdout",
     "output_type": "stream",
     "text": [
      "(700, 57) (700,)\n",
      "(300, 57) (300,)\n"
     ]
    }
   ],
   "source": [
    "# Splitting the prepared dataframes (70% Training and 30% Test)\n",
    "X_train, y_train, X_test, y_test = prepare_dataset(df, columns_to_drop, test_size=0.3, random_state=0)\n",
    "\n",
    "print(X_train.shape, y_train.shape)\n",
    "print(X_test.shape, y_test.shape)"
   ]
  },
  {
   "cell_type": "markdown",
   "metadata": {},
   "source": [
    "### Model Training - Answering the question"
   ]
  },
  {
   "cell_type": "markdown",
   "metadata": {},
   "source": [
    "> **Question:** *Find the optimal number of hidden neurons for the 2-layer network (i.e., one hidden layer) designed in Question 1 and 2*"
   ]
  },
  {
   "cell_type": "code",
   "execution_count": 6,
   "metadata": {},
   "outputs": [],
   "source": [
    "# Setting the given parameters for the model + chosen from Question 2\n",
    "num_epochs = 50\n",
    "num_labels = 10\n",
    "num_features = 57\n",
    "batch_size = 8\n",
    "\n",
    "# Array to hold different number of neurons\n",
    "neurons = [8, 16, 32, 64]\n",
    "\n",
    "# Array to hold mean accuracies\n",
    "mean_acc = [] \n",
    "\n",
    "# Array to hold median time\n",
    "median_time = []\n",
    "\n",
    "# K-Fold splitting to use 3-fold cross-validation \n",
    "splits = KFold(n_splits = 3, random_state = 1, shuffle = True)"
   ]
  },
  {
   "cell_type": "code",
   "execution_count": 7,
   "metadata": {},
   "outputs": [],
   "source": [
    "# Callback function for calculating median time\n",
    "class TimingCallback(Callback):\n",
    "    def on_train_begin(self, logs={}):\n",
    "        self.times=[]\n",
    "    def on_epoch_begin(self, epoch, logs={}):\n",
    "        self.epoch_time_start = time.time()\n",
    "    def on_epoch_end(self, epoch, logs={}):\n",
    "        self.times.append(time.time() - self.epoch_time_start)"
   ]
  },
  {
   "cell_type": "code",
   "execution_count": 8,
   "metadata": {},
   "outputs": [
    {
     "name": "stdout",
     "output_type": "stream",
     "text": [
      "Number of Hidden Neurons: 8 | Fold 1 | Train Accuracy 0.564103\n",
      "Number of Hidden Neurons: 8 | Fold 2 | Train Accuracy 0.60515\n",
      "Number of Hidden Neurons: 8 | Fold 3 | Train Accuracy 0.592275\n",
      "Mean 3-fold Cross Validation Accuracy = 0.587176\n",
      "Median Time for Hidden Neurons 8: 0.107036 s\n",
      "--------------------------------------------------------------------------------\n",
      "Number of Hidden Neurons: 16 | Fold 1 | Train Accuracy 0.649573\n",
      "Number of Hidden Neurons: 16 | Fold 2 | Train Accuracy 0.665236\n",
      "Number of Hidden Neurons: 16 | Fold 3 | Train Accuracy 0.660944\n",
      "Mean 3-fold Cross Validation Accuracy = 0.658584\n",
      "Median Time for Hidden Neurons 16: 0.104493 s\n",
      "--------------------------------------------------------------------------------\n",
      "Number of Hidden Neurons: 32 | Fold 1 | Train Accuracy 0.700855\n",
      "Number of Hidden Neurons: 32 | Fold 2 | Train Accuracy 0.686695\n",
      "Number of Hidden Neurons: 32 | Fold 3 | Train Accuracy 0.695279\n",
      "Mean 3-fold Cross Validation Accuracy = 0.694276\n",
      "Median Time for Hidden Neurons 32: 0.0619706 s\n",
      "--------------------------------------------------------------------------------\n",
      "Number of Hidden Neurons: 64 | Fold 1 | Train Accuracy 0.692308\n",
      "Number of Hidden Neurons: 64 | Fold 2 | Train Accuracy 0.656652\n",
      "Number of Hidden Neurons: 64 | Fold 3 | Train Accuracy 0.695279\n",
      "Mean 3-fold Cross Validation Accuracy = 0.681413\n",
      "Median Time for Hidden Neurons 64: 0.0690438 s\n",
      "--------------------------------------------------------------------------------\n"
     ]
    }
   ],
   "source": [
    "# Hold accuracies\n",
    "cv = []\n",
    "\n",
    "# Iterate through array of hidden neurons and train different models\n",
    "for neuron in neurons:\n",
    "    \n",
    "    # Array to hold accuracy for hidden neuron\n",
    "    acc = []\n",
    "    \n",
    "    # Array to hold time for 1 hidden neuron\n",
    "    med_time = []\n",
    "    \n",
    "    # Declare variable for keeping count of folds\n",
    "    fold = 0\n",
    "    \n",
    "    for train, test in splits.split(X_train, y_train):\n",
    "        \n",
    "        # Call the callback function to measure time\n",
    "        cb = TimingCallback()\n",
    "        \n",
    "        # Designing the model with the given parameters\n",
    "        model = Sequential()\n",
    "        model.add(Dropout(0.3))\n",
    "        model.add(Dense(neuron, activation='relu'))\n",
    "        model.add(Dense(num_labels, activation='softmax'))\n",
    "        \n",
    "        # Setting the loss to sparse_categorical_crossentropy as this is a classification problem\n",
    "        model.compile(optimizer='sgd',\n",
    "                      loss='sparse_categorical_crossentropy',\n",
    "                      metrics = ['accuracy'])\n",
    "        \n",
    "        # Training the model\n",
    "        history = model.fit(X_train[train], y_train[train], \n",
    "                            epochs=num_epochs, \n",
    "                            batch_size=batch_size, \n",
    "                            callbacks = [cb],\n",
    "                            verbose = 0,\n",
    "                            validation_data=(X_train[test], y_train[test]))\n",
    "        \n",
    "        # Append the accuracy for the epoch for the current batch size\n",
    "        acc.append(history.history['val_accuracy'][num_epochs-1])\n",
    "        cv.append(history.history['val_accuracy'])\n",
    "        \n",
    "        # Append the median time for epochs for the current batch size\n",
    "        med_time.append(np.median(cb.times))\n",
    "        \n",
    "        print('Number of Hidden Neurons: %d | Fold %d | Train Accuracy %g'%(neuron, fold + 1, acc[fold]))\n",
    "        fold += 1\n",
    "    \n",
    "    # Calculate mean cross-validation accuracy\n",
    "    mean_acc.append(np.mean(acc))\n",
    "    print('Mean 3-fold Cross Validation Accuracy = %g'% np.mean(acc))\n",
    "    \n",
    "    # Calculate median time\n",
    "    median_time.append(np.median(med_time))\n",
    "    \n",
    "    print('Median Time for Hidden Neurons %d: %g s'%(neuron, np.median(cb.times)))\n",
    "    print('--------------------------------------------------------------------------------')"
   ]
  },
  {
   "cell_type": "markdown",
   "metadata": {},
   "source": [
    "#### a) Plot the cross-validation accuracies against training epochs for different numbers of hidden-layer neurons. Limit the search space of the number of neurons to {8, 16, 32, 64}. Continue using 3-fold cross validationon training dataset."
   ]
  },
  {
   "cell_type": "code",
   "execution_count": 9,
   "metadata": {},
   "outputs": [
    {
     "data": {
      "image/png": "[encoded data removed]",
      "text/plain": [
       "<Figure size 432x288 with 1 Axes>"
      ]
     },
     "metadata": {
      "needs_background": "light"
     },
     "output_type": "display_data"
    }
   ],
   "source": [
    "# Plot to visualise the mean cross-validation accuracy for different number of hidden neurons\n",
    "# Hidden Neurons = 8\n",
    "y1 = cv[0]\n",
    "matplt.plot(y1, label = \"8\")\n",
    "\n",
    "# Hidden Neurons = 16\n",
    "y2 = cv[1]\n",
    "matplt.plot(y2, label = \"16\")\n",
    "\n",
    "# Hidden Neurons = 32\n",
    "y3 = cv[2]\n",
    "matplt.plot(y3, label = \"32\")\n",
    "\n",
    "# Hidden Neurons = 64\n",
    "y4 = cv[3]\n",
    "matplt.plot(y4, label = \"64\")\n",
    "\n",
    "plt.xlabel('Epochs')\n",
    "plt.ylabel('Cross-Validation Accuracy')\n",
    "plt.title('Cross-Validation Accuracy vs Epochs ')\n",
    "plt.legend()\n",
    "plt.savefig('./Figures/PartAQuestion3-1.png')"
   ]
  },
  {
   "cell_type": "code",
   "execution_count": 11,
   "metadata": {},
   "outputs": [
    {
     "data": {
      "image/png": "[encoded data removed]",
      "text/plain": [
       "<Figure size 432x288 with 1 Axes>"
      ]
     },
     "metadata": {
      "needs_background": "light"
     },
     "output_type": "display_data"
    }
   ],
   "source": [
    "# Plot to visualise change in median time for different number of hidden neurons\n",
    "plt.plot(neurons, median_time, marker = 'x', linestyle = 'None')\n",
    "plt.xticks([8, 16, 32, 64])\n",
    "plt.xlabel('Number of Hidden Neurons')\n",
    "plt.ylabel('Median Time for Number of Hidden Neurons')\n",
    "plt.savefig('./Figures/PartAQuestion3-2.png')"
   ]
  },
  {
   "cell_type": "markdown",
   "metadata": {},
   "source": [
    "#### b) Select the optimal number of neurons for the hidden layer. State the rationale for your selection."
   ]
  },
  {
   "cell_type": "markdown",
   "metadata": {},
   "source": [
    "> **Optimal Number of Hidden Neurons:** *Based on both the accuracy and median time plots, the optimal number of hidden neurons should be **32** - the best accuracy as well as the least median time, that has been trained with the given parameters*"
   ]
  },
  {
   "cell_type": "markdown",
   "metadata": {},
   "source": [
    "#### c) Plot the train and test accuracies against training epochs with the optimal number of neurons."
   ]
  },
  {
   "cell_type": "code",
   "execution_count": 13,
   "metadata": {},
   "outputs": [],
   "source": [
    "for train, test in splits.split(X_train, y_train):\n",
    "        \n",
    "    # Call the callback function to measure time\n",
    "    cb = TimingCallback()\n",
    "        \n",
    "    # Designing the model with the given parameters\n",
    "    model = Sequential()\n",
    "    model.add(Dropout(0.3))\n",
    "    model.add(Dense(32, activation='relu'))\n",
    "    model.add(Dense(num_labels, activation='softmax'))\n",
    "        \n",
    "    # Setting the loss to sparse_categorical_crossentropy as this is a classification problem\n",
    "    model.compile(optimizer='sgd',\n",
    "                  loss='sparse_categorical_crossentropy',\n",
    "                  metrics = ['accuracy'])\n",
    "        \n",
    "    # Training the model\n",
    "    history = model.fit(X_train[train], y_train[train], \n",
    "                        epochs=num_epochs, \n",
    "                        batch_size=batch_size, \n",
    "                        callbacks = [cb],\n",
    "                        verbose = 0,\n",
    "                        validation_data=(X_train[test], y_train[test]))"
   ]
  },
  {
   "cell_type": "code",
   "execution_count": 16,
   "metadata": {},
   "outputs": [
    {
     "data": {
      "image/png": "[encoded data removed]",
      "text/plain": [
       "<Figure size 432x288 with 1 Axes>"
      ]
     },
     "metadata": {
      "needs_background": "light"
     },
     "output_type": "display_data"
    }
   ],
   "source": [
    "# Plot the train and test accuracies for number of hidden neurons = 32\n",
    "plt.figure(1)\n",
    "plt.plot(history.history['accuracy'])\n",
    "plt.plot(history.history['val_accuracy'])\n",
    "plt.title('Model Accuracy')\n",
    "plt.ylabel('Accuracy')\n",
    "plt.xlabel('Number of Epochs')\n",
    "plt.xticks([5, 10, 15, 20, 25, 30, 35, 40, 45, 50])\n",
    "plt.legend(['train', 'test'], loc='upper left')\n",
    "plt.savefig('./Figures/PartAQuestion3-3.png')"
   ]
  },
  {
   "cell_type": "markdown",
   "metadata": {},
   "source": [
    "#### d) What other parameters could possibly be tuned?"
   ]
  },
  {
   "cell_type": "markdown",
   "metadata": {},
   "source": [
    "> **Number of epochs**: Train for a greater number of epochs to see if the train and test accuracies and loss stabalises with increase in number of epochs."
   ]
  },
  {
   "cell_type": "markdown",
   "metadata": {},
   "source": [
    "### Conclusion\n",
    "> From Questions 1 and 2, the observable gap between the train and test plots has reduced significantly, thus addressing the problem of overfitting. The parameter tuning for number of hidden neurons has reduced overfitting, while maintaining the accuracy of the model. "
   ]
  }
 ],
 "metadata": {
  "colab": {
   "authorship_tag": "ABX9TyPBI19y+/jqNpPI0QeiLTYf",
   "collapsed_sections": [],
   "name": "StarterCode.ipynb",
   "provenance": []
  },
  "kernelspec": {
   "display_name": "Python 3 (ipykernel)",
   "language": "python",
   "name": "python3"
  },
  "language_info": {
   "codemirror_mode": {
    "name": "ipython",
    "version": 3
   },
   "file_extension": ".py",
   "mimetype": "text/x-python",
   "name": "python",
   "nbconvert_exporter": "python",
   "pygments_lexer": "ipython3",
   "version": "3.8.5"
  }
 },
 "nbformat": 4,
 "nbformat_minor": 1
}
