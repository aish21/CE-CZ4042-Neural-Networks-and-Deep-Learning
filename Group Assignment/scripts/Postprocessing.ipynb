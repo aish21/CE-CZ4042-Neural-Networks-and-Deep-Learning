{
 "cells": [
  {
   "cell_type": "markdown",
   "metadata": {},
   "source": [
    "# Post - Processing"
   ]
  },
  {
   "cell_type": "markdown",
   "metadata": {},
   "source": [
    ">Based on the results from Model Testing, it was evident to the team that despite the Herculean task to address and overcome the problem of overfitting in the dataset, it was becoming increasingly difficult to climb the accuracy score. One such reason the team felt was because of output dimensionality and the continued presence of too many categories and too few training data points for each category of the target variable in the dataset, as explained in Feature Engineering. To test this conjecture, as a part of postprocessing, the team decided to further bin the categories to positive, neutral and negative, reducing the number of outputs to 3. "
   ]
  },
  {
   "cell_type": "code",
   "execution_count": 1,
   "metadata": {},
   "outputs": [],
   "source": [
    "#Import the necessary libraries\n",
    "import pandas as pd\n",
    "import seaborn as sb"
   ]
  },
  {
   "cell_type": "code",
   "execution_count": 4,
   "metadata": {},
   "outputs": [
    {
     "data": {
      "text/html": [
       "<div>\n",
       "<style scoped>\n",
       "    .dataframe tbody tr th:only-of-type {\n",
       "        vertical-align: middle;\n",
       "    }\n",
       "\n",
       "    .dataframe tbody tr th {\n",
       "        vertical-align: top;\n",
       "    }\n",
       "\n",
       "    .dataframe thead th {\n",
       "        text-align: right;\n",
       "    }\n",
       "</style>\n",
       "<table border=\"1\" class=\"dataframe\">\n",
       "  <thead>\n",
       "    <tr style=\"text-align: right;\">\n",
       "      <th></th>\n",
       "      <th>index</th>\n",
       "      <th>tweet</th>\n",
       "      <th>tweettype</th>\n",
       "    </tr>\n",
       "  </thead>\n",
       "  <tbody>\n",
       "    <tr>\n",
       "      <th>0</th>\n",
       "      <td>0</td>\n",
       "      <td>@ZubairSabirPTI  pls dont insult the word 'Molna'</td>\n",
       "      <td>anger</td>\n",
       "    </tr>\n",
       "    <tr>\n",
       "      <th>1</th>\n",
       "      <td>1</td>\n",
       "      <td>@ArcticFantasy I would have almost took offens...</td>\n",
       "      <td>anger</td>\n",
       "    </tr>\n",
       "    <tr>\n",
       "      <th>2</th>\n",
       "      <td>2</td>\n",
       "      <td>@IllinoisLoyalty that Rutgers game was an abom...</td>\n",
       "      <td>anger</td>\n",
       "    </tr>\n",
       "    <tr>\n",
       "      <th>3</th>\n",
       "      <td>3</td>\n",
       "      <td>@CozanGaming that's what lisa asked before she...</td>\n",
       "      <td>anger</td>\n",
       "    </tr>\n",
       "    <tr>\n",
       "      <th>4</th>\n",
       "      <td>4</td>\n",
       "      <td>Sometimes I get mad over something so minuscul...</td>\n",
       "      <td>anger</td>\n",
       "    </tr>\n",
       "  </tbody>\n",
       "</table>\n",
       "</div>"
      ],
      "text/plain": [
       "   index                                              tweet tweettype\n",
       "0      0  @ZubairSabirPTI  pls dont insult the word 'Molna'     anger\n",
       "1      1  @ArcticFantasy I would have almost took offens...     anger\n",
       "2      2  @IllinoisLoyalty that Rutgers game was an abom...     anger\n",
       "3      3  @CozanGaming that's what lisa asked before she...     anger\n",
       "4      4  Sometimes I get mad over something so minuscul...     anger"
      ]
     },
     "execution_count": 4,
     "metadata": {},
     "output_type": "execute_result"
    }
   ],
   "source": [
    "#Read data\n",
    "tweetData = pd.read_csv('../data/Original Data/combined_tweettypes.csv', index_col=False)\n",
    "tweetData.head()"
   ]
  },
  {
   "cell_type": "code",
   "execution_count": 5,
   "metadata": {},
   "outputs": [],
   "source": [
    "#Set index\n",
    "tweetData.index.name = 'index'\n",
    "tweetData = tweetData.set_index('index')"
   ]
  },
  {
   "cell_type": "markdown",
   "metadata": {},
   "source": [
    "> Similar to Exploratory Data Analysis, further combining categories to have a total of 3 categories in the end."
   ]
  },
  {
   "cell_type": "code",
   "execution_count": 6,
   "metadata": {},
   "outputs": [],
   "source": [
    "tweetData.loc[tweetData['tweettype'] == 'anger', 'tweettype'] = 'negative'\n",
    "tweetData.loc[tweetData['tweettype'] == 'fear', 'tweettype'] = 'negative'\n",
    "tweetData.loc[tweetData['tweettype'] == 'joy', 'tweettype'] = 'positive'\n",
    "tweetData.loc[tweetData['tweettype'] == 'sadness', 'tweettype'] = 'negative'\n",
    "tweetData.loc[tweetData['tweettype'] == 'enthusiasm', 'tweettype'] = 'positive'\n",
    "tweetData.loc[tweetData['tweettype'] == 'surprise', 'tweettype'] = 'positive'\n",
    "tweetData.loc[tweetData['tweettype'] == 'love', 'tweettype'] = 'positive'\n",
    "tweetData.loc[tweetData['tweettype'] == 'relief', 'tweettype'] = 'positive'"
   ]
  },
  {
   "cell_type": "code",
   "execution_count": 7,
   "metadata": {},
   "outputs": [
    {
     "data": {
      "text/plain": [
       "negative    18115\n",
       "positive    16201\n",
       "neutral      9644\n",
       "Name: tweettype, dtype: int64"
      ]
     },
     "execution_count": 7,
     "metadata": {},
     "output_type": "execute_result"
    }
   ],
   "source": [
    "#View the value counts of each of the three categories\n",
    "tweetData['tweettype'].value_counts()"
   ]
  },
  {
   "cell_type": "code",
   "execution_count": 10,
   "metadata": {},
   "outputs": [
    {
     "data": {
      "text/plain": [
       "<seaborn.axisgrid.FacetGrid at 0x17106195eb0>"
      ]
     },
     "execution_count": 10,
     "metadata": {},
     "output_type": "execute_result"
    },
    {
     "data": {
      "image/png": "[encoded data removed]",
      "text/plain": [
       "<Figure size 360x360 with 1 Axes>"
      ]
     },
     "metadata": {
      "needs_background": "light"
     },
     "output_type": "display_data"
    }
   ],
   "source": [
    "#Categorical plot\n",
    "sb.catplot(y = \"tweettype\", data = tweetData, kind = \"count\")"
   ]
  },
  {
   "cell_type": "markdown",
   "metadata": {},
   "source": [
    ">As it can be seen from the plot above, the graph is more evenly distributed, and hence the team was confident that the result would improve significantly with postprocessing. "
   ]
  },
  {
   "cell_type": "code",
   "execution_count": 11,
   "metadata": {},
   "outputs": [],
   "source": [
    "#Export to csv\n",
    "tweetData.to_csv('../data/Postprocessed-Output.csv')"
   ]
  }
 ],
 "metadata": {
  "kernelspec": {
   "display_name": "Python 3 (ipykernel)",
   "language": "python",
   "name": "python3"
  },
  "language_info": {
   "codemirror_mode": {
    "name": "ipython",
    "version": 3
   },
   "file_extension": ".py",
   "mimetype": "text/x-python",
   "name": "python",
   "nbconvert_exporter": "python",
   "pygments_lexer": "ipython3",
   "version": "3.9.5"
  }
 },
 "nbformat": 4,
 "nbformat_minor": 4
}
