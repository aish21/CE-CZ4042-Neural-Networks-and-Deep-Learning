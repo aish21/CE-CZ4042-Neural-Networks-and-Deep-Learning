{
  "nbformat": 4,
  "nbformat_minor": 0,
  "metadata": {
    "kernelspec": {
      "display_name": "Python 3 (ipykernel)",
      "language": "python",
      "name": "python3"
    },
    "language_info": {
      "codemirror_mode": {
        "name": "ipython",
        "version": 3
      },
      "file_extension": ".py",
      "mimetype": "text/x-python",
      "name": "python",
      "nbconvert_exporter": "python",
      "pygments_lexer": "ipython3",
      "version": "3.8.5"
    },
    "colab": {
      "name": "HyperparameterTuning.ipynb",
      "provenance": []
    },
    "accelerator": "GPU"
  },
  "cells": [
    {
      "cell_type": "code",
      "metadata": {
        "colab": {
          "base_uri": "https://localhost:8080/"
        },
        "id": "KzfFLCYd-ngn",
        "outputId": "5ba27839-9fed-40ec-8eba-a55a9347f809"
      },
      "source": [
        "import nltk\n",
        "import pandas as pd\n",
        "from nltk.corpus import stopwords\n",
        "nltk.download('punkt')\n",
        "nltk.download('stopwords')\n",
        "nltk.download('wordnet')\n",
        "from sklearn.preprocessing import LabelEncoder\n",
        "from collections import Counter\n",
        "import wordcloud\n",
        "from sklearn.metrics import classification_report,confusion_matrix,accuracy_score\n",
        "from keras.models import Sequential\n",
        "from keras.preprocessing.text import Tokenizer\n",
        "from keras.preprocessing.sequence import pad_sequences\n",
        "from keras.layers import Dense, Embedding, LSTM, SpatialDropout1D, Dropout, Bidirectional, ConvLSTM2D, Flatten, Conv1D, Attention, Input\n",
        "from sklearn.model_selection import train_test_split \n",
        "import matplotlib.pyplot as plt\n",
        "import re\n",
        "from nltk.tokenize import word_tokenize\n",
        "from sklearn.feature_extraction.text import TfidfVectorizer\n",
        "import tensorflow as tf\n",
        "from tensorflow import keras\n",
        "import numpy as np\n",
        "from keras.wrappers.scikit_learn import KerasClassifier\n",
        "from sklearn.model_selection import GridSearchCV\n",
        "from keras import backend as K"
      ],
      "execution_count": 91,
      "outputs": [
        {
          "output_type": "stream",
          "name": "stdout",
          "text": [
            "[nltk_data] Downloading package punkt to /root/nltk_data...\n",
            "[nltk_data]   Package punkt is already up-to-date!\n",
            "[nltk_data] Downloading package stopwords to /root/nltk_data...\n",
            "[nltk_data]   Package stopwords is already up-to-date!\n",
            "[nltk_data] Downloading package wordnet to /root/nltk_data...\n",
            "[nltk_data]   Package wordnet is already up-to-date!\n"
          ]
        }
      ]
    },
    {
      "cell_type": "code",
      "metadata": {
        "colab": {
          "base_uri": "https://localhost:8080/",
          "height": 1000
        },
        "id": "xdVpKNOF-ngo",
        "outputId": "afd8b5de-cb1b-41bb-e98e-fddef59e6a17"
      },
      "source": [
        "tweetData = pd.read_csv('featureEngineeredFinal.csv', index_col=False)\n",
        "tweetData"
      ],
      "execution_count": 29,
      "outputs": [
        {
          "output_type": "execute_result",
          "data": {
            "text/html": [
              "<div>\n",
              "<style scoped>\n",
              "    .dataframe tbody tr th:only-of-type {\n",
              "        vertical-align: middle;\n",
              "    }\n",
              "\n",
              "    .dataframe tbody tr th {\n",
              "        vertical-align: top;\n",
              "    }\n",
              "\n",
              "    .dataframe thead th {\n",
              "        text-align: right;\n",
              "    }\n",
              "</style>\n",
              "<table border=\"1\" class=\"dataframe\">\n",
              "  <thead>\n",
              "    <tr style=\"text-align: right;\">\n",
              "      <th></th>\n",
              "      <th>Unnamed: 0</th>\n",
              "      <th>Unnamed: 0.1</th>\n",
              "      <th>tweet</th>\n",
              "      <th>tweettype</th>\n",
              "      <th>charCount</th>\n",
              "      <th>wordCount</th>\n",
              "      <th>sentenceCount</th>\n",
              "      <th>capCharCount</th>\n",
              "      <th>capWordCount</th>\n",
              "      <th>quotedWordCount</th>\n",
              "      <th>stopwordCount</th>\n",
              "      <th>uniqueWordCount</th>\n",
              "      <th>hashCount</th>\n",
              "      <th>mentionCount</th>\n",
              "      <th>avgWordLen</th>\n",
              "      <th>modTweet</th>\n",
              "      <th>! count</th>\n",
              "      <th>\" count</th>\n",
              "      <th># count</th>\n",
              "      <th>$ count</th>\n",
              "      <th>% count</th>\n",
              "      <th>&amp; count</th>\n",
              "      <th>' count</th>\n",
              "      <th>( count</th>\n",
              "      <th>) count</th>\n",
              "      <th>* count</th>\n",
              "      <th>+ count</th>\n",
              "      <th>, count</th>\n",
              "      <th>- count</th>\n",
              "      <th>. count</th>\n",
              "      <th>/ count</th>\n",
              "      <th>: count</th>\n",
              "      <th>; count</th>\n",
              "      <th>&lt; count</th>\n",
              "      <th>= count</th>\n",
              "      <th>&gt; count</th>\n",
              "      <th>? count</th>\n",
              "      <th>@ count</th>\n",
              "      <th>[ count</th>\n",
              "      <th>\\ count</th>\n",
              "      <th>] count</th>\n",
              "      <th>^ count</th>\n",
              "      <th>_ count</th>\n",
              "      <th>` count</th>\n",
              "      <th>{ count</th>\n",
              "      <th>| count</th>\n",
              "      <th>} count</th>\n",
              "      <th>~ count</th>\n",
              "      <th>lemmatizedText</th>\n",
              "    </tr>\n",
              "  </thead>\n",
              "  <tbody>\n",
              "    <tr>\n",
              "      <th>0</th>\n",
              "      <td>0</td>\n",
              "      <td>0</td>\n",
              "      <td>@ZubairSabirPTI  pls dont insult the word 'Molna'</td>\n",
              "      <td>anger</td>\n",
              "      <td>49</td>\n",
              "      <td>7</td>\n",
              "      <td>1</td>\n",
              "      <td>6</td>\n",
              "      <td>0</td>\n",
              "      <td>0</td>\n",
              "      <td>1</td>\n",
              "      <td>7</td>\n",
              "      <td>0</td>\n",
              "      <td>0</td>\n",
              "      <td>7.000000</td>\n",
              "      <td>pls dont insult the word 'molna'</td>\n",
              "      <td>0.0</td>\n",
              "      <td>0.0</td>\n",
              "      <td>0.0</td>\n",
              "      <td>0.0</td>\n",
              "      <td>0.0</td>\n",
              "      <td>0.0</td>\n",
              "      <td>2.0</td>\n",
              "      <td>0.0</td>\n",
              "      <td>0.0</td>\n",
              "      <td>0.0</td>\n",
              "      <td>0.0</td>\n",
              "      <td>0.0</td>\n",
              "      <td>0.0</td>\n",
              "      <td>0.0</td>\n",
              "      <td>0.0</td>\n",
              "      <td>0.0</td>\n",
              "      <td>0.0</td>\n",
              "      <td>0.0</td>\n",
              "      <td>0.0</td>\n",
              "      <td>0.0</td>\n",
              "      <td>0.0</td>\n",
              "      <td>1.0</td>\n",
              "      <td>0.0</td>\n",
              "      <td>0.0</td>\n",
              "      <td>0.0</td>\n",
              "      <td>0.0</td>\n",
              "      <td>0.0</td>\n",
              "      <td>0.0</td>\n",
              "      <td>0.0</td>\n",
              "      <td>0.0</td>\n",
              "      <td>0.0</td>\n",
              "      <td>0.0</td>\n",
              "      <td>pls dont insult word</td>\n",
              "    </tr>\n",
              "    <tr>\n",
              "      <th>1</th>\n",
              "      <td>1</td>\n",
              "      <td>1</td>\n",
              "      <td>@ArcticFantasy I would have almost took offens...</td>\n",
              "      <td>anger</td>\n",
              "      <td>81</td>\n",
              "      <td>14</td>\n",
              "      <td>1</td>\n",
              "      <td>4</td>\n",
              "      <td>2</td>\n",
              "      <td>0</td>\n",
              "      <td>5</td>\n",
              "      <td>13</td>\n",
              "      <td>0</td>\n",
              "      <td>0</td>\n",
              "      <td>5.785714</td>\n",
              "      <td>would have almost took offense to this if actu...</td>\n",
              "      <td>0.0</td>\n",
              "      <td>0.0</td>\n",
              "      <td>0.0</td>\n",
              "      <td>0.0</td>\n",
              "      <td>0.0</td>\n",
              "      <td>0.0</td>\n",
              "      <td>0.0</td>\n",
              "      <td>0.0</td>\n",
              "      <td>0.0</td>\n",
              "      <td>0.0</td>\n",
              "      <td>0.0</td>\n",
              "      <td>0.0</td>\n",
              "      <td>0.0</td>\n",
              "      <td>0.0</td>\n",
              "      <td>0.0</td>\n",
              "      <td>0.0</td>\n",
              "      <td>0.0</td>\n",
              "      <td>0.0</td>\n",
              "      <td>0.0</td>\n",
              "      <td>0.0</td>\n",
              "      <td>0.0</td>\n",
              "      <td>1.0</td>\n",
              "      <td>0.0</td>\n",
              "      <td>0.0</td>\n",
              "      <td>0.0</td>\n",
              "      <td>0.0</td>\n",
              "      <td>0.0</td>\n",
              "      <td>0.0</td>\n",
              "      <td>0.0</td>\n",
              "      <td>0.0</td>\n",
              "      <td>0.0</td>\n",
              "      <td>0.0</td>\n",
              "      <td>would almost take offense actually snap</td>\n",
              "    </tr>\n",
              "    <tr>\n",
              "      <th>2</th>\n",
              "      <td>2</td>\n",
              "      <td>2</td>\n",
              "      <td>@IllinoisLoyalty that Rutgers game was an abom...</td>\n",
              "      <td>anger</td>\n",
              "      <td>114</td>\n",
              "      <td>20</td>\n",
              "      <td>3</td>\n",
              "      <td>6</td>\n",
              "      <td>0</td>\n",
              "      <td>0</td>\n",
              "      <td>8</td>\n",
              "      <td>20</td>\n",
              "      <td>0</td>\n",
              "      <td>0</td>\n",
              "      <td>5.700000</td>\n",
              "      <td>that rutgers game was an abomination an affron...</td>\n",
              "      <td>0.0</td>\n",
              "      <td>0.0</td>\n",
              "      <td>0.0</td>\n",
              "      <td>0.0</td>\n",
              "      <td>0.0</td>\n",
              "      <td>0.0</td>\n",
              "      <td>0.0</td>\n",
              "      <td>0.0</td>\n",
              "      <td>0.0</td>\n",
              "      <td>0.0</td>\n",
              "      <td>0.0</td>\n",
              "      <td>0.0</td>\n",
              "      <td>0.0</td>\n",
              "      <td>3.0</td>\n",
              "      <td>0.0</td>\n",
              "      <td>0.0</td>\n",
              "      <td>0.0</td>\n",
              "      <td>0.0</td>\n",
              "      <td>0.0</td>\n",
              "      <td>0.0</td>\n",
              "      <td>0.0</td>\n",
              "      <td>1.0</td>\n",
              "      <td>0.0</td>\n",
              "      <td>0.0</td>\n",
              "      <td>0.0</td>\n",
              "      <td>0.0</td>\n",
              "      <td>0.0</td>\n",
              "      <td>0.0</td>\n",
              "      <td>0.0</td>\n",
              "      <td>0.0</td>\n",
              "      <td>0.0</td>\n",
              "      <td>0.0</td>\n",
              "      <td>rutgers game abomination affront god man must ...</td>\n",
              "    </tr>\n",
              "    <tr>\n",
              "      <th>3</th>\n",
              "      <td>3</td>\n",
              "      <td>3</td>\n",
              "      <td>@CozanGaming that's what lisa asked before she...</td>\n",
              "      <td>anger</td>\n",
              "      <td>90</td>\n",
              "      <td>16</td>\n",
              "      <td>2</td>\n",
              "      <td>3</td>\n",
              "      <td>1</td>\n",
              "      <td>0</td>\n",
              "      <td>7</td>\n",
              "      <td>16</td>\n",
              "      <td>0</td>\n",
              "      <td>0</td>\n",
              "      <td>5.625000</td>\n",
              "      <td>that's what lisa asked before she started ragi...</td>\n",
              "      <td>0.0</td>\n",
              "      <td>0.0</td>\n",
              "      <td>0.0</td>\n",
              "      <td>0.0</td>\n",
              "      <td>0.0</td>\n",
              "      <td>0.0</td>\n",
              "      <td>3.0</td>\n",
              "      <td>0.0</td>\n",
              "      <td>0.0</td>\n",
              "      <td>0.0</td>\n",
              "      <td>0.0</td>\n",
              "      <td>1.0</td>\n",
              "      <td>0.0</td>\n",
              "      <td>0.0</td>\n",
              "      <td>0.0</td>\n",
              "      <td>0.0</td>\n",
              "      <td>0.0</td>\n",
              "      <td>0.0</td>\n",
              "      <td>0.0</td>\n",
              "      <td>0.0</td>\n",
              "      <td>1.0</td>\n",
              "      <td>1.0</td>\n",
              "      <td>0.0</td>\n",
              "      <td>0.0</td>\n",
              "      <td>0.0</td>\n",
              "      <td>0.0</td>\n",
              "      <td>0.0</td>\n",
              "      <td>0.0</td>\n",
              "      <td>0.0</td>\n",
              "      <td>0.0</td>\n",
              "      <td>0.0</td>\n",
              "      <td>0.0</td>\n",
              "      <td>lisa ask start rag call heh</td>\n",
              "    </tr>\n",
              "    <tr>\n",
              "      <th>4</th>\n",
              "      <td>4</td>\n",
              "      <td>4</td>\n",
              "      <td>Sometimes I get mad over something so minuscul...</td>\n",
              "      <td>anger</td>\n",
              "      <td>133</td>\n",
              "      <td>25</td>\n",
              "      <td>1</td>\n",
              "      <td>3</td>\n",
              "      <td>2</td>\n",
              "      <td>0</td>\n",
              "      <td>7</td>\n",
              "      <td>22</td>\n",
              "      <td>0</td>\n",
              "      <td>0</td>\n",
              "      <td>5.320000</td>\n",
              "      <td>sometimes get mad over something so minuscule ...</td>\n",
              "      <td>0.0</td>\n",
              "      <td>0.0</td>\n",
              "      <td>0.0</td>\n",
              "      <td>0.0</td>\n",
              "      <td>0.0</td>\n",
              "      <td>0.0</td>\n",
              "      <td>0.0</td>\n",
              "      <td>0.0</td>\n",
              "      <td>0.0</td>\n",
              "      <td>0.0</td>\n",
              "      <td>0.0</td>\n",
              "      <td>0.0</td>\n",
              "      <td>0.0</td>\n",
              "      <td>0.0</td>\n",
              "      <td>0.0</td>\n",
              "      <td>0.0</td>\n",
              "      <td>0.0</td>\n",
              "      <td>0.0</td>\n",
              "      <td>0.0</td>\n",
              "      <td>0.0</td>\n",
              "      <td>0.0</td>\n",
              "      <td>0.0</td>\n",
              "      <td>0.0</td>\n",
              "      <td>0.0</td>\n",
              "      <td>0.0</td>\n",
              "      <td>0.0</td>\n",
              "      <td>0.0</td>\n",
              "      <td>0.0</td>\n",
              "      <td>0.0</td>\n",
              "      <td>0.0</td>\n",
              "      <td>0.0</td>\n",
              "      <td>0.0</td>\n",
              "      <td>sometimes get mad something minuscule try ruin...</td>\n",
              "    </tr>\n",
              "    <tr>\n",
              "      <th>...</th>\n",
              "      <td>...</td>\n",
              "      <td>...</td>\n",
              "      <td>...</td>\n",
              "      <td>...</td>\n",
              "      <td>...</td>\n",
              "      <td>...</td>\n",
              "      <td>...</td>\n",
              "      <td>...</td>\n",
              "      <td>...</td>\n",
              "      <td>...</td>\n",
              "      <td>...</td>\n",
              "      <td>...</td>\n",
              "      <td>...</td>\n",
              "      <td>...</td>\n",
              "      <td>...</td>\n",
              "      <td>...</td>\n",
              "      <td>...</td>\n",
              "      <td>...</td>\n",
              "      <td>...</td>\n",
              "      <td>...</td>\n",
              "      <td>...</td>\n",
              "      <td>...</td>\n",
              "      <td>...</td>\n",
              "      <td>...</td>\n",
              "      <td>...</td>\n",
              "      <td>...</td>\n",
              "      <td>...</td>\n",
              "      <td>...</td>\n",
              "      <td>...</td>\n",
              "      <td>...</td>\n",
              "      <td>...</td>\n",
              "      <td>...</td>\n",
              "      <td>...</td>\n",
              "      <td>...</td>\n",
              "      <td>...</td>\n",
              "      <td>...</td>\n",
              "      <td>...</td>\n",
              "      <td>...</td>\n",
              "      <td>...</td>\n",
              "      <td>...</td>\n",
              "      <td>...</td>\n",
              "      <td>...</td>\n",
              "      <td>...</td>\n",
              "      <td>...</td>\n",
              "      <td>...</td>\n",
              "      <td>...</td>\n",
              "      <td>...</td>\n",
              "      <td>...</td>\n",
              "      <td>...</td>\n",
              "    </tr>\n",
              "    <tr>\n",
              "      <th>43955</th>\n",
              "      <td>43955</td>\n",
              "      <td>43955</td>\n",
              "      <td>@JohnLloydTaylor</td>\n",
              "      <td>neutral</td>\n",
              "      <td>16</td>\n",
              "      <td>1</td>\n",
              "      <td>1</td>\n",
              "      <td>3</td>\n",
              "      <td>0</td>\n",
              "      <td>0</td>\n",
              "      <td>0</td>\n",
              "      <td>1</td>\n",
              "      <td>0</td>\n",
              "      <td>0</td>\n",
              "      <td>16.000000</td>\n",
              "      <td>NaN</td>\n",
              "      <td>0.0</td>\n",
              "      <td>0.0</td>\n",
              "      <td>0.0</td>\n",
              "      <td>0.0</td>\n",
              "      <td>0.0</td>\n",
              "      <td>0.0</td>\n",
              "      <td>0.0</td>\n",
              "      <td>0.0</td>\n",
              "      <td>0.0</td>\n",
              "      <td>0.0</td>\n",
              "      <td>0.0</td>\n",
              "      <td>0.0</td>\n",
              "      <td>0.0</td>\n",
              "      <td>0.0</td>\n",
              "      <td>0.0</td>\n",
              "      <td>0.0</td>\n",
              "      <td>0.0</td>\n",
              "      <td>0.0</td>\n",
              "      <td>0.0</td>\n",
              "      <td>0.0</td>\n",
              "      <td>0.0</td>\n",
              "      <td>1.0</td>\n",
              "      <td>0.0</td>\n",
              "      <td>0.0</td>\n",
              "      <td>0.0</td>\n",
              "      <td>0.0</td>\n",
              "      <td>0.0</td>\n",
              "      <td>0.0</td>\n",
              "      <td>0.0</td>\n",
              "      <td>0.0</td>\n",
              "      <td>0.0</td>\n",
              "      <td>0.0</td>\n",
              "      <td>NaN</td>\n",
              "    </tr>\n",
              "    <tr>\n",
              "      <th>43956</th>\n",
              "      <td>43956</td>\n",
              "      <td>43956</td>\n",
              "      <td>Happy Mothers Day  All my love</td>\n",
              "      <td>love</td>\n",
              "      <td>30</td>\n",
              "      <td>6</td>\n",
              "      <td>1</td>\n",
              "      <td>4</td>\n",
              "      <td>0</td>\n",
              "      <td>0</td>\n",
              "      <td>1</td>\n",
              "      <td>6</td>\n",
              "      <td>0</td>\n",
              "      <td>0</td>\n",
              "      <td>5.000000</td>\n",
              "      <td>happy mothers day all my love</td>\n",
              "      <td>0.0</td>\n",
              "      <td>0.0</td>\n",
              "      <td>0.0</td>\n",
              "      <td>0.0</td>\n",
              "      <td>0.0</td>\n",
              "      <td>0.0</td>\n",
              "      <td>0.0</td>\n",
              "      <td>0.0</td>\n",
              "      <td>0.0</td>\n",
              "      <td>0.0</td>\n",
              "      <td>0.0</td>\n",
              "      <td>0.0</td>\n",
              "      <td>0.0</td>\n",
              "      <td>0.0</td>\n",
              "      <td>0.0</td>\n",
              "      <td>0.0</td>\n",
              "      <td>0.0</td>\n",
              "      <td>0.0</td>\n",
              "      <td>0.0</td>\n",
              "      <td>0.0</td>\n",
              "      <td>0.0</td>\n",
              "      <td>0.0</td>\n",
              "      <td>0.0</td>\n",
              "      <td>0.0</td>\n",
              "      <td>0.0</td>\n",
              "      <td>0.0</td>\n",
              "      <td>0.0</td>\n",
              "      <td>0.0</td>\n",
              "      <td>0.0</td>\n",
              "      <td>0.0</td>\n",
              "      <td>0.0</td>\n",
              "      <td>0.0</td>\n",
              "      <td>happy mother day love</td>\n",
              "    </tr>\n",
              "    <tr>\n",
              "      <th>43957</th>\n",
              "      <td>43957</td>\n",
              "      <td>43957</td>\n",
              "      <td>Happy Mother's Day to all the mommies out ther...</td>\n",
              "      <td>love</td>\n",
              "      <td>123</td>\n",
              "      <td>25</td>\n",
              "      <td>1</td>\n",
              "      <td>3</td>\n",
              "      <td>0</td>\n",
              "      <td>0</td>\n",
              "      <td>15</td>\n",
              "      <td>23</td>\n",
              "      <td>0</td>\n",
              "      <td>0</td>\n",
              "      <td>4.920000</td>\n",
              "      <td>happy mother's day to all the mommies out ther...</td>\n",
              "      <td>1.0</td>\n",
              "      <td>0.0</td>\n",
              "      <td>0.0</td>\n",
              "      <td>0.0</td>\n",
              "      <td>0.0</td>\n",
              "      <td>0.0</td>\n",
              "      <td>4.0</td>\n",
              "      <td>0.0</td>\n",
              "      <td>0.0</td>\n",
              "      <td>0.0</td>\n",
              "      <td>0.0</td>\n",
              "      <td>1.0</td>\n",
              "      <td>0.0</td>\n",
              "      <td>0.0</td>\n",
              "      <td>0.0</td>\n",
              "      <td>0.0</td>\n",
              "      <td>0.0</td>\n",
              "      <td>0.0</td>\n",
              "      <td>0.0</td>\n",
              "      <td>0.0</td>\n",
              "      <td>0.0</td>\n",
              "      <td>0.0</td>\n",
              "      <td>0.0</td>\n",
              "      <td>0.0</td>\n",
              "      <td>0.0</td>\n",
              "      <td>0.0</td>\n",
              "      <td>0.0</td>\n",
              "      <td>0.0</td>\n",
              "      <td>0.0</td>\n",
              "      <td>0.0</td>\n",
              "      <td>0.0</td>\n",
              "      <td>0.0</td>\n",
              "      <td>happy mother day mommy woman man long someone day</td>\n",
              "    </tr>\n",
              "    <tr>\n",
              "      <th>43958</th>\n",
              "      <td>43958</td>\n",
              "      <td>43958</td>\n",
              "      <td>@niariley WASSUP BEAUTIFUL!!! FOLLOW ME!!  PEE...</td>\n",
              "      <td>joy</td>\n",
              "      <td>122</td>\n",
              "      <td>19</td>\n",
              "      <td>5</td>\n",
              "      <td>83</td>\n",
              "      <td>18</td>\n",
              "      <td>0</td>\n",
              "      <td>0</td>\n",
              "      <td>19</td>\n",
              "      <td>0</td>\n",
              "      <td>0</td>\n",
              "      <td>6.421053</td>\n",
              "      <td>wassup beautiful follow me peep out my new hit...</td>\n",
              "      <td>7.0</td>\n",
              "      <td>0.0</td>\n",
              "      <td>0.0</td>\n",
              "      <td>0.0</td>\n",
              "      <td>0.0</td>\n",
              "      <td>0.0</td>\n",
              "      <td>0.0</td>\n",
              "      <td>0.0</td>\n",
              "      <td>0.0</td>\n",
              "      <td>0.0</td>\n",
              "      <td>0.0</td>\n",
              "      <td>0.0</td>\n",
              "      <td>0.0</td>\n",
              "      <td>3.0</td>\n",
              "      <td>1.0</td>\n",
              "      <td>0.0</td>\n",
              "      <td>0.0</td>\n",
              "      <td>0.0</td>\n",
              "      <td>0.0</td>\n",
              "      <td>0.0</td>\n",
              "      <td>0.0</td>\n",
              "      <td>1.0</td>\n",
              "      <td>0.0</td>\n",
              "      <td>0.0</td>\n",
              "      <td>0.0</td>\n",
              "      <td>0.0</td>\n",
              "      <td>0.0</td>\n",
              "      <td>0.0</td>\n",
              "      <td>0.0</td>\n",
              "      <td>0.0</td>\n",
              "      <td>0.0</td>\n",
              "      <td>0.0</td>\n",
              "      <td>wassup beautiful follow peep new hit single ww...</td>\n",
              "    </tr>\n",
              "    <tr>\n",
              "      <th>43959</th>\n",
              "      <td>43959</td>\n",
              "      <td>43959</td>\n",
              "      <td>@mopedronin bullet train from tokyo    the gf ...</td>\n",
              "      <td>love</td>\n",
              "      <td>131</td>\n",
              "      <td>18</td>\n",
              "      <td>1</td>\n",
              "      <td>0</td>\n",
              "      <td>0</td>\n",
              "      <td>0</td>\n",
              "      <td>6</td>\n",
              "      <td>18</td>\n",
              "      <td>0</td>\n",
              "      <td>0</td>\n",
              "      <td>7.277778</td>\n",
              "      <td>bullet train from tokyo the gf and have been v...</td>\n",
              "      <td>0.0</td>\n",
              "      <td>0.0</td>\n",
              "      <td>0.0</td>\n",
              "      <td>0.0</td>\n",
              "      <td>0.0</td>\n",
              "      <td>0.0</td>\n",
              "      <td>0.0</td>\n",
              "      <td>0.0</td>\n",
              "      <td>0.0</td>\n",
              "      <td>0.0</td>\n",
              "      <td>0.0</td>\n",
              "      <td>0.0</td>\n",
              "      <td>0.0</td>\n",
              "      <td>0.0</td>\n",
              "      <td>1.0</td>\n",
              "      <td>0.0</td>\n",
              "      <td>0.0</td>\n",
              "      <td>0.0</td>\n",
              "      <td>0.0</td>\n",
              "      <td>0.0</td>\n",
              "      <td>0.0</td>\n",
              "      <td>1.0</td>\n",
              "      <td>0.0</td>\n",
              "      <td>0.0</td>\n",
              "      <td>0.0</td>\n",
              "      <td>0.0</td>\n",
              "      <td>0.0</td>\n",
              "      <td>0.0</td>\n",
              "      <td>0.0</td>\n",
              "      <td>0.0</td>\n",
              "      <td>0.0</td>\n",
              "      <td>0.0</td>\n",
              "      <td>bullet train tokyo gf visit japan since thursd...</td>\n",
              "    </tr>\n",
              "  </tbody>\n",
              "</table>\n",
              "<p>43960 rows × 49 columns</p>\n",
              "</div>"
            ],
            "text/plain": [
              "       Unnamed: 0  ...                                     lemmatizedText\n",
              "0               0  ...                               pls dont insult word\n",
              "1               1  ...            would almost take offense actually snap\n",
              "2               2  ...  rutgers game abomination affront god man must ...\n",
              "3               3  ...                        lisa ask start rag call heh\n",
              "4               4  ...  sometimes get mad something minuscule try ruin...\n",
              "...           ...  ...                                                ...\n",
              "43955       43955  ...                                                NaN\n",
              "43956       43956  ...                              happy mother day love\n",
              "43957       43957  ...  happy mother day mommy woman man long someone day\n",
              "43958       43958  ...  wassup beautiful follow peep new hit single ww...\n",
              "43959       43959  ...  bullet train tokyo gf visit japan since thursd...\n",
              "\n",
              "[43960 rows x 49 columns]"
            ]
          },
          "metadata": {},
          "execution_count": 29
        }
      ]
    },
    {
      "cell_type": "code",
      "metadata": {
        "id": "AmiQfcbl-ngp"
      },
      "source": [
        "labels = np.array(tweetData['tweettype'])\n",
        "y = []\n",
        "for i in range(len(labels)):\n",
        "    if labels[i] == 'sadness':\n",
        "        y.append(0)\n",
        "    elif labels[i] == 'neutral':\n",
        "        y.append(1)\n",
        "    elif labels[i] == 'joy':\n",
        "        y.append(2)\n",
        "    elif labels[i] == 'love':\n",
        "        y.append(3)\n",
        "    elif labels[i] == 'enthusiasm':\n",
        "        y.append(4)\n",
        "    elif labels[i] == 'anger':\n",
        "        y.append(5)\n",
        "    elif labels[i] == 'surprise':\n",
        "        y.append(6)\n",
        "    elif labels[i] == 'relief':\n",
        "        y.append(7)\n",
        "    elif labels[i] == 'fear':\n",
        "        y.append(8)\n",
        "y = np.array(y)\n",
        "labels = tf.keras.utils.to_categorical(y, 9, dtype=\"float32\")\n",
        "del y"
      ],
      "execution_count": 31,
      "outputs": []
    },
    {
      "cell_type": "code",
      "metadata": {
        "id": "0LSA-mOo-ngp"
      },
      "source": [
        "def featureEngineering(tweet):\n",
        "    # Lower case tweet\n",
        "    tweetMod = tweet.lower()\n",
        "    # Replace URLs with a space in the message\n",
        "    tweetMod = re.sub('https?:\\/\\/[a-zA-Z0-9@:%._\\/+~#=?&;-]*', ' ', tweetMod)\n",
        "    # Replace ticker symbols with a space. The ticker symbols are any stock symbol that starts with $.\n",
        "    tweetMod = re.sub('\\$[a-zA-Z0-9]*', ' ', tweetMod)\n",
        "    # Replace StockTwits usernames with a space. The usernames are any word that starts with @.\n",
        "    tweetMod = re.sub('\\@[a-zA-Z0-9]*', ' ', tweetMod)\n",
        "    # Replace everything not a letter or apostrophe with a space\n",
        "    tweetMod = re.sub('[^a-zA-Z\\']', ' ', tweetMod)\n",
        "    # Remove single letter words\n",
        "    tweetMod = ' '.join( [w for w in tweetMod.split() if len(w)>1] )\n",
        "    \n",
        "    return tweetMod\n",
        "\n",
        "# Process for all tweets\n",
        "tweetData['modTweet'] = [featureEngineering(tweet) for tweet in tweetData['tweet']]"
      ],
      "execution_count": 32,
      "outputs": []
    },
    {
      "cell_type": "code",
      "metadata": {
        "id": "-fHfDos1-ngq"
      },
      "source": [
        "def lemmatizeTweet(tweet):\n",
        "  words = [word for word in word_tokenize(tweet) if (word.isalpha()==1)]\n",
        "  # Remove stop words\n",
        "  stop = set(stopwords.words('english'))\n",
        "  words = [word for word in words if (word not in stop)]\n",
        "  # Lemmatize words (first noun, then verb)\n",
        "  wnl = nltk.stem.WordNetLemmatizer()\n",
        "  lemmatized = [wnl.lemmatize(wnl.lemmatize(word, 'n'), 'v') for word in words]\n",
        "  return \" \".join(lemmatized)\n",
        "\n",
        "tweetData['lemmatizedText'] = tweetData[\"modTweet\"].apply(lambda x:lemmatizeTweet(x))"
      ],
      "execution_count": 33,
      "outputs": []
    },
    {
      "cell_type": "code",
      "metadata": {
        "id": "oLtOcYE4-ngq"
      },
      "source": [
        "tokenizer = Tokenizer(num_words=27608, split=' ')\n",
        "tokenizer.fit_on_texts(tweetData['lemmatizedText'].values)\n",
        "X = tokenizer.texts_to_sequences(tweetData['lemmatizedText'].values)\n",
        "X = pad_sequences(X)\n",
        "    \n",
        "X_train, X_test, Y_train, Y_test = train_test_split(X,labels, test_size = 0.3, random_state = 42)"
      ],
      "execution_count": 34,
      "outputs": []
    },
    {
      "cell_type": "code",
      "metadata": {
        "colab": {
          "base_uri": "https://localhost:8080/"
        },
        "id": "FwDt5dXM-ngq",
        "outputId": "4ad26168-c61c-4c42-b0db-63e3d7aef0d2"
      },
      "source": [
        "embed_dim = 64\n",
        "keras.backend.clear_session()\n",
        "model_dropout = Sequential()\n",
        "model_dropout.add(Embedding(27608,embed_dim,input_length = X.shape[1]))\n",
        "model_dropout.add(Dropout(rate=0.4))\n",
        "model_dropout.add(Bidirectional(LSTM(units=128, return_sequences=True)))\n",
        "model_dropout.add(Dropout(rate=0.4))\n",
        "model_dropout.add(Bidirectional(LSTM(units=128, return_sequences=False)))\n",
        "model_dropout.add(Dense(1, activation='softmax'))\n",
        "\n",
        "model_dropout.summary()"
      ],
      "execution_count": 18,
      "outputs": [
        {
          "output_type": "stream",
          "name": "stdout",
          "text": [
            "Model: \"sequential\"\n",
            "_________________________________________________________________\n",
            " Layer (type)                Output Shape              Param #   \n",
            "=================================================================\n",
            " embedding (Embedding)       (None, 28, 64)            1766912   \n",
            "                                                                 \n",
            " dropout (Dropout)           (None, 28, 64)            0         \n",
            "                                                                 \n",
            " bidirectional (Bidirectiona  (None, 28, 256)          197632    \n",
            " l)                                                              \n",
            "                                                                 \n",
            " dropout_1 (Dropout)         (None, 28, 256)           0         \n",
            "                                                                 \n",
            " bidirectional_1 (Bidirectio  (None, 256)              394240    \n",
            " nal)                                                            \n",
            "                                                                 \n",
            " dense (Dense)               (None, 9)                 2313      \n",
            "                                                                 \n",
            "=================================================================\n",
            "Total params: 2,361,097\n",
            "Trainable params: 2,361,097\n",
            "Non-trainable params: 0\n",
            "_________________________________________________________________\n"
          ]
        }
      ]
    },
    {
      "cell_type": "code",
      "metadata": {
        "id": "wkjkh9dDBpr4"
      },
      "source": [
        "model_dropout.compile(loss='categorical_crossentropy', optimizer='adam', metrics=['accuracy'])"
      ],
      "execution_count": 20,
      "outputs": []
    },
    {
      "cell_type": "code",
      "metadata": {
        "colab": {
          "base_uri": "https://localhost:8080/"
        },
        "id": "668MP6va-ngq",
        "outputId": "0c598938-e537-4ff7-de71-0c24bd95bee6"
      },
      "source": [
        "history = model_dropout.fit(X_train, Y_train, epochs = 20, batch_size=64, validation_data=(X_test, Y_test))"
      ],
      "execution_count": 21,
      "outputs": [
        {
          "output_type": "stream",
          "name": "stdout",
          "text": [
            "Epoch 1/20\n",
            "481/481 [==============================] - 36s 49ms/step - loss: 1.7451 - accuracy: 0.3825 - val_loss: 1.6022 - val_accuracy: 0.4368\n",
            "Epoch 2/20\n",
            "481/481 [==============================] - 22s 46ms/step - loss: 1.4852 - accuracy: 0.4901 - val_loss: 1.5641 - val_accuracy: 0.4619\n",
            "Epoch 3/20\n",
            "481/481 [==============================] - 21s 44ms/step - loss: 1.3129 - accuracy: 0.5556 - val_loss: 1.5807 - val_accuracy: 0.4591\n",
            "Epoch 4/20\n",
            "481/481 [==============================] - 21s 44ms/step - loss: 1.1665 - accuracy: 0.6080 - val_loss: 1.6550 - val_accuracy: 0.4397\n",
            "Epoch 5/20\n",
            "481/481 [==============================] - 20s 42ms/step - loss: 1.0455 - accuracy: 0.6534 - val_loss: 1.7232 - val_accuracy: 0.4362\n",
            "Epoch 6/20\n",
            "481/481 [==============================] - 20s 42ms/step - loss: 0.9402 - accuracy: 0.6899 - val_loss: 1.8675 - val_accuracy: 0.4220\n",
            "Epoch 7/20\n",
            "481/481 [==============================] - 24s 49ms/step - loss: 0.8559 - accuracy: 0.7163 - val_loss: 1.9313 - val_accuracy: 0.4274\n",
            "Epoch 8/20\n",
            "481/481 [==============================] - 21s 43ms/step - loss: 0.7861 - accuracy: 0.7402 - val_loss: 2.0129 - val_accuracy: 0.4142\n",
            "Epoch 9/20\n",
            "481/481 [==============================] - 20s 43ms/step - loss: 0.7251 - accuracy: 0.7573 - val_loss: 2.1239 - val_accuracy: 0.4071\n",
            "Epoch 10/20\n",
            "481/481 [==============================] - 20s 43ms/step - loss: 0.6857 - accuracy: 0.7702 - val_loss: 2.1519 - val_accuracy: 0.4051\n",
            "Epoch 11/20\n",
            "481/481 [==============================] - 21s 44ms/step - loss: 0.6468 - accuracy: 0.7798 - val_loss: 2.2878 - val_accuracy: 0.4035\n",
            "Epoch 12/20\n",
            "481/481 [==============================] - 21s 43ms/step - loss: 0.6107 - accuracy: 0.7934 - val_loss: 2.3204 - val_accuracy: 0.4078\n",
            "Epoch 13/20\n",
            "481/481 [==============================] - 20s 42ms/step - loss: 0.5894 - accuracy: 0.7993 - val_loss: 2.4698 - val_accuracy: 0.4068\n",
            "Epoch 14/20\n",
            "481/481 [==============================] - 20s 42ms/step - loss: 0.5679 - accuracy: 0.8037 - val_loss: 2.4911 - val_accuracy: 0.4096\n",
            "Epoch 15/20\n",
            "481/481 [==============================] - 20s 41ms/step - loss: 0.5447 - accuracy: 0.8096 - val_loss: 2.5612 - val_accuracy: 0.4035\n",
            "Epoch 16/20\n",
            "481/481 [==============================] - 20s 41ms/step - loss: 0.5275 - accuracy: 0.8162 - val_loss: 2.6944 - val_accuracy: 0.4048\n",
            "Epoch 17/20\n",
            "481/481 [==============================] - 21s 43ms/step - loss: 0.5064 - accuracy: 0.8243 - val_loss: 2.7163 - val_accuracy: 0.4036\n",
            "Epoch 18/20\n",
            "481/481 [==============================] - 20s 42ms/step - loss: 0.4951 - accuracy: 0.8280 - val_loss: 2.7378 - val_accuracy: 0.3948\n",
            "Epoch 19/20\n",
            "481/481 [==============================] - 20s 41ms/step - loss: 0.4746 - accuracy: 0.8338 - val_loss: 2.8788 - val_accuracy: 0.3960\n",
            "Epoch 20/20\n",
            "481/481 [==============================] - 19s 40ms/step - loss: 0.4653 - accuracy: 0.8364 - val_loss: 2.8856 - val_accuracy: 0.4014\n"
          ]
        }
      ]
    },
    {
      "cell_type": "code",
      "metadata": {
        "colab": {
          "base_uri": "https://localhost:8080/",
          "height": 295
        },
        "id": "xKcOgOJ3Dhm1",
        "outputId": "8bc97cec-f6e6-479a-8c37-ff73368d025d"
      },
      "source": [
        "# plotting the accuracies for the training epochs\n",
        "plt.figure(1)\n",
        "plt.plot(history.history['accuracy'])\n",
        "plt.plot(history.history['val_accuracy'])\n",
        "plt.title('model accuracy')\n",
        "plt.ylabel('accuracy')\n",
        "plt.xlabel('epoch')\n",
        "plt.legend(['train', 'test'], loc='best')\n",
        "plt.savefig('1b_accuracies.png')"
      ],
      "execution_count": 23,
      "outputs": [
        {
          "output_type": "display_data",
          "data": {
            "image/png": "[encoded data removed]",
            "text/plain": [
              "<Figure size 432x288 with 1 Axes>"
            ]
          },
          "metadata": {
            "needs_background": "light"
          }
        }
      ]
    },
    {
      "cell_type": "code",
      "metadata": {
        "colab": {
          "base_uri": "https://localhost:8080/",
          "height": 295
        },
        "id": "A5AsrinmDrpd",
        "outputId": "74a7556e-32b8-49c6-a7fc-4bb42c2b711b"
      },
      "source": [
        "# plotting the losses for the training epochs\n",
        "plt.figure(1)\n",
        "plt.plot(history.history['loss'])\n",
        "plt.plot(history.history['val_loss'])\n",
        "plt.title('model loss')\n",
        "plt.ylabel('cross-entropy')\n",
        "plt.xlabel('epoch')\n",
        "plt.legend(['train', 'test'], loc='best')\n",
        "plt.savefig('1c_losses.png')"
      ],
      "execution_count": 24,
      "outputs": [
        {
          "output_type": "display_data",
          "data": {
            "image/png": "[encoded data removed]",
            "text/plain": [
              "<Figure size 432x288 with 1 Axes>"
            ]
          },
          "metadata": {
            "needs_background": "light"
          }
        }
      ]
    },
    {
      "cell_type": "code",
      "metadata": {
        "colab": {
          "base_uri": "https://localhost:8080/"
        },
        "id": "65CpZcStCzCQ",
        "outputId": "bee8e5f1-34fa-4cbf-fc23-cfb9ce9c3d15"
      },
      "source": [
        "embed_dim = 64\n",
        "keras.backend.clear_session()\n",
        "model_dropout = Sequential()\n",
        "model_dropout.add(Embedding(2000,embed_dim,input_length = X.shape[1]))\n",
        "model_dropout.add(Dropout(rate=0.4))\n",
        "model_dropout.add(Bidirectional(LSTM(units=128, return_sequences=False)))\n",
        "model_dropout.add(Dense(9, activation='softmax'))\n",
        "model_dropout.summary()"
      ],
      "execution_count": 36,
      "outputs": [
        {
          "output_type": "stream",
          "name": "stdout",
          "text": [
            "Model: \"sequential\"\n",
            "_________________________________________________________________\n",
            " Layer (type)                Output Shape              Param #   \n",
            "=================================================================\n",
            " embedding (Embedding)       (None, 28, 64)            128000    \n",
            "                                                                 \n",
            " dropout (Dropout)           (None, 28, 64)            0         \n",
            "                                                                 \n",
            " bidirectional (Bidirectiona  (None, 256)              197632    \n",
            " l)                                                              \n",
            "                                                                 \n",
            " dense (Dense)               (None, 9)                 2313      \n",
            "                                                                 \n",
            "=================================================================\n",
            "Total params: 327,945\n",
            "Trainable params: 327,945\n",
            "Non-trainable params: 0\n",
            "_________________________________________________________________\n"
          ]
        }
      ]
    },
    {
      "cell_type": "code",
      "metadata": {
        "id": "SLjbEFlSD_9c"
      },
      "source": [
        "model_dropout.compile(loss='categorical_crossentropy', optimizer='adam', metrics=['accuracy'])"
      ],
      "execution_count": 37,
      "outputs": []
    },
    {
      "cell_type": "code",
      "metadata": {
        "colab": {
          "base_uri": "https://localhost:8080/"
        },
        "id": "er7AJO7lEDRE",
        "outputId": "dbad5297-d933-42e5-823c-b2f3cd6e5afd"
      },
      "source": [
        "history = model_dropout.fit(X_train, Y_train, epochs = 20, batch_size=64, validation_data=(X_test, Y_test))"
      ],
      "execution_count": 38,
      "outputs": [
        {
          "output_type": "stream",
          "name": "stdout",
          "text": [
            "Epoch 1/20\n",
            "481/481 [==============================] - 17s 27ms/step - loss: 1.7560 - accuracy: 0.3839 - val_loss: 1.6266 - val_accuracy: 0.4312\n",
            "Epoch 2/20\n",
            "481/481 [==============================] - 12s 24ms/step - loss: 1.5601 - accuracy: 0.4626 - val_loss: 1.5659 - val_accuracy: 0.4564\n",
            "Epoch 3/20\n",
            "481/481 [==============================] - 12s 25ms/step - loss: 1.4956 - accuracy: 0.4873 - val_loss: 1.5412 - val_accuracy: 0.4663\n",
            "Epoch 4/20\n",
            "481/481 [==============================] - 12s 24ms/step - loss: 1.4602 - accuracy: 0.4946 - val_loss: 1.5327 - val_accuracy: 0.4672\n",
            "Epoch 5/20\n",
            "481/481 [==============================] - 12s 24ms/step - loss: 1.4358 - accuracy: 0.5037 - val_loss: 1.5379 - val_accuracy: 0.4629\n",
            "Epoch 6/20\n",
            "481/481 [==============================] - 12s 24ms/step - loss: 1.4109 - accuracy: 0.5072 - val_loss: 1.5419 - val_accuracy: 0.4656\n",
            "Epoch 7/20\n",
            "481/481 [==============================] - 12s 24ms/step - loss: 1.3846 - accuracy: 0.5147 - val_loss: 1.5465 - val_accuracy: 0.4603\n",
            "Epoch 8/20\n",
            "481/481 [==============================] - 12s 24ms/step - loss: 1.3597 - accuracy: 0.5191 - val_loss: 1.5595 - val_accuracy: 0.4602\n",
            "Epoch 9/20\n",
            "481/481 [==============================] - 12s 24ms/step - loss: 1.3379 - accuracy: 0.5282 - val_loss: 1.5584 - val_accuracy: 0.4612\n",
            "Epoch 10/20\n",
            "481/481 [==============================] - 12s 24ms/step - loss: 1.3164 - accuracy: 0.5329 - val_loss: 1.5886 - val_accuracy: 0.4527\n",
            "Epoch 11/20\n",
            "481/481 [==============================] - 13s 26ms/step - loss: 1.3001 - accuracy: 0.5377 - val_loss: 1.6033 - val_accuracy: 0.4550\n",
            "Epoch 12/20\n",
            "481/481 [==============================] - 12s 24ms/step - loss: 1.2796 - accuracy: 0.5430 - val_loss: 1.6144 - val_accuracy: 0.4543\n",
            "Epoch 13/20\n",
            "481/481 [==============================] - 12s 24ms/step - loss: 1.2612 - accuracy: 0.5506 - val_loss: 1.6325 - val_accuracy: 0.4500\n",
            "Epoch 14/20\n",
            "481/481 [==============================] - 12s 24ms/step - loss: 1.2479 - accuracy: 0.5540 - val_loss: 1.6403 - val_accuracy: 0.4457\n",
            "Epoch 15/20\n",
            "481/481 [==============================] - 12s 24ms/step - loss: 1.2282 - accuracy: 0.5599 - val_loss: 1.6622 - val_accuracy: 0.4410\n",
            "Epoch 16/20\n",
            "481/481 [==============================] - 12s 24ms/step - loss: 1.2064 - accuracy: 0.5677 - val_loss: 1.7064 - val_accuracy: 0.4366\n",
            "Epoch 17/20\n",
            "481/481 [==============================] - 12s 24ms/step - loss: 1.1925 - accuracy: 0.5707 - val_loss: 1.7149 - val_accuracy: 0.4341\n",
            "Epoch 18/20\n",
            "481/481 [==============================] - 12s 24ms/step - loss: 1.1753 - accuracy: 0.5800 - val_loss: 1.7300 - val_accuracy: 0.4371\n",
            "Epoch 19/20\n",
            "481/481 [==============================] - 12s 24ms/step - loss: 1.1589 - accuracy: 0.5851 - val_loss: 1.7473 - val_accuracy: 0.4333\n",
            "Epoch 20/20\n",
            "481/481 [==============================] - 12s 24ms/step - loss: 1.1376 - accuracy: 0.5907 - val_loss: 1.7837 - val_accuracy: 0.4257\n"
          ]
        }
      ]
    },
    {
      "cell_type": "code",
      "metadata": {
        "colab": {
          "base_uri": "https://localhost:8080/",
          "height": 295
        },
        "id": "diTuJ_WHFXx3",
        "outputId": "a3113860-2eed-4501-bdd2-604136675468"
      },
      "source": [
        "# plotting the accuracies for the training epochs\n",
        "plt.figure(1)\n",
        "plt.plot(history.history['accuracy'])\n",
        "plt.plot(history.history['val_accuracy'])\n",
        "plt.title('model accuracy')\n",
        "plt.ylabel('accuracy')\n",
        "plt.xlabel('epoch')\n",
        "plt.legend(['train', 'test'], loc='best')\n",
        "plt.savefig('2b_accuracies.png')"
      ],
      "execution_count": 39,
      "outputs": [
        {
          "output_type": "display_data",
          "data": {
            "image/png": "[encoded data removed]",
            "text/plain": [
              "<Figure size 432x288 with 1 Axes>"
            ]
          },
          "metadata": {
            "needs_background": "light"
          }
        }
      ]
    },
    {
      "cell_type": "code",
      "metadata": {
        "colab": {
          "base_uri": "https://localhost:8080/",
          "height": 295
        },
        "id": "oX9unvDVFcF_",
        "outputId": "fb3dfc62-4c95-4da3-8efa-c33d83413d27"
      },
      "source": [
        "# plotting the losses for the training epochs\n",
        "plt.figure(1)\n",
        "plt.plot(history.history['loss'])\n",
        "plt.plot(history.history['val_loss'])\n",
        "plt.title('model loss')\n",
        "plt.ylabel('cross-entropy')\n",
        "plt.xlabel('epoch')\n",
        "plt.legend(['train', 'test'], loc='best')\n",
        "plt.savefig('2c_losses.png')"
      ],
      "execution_count": 40,
      "outputs": [
        {
          "output_type": "display_data",
          "data": {
            "image/png": "[encoded data removed]",
            "text/plain": [
              "<Figure size 432x288 with 1 Axes>"
            ]
          },
          "metadata": {
            "needs_background": "light"
          }
        }
      ]
    },
    {
      "cell_type": "code",
      "metadata": {
        "colab": {
          "base_uri": "https://localhost:8080/"
        },
        "id": "3ygNILUHJXLM",
        "outputId": "83556b96-0758-4b6b-ba3a-a19c66371c64"
      },
      "source": [
        "keras.backend.clear_session()\n",
        "\n",
        "model_dropout = Sequential()\n",
        "model_dropout.add(Embedding(128,embed_dim,input_length = X.shape[1]))\n",
        "model_dropout.add(Conv1D(filters=32,\n",
        "               kernel_size=8,\n",
        "               strides=1,\n",
        "               activation='relu',\n",
        "               padding='same'))\n",
        "model_dropout.add(LSTM(units=128, return_sequences=False))\n",
        "model_dropout.add(Dense(9, activation='softmax'))\n",
        "\n",
        "model_dropout.summary()"
      ],
      "execution_count": 60,
      "outputs": [
        {
          "output_type": "stream",
          "name": "stdout",
          "text": [
            "Model: \"sequential\"\n",
            "_________________________________________________________________\n",
            " Layer (type)                Output Shape              Param #   \n",
            "=================================================================\n",
            " embedding (Embedding)       (None, 28, 64)            8192      \n",
            "                                                                 \n",
            " conv1d (Conv1D)             (None, 28, 32)            16416     \n",
            "                                                                 \n",
            " lstm (LSTM)                 (None, 128)               82432     \n",
            "                                                                 \n",
            " dense (Dense)               (None, 9)                 1161      \n",
            "                                                                 \n",
            "=================================================================\n",
            "Total params: 108,201\n",
            "Trainable params: 108,201\n",
            "Non-trainable params: 0\n",
            "_________________________________________________________________\n"
          ]
        }
      ]
    },
    {
      "cell_type": "code",
      "metadata": {
        "id": "Bb2DT-SaKpJr"
      },
      "source": [
        "model_dropout.compile(loss='categorical_crossentropy', optimizer='adam', metrics=['accuracy'])"
      ],
      "execution_count": 61,
      "outputs": []
    },
    {
      "cell_type": "code",
      "metadata": {
        "colab": {
          "base_uri": "https://localhost:8080/"
        },
        "id": "NjvBwqxdKrh6",
        "outputId": "235f6ee6-5611-4b7a-baf1-cf9a7cbae7e0"
      },
      "source": [
        "history = model_dropout.fit(X_train, Y_train, epochs = 20, batch_size=64, validation_data=(X_test, Y_test))"
      ],
      "execution_count": 62,
      "outputs": [
        {
          "output_type": "stream",
          "name": "stdout",
          "text": [
            "Epoch 1/20\n",
            "481/481 [==============================] - 36s 19ms/step - loss: 1.7931 - accuracy: 0.3698 - val_loss: 1.7390 - val_accuracy: 0.3885\n",
            "Epoch 2/20\n",
            "481/481 [==============================] - 8s 17ms/step - loss: 1.7313 - accuracy: 0.3957 - val_loss: 1.7204 - val_accuracy: 0.3944\n",
            "Epoch 3/20\n",
            "481/481 [==============================] - 8s 17ms/step - loss: 1.7130 - accuracy: 0.3996 - val_loss: 1.7044 - val_accuracy: 0.3979\n",
            "Epoch 4/20\n",
            "481/481 [==============================] - 8s 17ms/step - loss: 1.7030 - accuracy: 0.4012 - val_loss: 1.7033 - val_accuracy: 0.3979\n",
            "Epoch 5/20\n",
            "481/481 [==============================] - 8s 17ms/step - loss: 1.6965 - accuracy: 0.4049 - val_loss: 1.6989 - val_accuracy: 0.4025\n",
            "Epoch 6/20\n",
            "481/481 [==============================] - 8s 17ms/step - loss: 1.6906 - accuracy: 0.4036 - val_loss: 1.7027 - val_accuracy: 0.3971\n",
            "Epoch 7/20\n",
            "481/481 [==============================] - 8s 17ms/step - loss: 1.6850 - accuracy: 0.4065 - val_loss: 1.6982 - val_accuracy: 0.4004\n",
            "Epoch 8/20\n",
            "481/481 [==============================] - 8s 17ms/step - loss: 1.6793 - accuracy: 0.4085 - val_loss: 1.6960 - val_accuracy: 0.4011\n",
            "Epoch 9/20\n",
            "481/481 [==============================] - 8s 17ms/step - loss: 1.6737 - accuracy: 0.4095 - val_loss: 1.6950 - val_accuracy: 0.3992\n",
            "Epoch 10/20\n",
            "481/481 [==============================] - 8s 17ms/step - loss: 1.6675 - accuracy: 0.4106 - val_loss: 1.7005 - val_accuracy: 0.3985\n",
            "Epoch 11/20\n",
            "481/481 [==============================] - 8s 17ms/step - loss: 1.6608 - accuracy: 0.4117 - val_loss: 1.6986 - val_accuracy: 0.3974\n",
            "Epoch 12/20\n",
            "481/481 [==============================] - 8s 17ms/step - loss: 1.6535 - accuracy: 0.4136 - val_loss: 1.6966 - val_accuracy: 0.3984\n",
            "Epoch 13/20\n",
            "481/481 [==============================] - 8s 17ms/step - loss: 1.6452 - accuracy: 0.4139 - val_loss: 1.7016 - val_accuracy: 0.3969\n",
            "Epoch 14/20\n",
            "481/481 [==============================] - 8s 17ms/step - loss: 1.6369 - accuracy: 0.4174 - val_loss: 1.7023 - val_accuracy: 0.3970\n",
            "Epoch 15/20\n",
            "481/481 [==============================] - 8s 17ms/step - loss: 1.6286 - accuracy: 0.4197 - val_loss: 1.7109 - val_accuracy: 0.3963\n",
            "Epoch 16/20\n",
            "481/481 [==============================] - 8s 17ms/step - loss: 1.6177 - accuracy: 0.4232 - val_loss: 1.7101 - val_accuracy: 0.3973\n",
            "Epoch 17/20\n",
            "481/481 [==============================] - 8s 17ms/step - loss: 1.6063 - accuracy: 0.4243 - val_loss: 1.7209 - val_accuracy: 0.3912\n",
            "Epoch 18/20\n",
            "481/481 [==============================] - 8s 17ms/step - loss: 1.5922 - accuracy: 0.4299 - val_loss: 1.7328 - val_accuracy: 0.3904\n",
            "Epoch 19/20\n",
            "481/481 [==============================] - 8s 17ms/step - loss: 1.5759 - accuracy: 0.4335 - val_loss: 1.7417 - val_accuracy: 0.3891\n",
            "Epoch 20/20\n",
            "481/481 [==============================] - 8s 17ms/step - loss: 1.5595 - accuracy: 0.4410 - val_loss: 1.7566 - val_accuracy: 0.3828\n"
          ]
        }
      ]
    },
    {
      "cell_type": "code",
      "metadata": {
        "colab": {
          "base_uri": "https://localhost:8080/",
          "height": 295
        },
        "id": "oaVgliYUNQgb",
        "outputId": "f3724f86-71ee-4e7d-b789-eea873d6a792"
      },
      "source": [
        "# plotting the accuracies for the training epochs\n",
        "plt.figure(1)\n",
        "plt.plot(history.history['accuracy'])\n",
        "plt.plot(history.history['val_accuracy'])\n",
        "plt.title('model accuracy')\n",
        "plt.ylabel('accuracy')\n",
        "plt.xlabel('epoch')\n",
        "plt.legend(['train', 'test'], loc='best')\n",
        "plt.savefig('3b_accuracies.png')"
      ],
      "execution_count": 63,
      "outputs": [
        {
          "output_type": "display_data",
          "data": {
            "image/png": "[encoded data removed]",
            "text/plain": [
              "<Figure size 432x288 with 1 Axes>"
            ]
          },
          "metadata": {
            "needs_background": "light"
          }
        }
      ]
    },
    {
      "cell_type": "code",
      "metadata": {
        "colab": {
          "base_uri": "https://localhost:8080/",
          "height": 295
        },
        "id": "MiZYlkhNNUor",
        "outputId": "4a00dfe2-79c8-4da3-a15d-aeb2a9b71b83"
      },
      "source": [
        "# plotting the losses for the training epochs\n",
        "plt.figure(1)\n",
        "plt.plot(history.history['loss'])\n",
        "plt.plot(history.history['val_loss'])\n",
        "plt.title('model loss')\n",
        "plt.ylabel('cross-entropy')\n",
        "plt.xlabel('epoch')\n",
        "plt.legend(['train', 'test'], loc='best')\n",
        "plt.savefig('3c_losses.png')"
      ],
      "execution_count": 64,
      "outputs": [
        {
          "output_type": "display_data",
          "data": {
            "image/png": "[encoded data removed]",
            "text/plain": [
              "<Figure size 432x288 with 1 Axes>"
            ]
          },
          "metadata": {
            "needs_background": "light"
          }
        }
      ]
    },
    {
      "cell_type": "code",
      "metadata": {
        "colab": {
          "base_uri": "https://localhost:8080/"
        },
        "id": "r_DU-t0k-ngr",
        "outputId": "c308c56d-c7c2-48f9-d8f8-7ba304ecb769"
      },
      "source": [
        "keras.backend.clear_session()\n",
        "\n",
        "model_dropout = Sequential()\n",
        "model_dropout.add(Embedding(128,embed_dim,input_length = X.shape[1]))\n",
        "model_dropout.add(Conv1D(filters=32,\n",
        "               kernel_size=8,\n",
        "               strides=1,\n",
        "               activation='relu',\n",
        "               padding='same'))\n",
        "model_dropout.add(Dropout(rate=0.4))\n",
        "model_dropout.add(LSTM(units=128, return_sequences=False))\n",
        "model_dropout.add(Dropout(rate=0.4))\n",
        "model_dropout.add(Dense(9, activation='softmax'))\n",
        "\n",
        "model_dropout.summary()"
      ],
      "execution_count": 65,
      "outputs": [
        {
          "output_type": "stream",
          "name": "stdout",
          "text": [
            "Model: \"sequential\"\n",
            "_________________________________________________________________\n",
            " Layer (type)                Output Shape              Param #   \n",
            "=================================================================\n",
            " embedding (Embedding)       (None, 28, 64)            8192      \n",
            "                                                                 \n",
            " conv1d (Conv1D)             (None, 28, 32)            16416     \n",
            "                                                                 \n",
            " dropout (Dropout)           (None, 28, 32)            0         \n",
            "                                                                 \n",
            " lstm (LSTM)                 (None, 128)               82432     \n",
            "                                                                 \n",
            " dropout_1 (Dropout)         (None, 128)               0         \n",
            "                                                                 \n",
            " dense (Dense)               (None, 9)                 1161      \n",
            "                                                                 \n",
            "=================================================================\n",
            "Total params: 108,201\n",
            "Trainable params: 108,201\n",
            "Non-trainable params: 0\n",
            "_________________________________________________________________\n"
          ]
        }
      ]
    },
    {
      "cell_type": "code",
      "metadata": {
        "id": "bZBusMdxNnWC"
      },
      "source": [
        "model_dropout.compile(loss='categorical_crossentropy', optimizer='adam', metrics=['accuracy'])"
      ],
      "execution_count": 66,
      "outputs": []
    },
    {
      "cell_type": "code",
      "metadata": {
        "colab": {
          "base_uri": "https://localhost:8080/"
        },
        "id": "2HQFEnFENqM6",
        "outputId": "95082364-a2c9-4436-a1cd-ccb5f43bc176"
      },
      "source": [
        "history = model_dropout.fit(X_train, Y_train, epochs = 20, batch_size=64, validation_data=(X_test, Y_test))"
      ],
      "execution_count": 67,
      "outputs": [
        {
          "output_type": "stream",
          "name": "stdout",
          "text": [
            "Epoch 1/20\n",
            "481/481 [==============================] - 11s 18ms/step - loss: 1.8068 - accuracy: 0.3640 - val_loss: 1.7395 - val_accuracy: 0.3948\n",
            "Epoch 2/20\n",
            "481/481 [==============================] - 8s 17ms/step - loss: 1.7452 - accuracy: 0.3884 - val_loss: 1.7148 - val_accuracy: 0.3954\n",
            "Epoch 3/20\n",
            "481/481 [==============================] - 8s 17ms/step - loss: 1.7297 - accuracy: 0.3962 - val_loss: 1.7059 - val_accuracy: 0.4001\n",
            "Epoch 4/20\n",
            "481/481 [==============================] - 8s 17ms/step - loss: 1.7191 - accuracy: 0.3977 - val_loss: 1.7015 - val_accuracy: 0.3962\n",
            "Epoch 5/20\n",
            "481/481 [==============================] - 8s 17ms/step - loss: 1.7130 - accuracy: 0.4013 - val_loss: 1.7042 - val_accuracy: 0.4012\n",
            "Epoch 6/20\n",
            "481/481 [==============================] - 8s 17ms/step - loss: 1.7099 - accuracy: 0.4005 - val_loss: 1.7019 - val_accuracy: 0.4010\n",
            "Epoch 7/20\n",
            "481/481 [==============================] - 8s 17ms/step - loss: 1.7047 - accuracy: 0.4044 - val_loss: 1.7000 - val_accuracy: 0.4029\n",
            "Epoch 8/20\n",
            "481/481 [==============================] - 8s 17ms/step - loss: 1.6993 - accuracy: 0.4054 - val_loss: 1.7010 - val_accuracy: 0.4037\n",
            "Epoch 9/20\n",
            "481/481 [==============================] - 8s 17ms/step - loss: 1.6971 - accuracy: 0.4043 - val_loss: 1.6971 - val_accuracy: 0.4010\n",
            "Epoch 10/20\n",
            "481/481 [==============================] - 8s 17ms/step - loss: 1.6944 - accuracy: 0.4050 - val_loss: 1.6953 - val_accuracy: 0.4042\n",
            "Epoch 11/20\n",
            "481/481 [==============================] - 8s 17ms/step - loss: 1.6912 - accuracy: 0.4068 - val_loss: 1.6933 - val_accuracy: 0.4032\n",
            "Epoch 12/20\n",
            "481/481 [==============================] - 8s 17ms/step - loss: 1.6869 - accuracy: 0.4051 - val_loss: 1.6931 - val_accuracy: 0.4032\n",
            "Epoch 13/20\n",
            "481/481 [==============================] - 8s 17ms/step - loss: 1.6837 - accuracy: 0.4083 - val_loss: 1.6959 - val_accuracy: 0.4020\n",
            "Epoch 14/20\n",
            "481/481 [==============================] - 8s 17ms/step - loss: 1.6787 - accuracy: 0.4089 - val_loss: 1.6920 - val_accuracy: 0.4042\n",
            "Epoch 15/20\n",
            "481/481 [==============================] - 8s 17ms/step - loss: 1.6757 - accuracy: 0.4096 - val_loss: 1.6926 - val_accuracy: 0.4039\n",
            "Epoch 16/20\n",
            "481/481 [==============================] - 8s 17ms/step - loss: 1.6736 - accuracy: 0.4110 - val_loss: 1.6935 - val_accuracy: 0.4018\n",
            "Epoch 17/20\n",
            "481/481 [==============================] - 8s 17ms/step - loss: 1.6684 - accuracy: 0.4120 - val_loss: 1.6975 - val_accuracy: 0.4044\n",
            "Epoch 18/20\n",
            "481/481 [==============================] - 8s 17ms/step - loss: 1.6655 - accuracy: 0.4136 - val_loss: 1.6959 - val_accuracy: 0.4031\n",
            "Epoch 19/20\n",
            "481/481 [==============================] - 8s 17ms/step - loss: 1.6603 - accuracy: 0.4153 - val_loss: 1.6956 - val_accuracy: 0.4023\n",
            "Epoch 20/20\n",
            "481/481 [==============================] - 8s 17ms/step - loss: 1.6582 - accuracy: 0.4151 - val_loss: 1.7010 - val_accuracy: 0.3996\n"
          ]
        }
      ]
    },
    {
      "cell_type": "code",
      "metadata": {
        "colab": {
          "base_uri": "https://localhost:8080/",
          "height": 295
        },
        "id": "razVrz9wNsMq",
        "outputId": "f3f41941-898d-4d74-be98-ab6940664159"
      },
      "source": [
        "# plotting the accuracies for the training epochs\n",
        "plt.figure(1)\n",
        "plt.plot(history.history['accuracy'])\n",
        "plt.plot(history.history['val_accuracy'])\n",
        "plt.title('model accuracy')\n",
        "plt.ylabel('accuracy')\n",
        "plt.xlabel('epoch')\n",
        "plt.legend(['train', 'test'], loc='best')\n",
        "plt.savefig('4b_accuracies.png')"
      ],
      "execution_count": 68,
      "outputs": [
        {
          "output_type": "display_data",
          "data": {
            "image/png": "[encoded data removed]",
            "text/plain": [
              "<Figure size 432x288 with 1 Axes>"
            ]
          },
          "metadata": {
            "needs_background": "light"
          }
        }
      ]
    },
    {
      "cell_type": "code",
      "metadata": {
        "colab": {
          "base_uri": "https://localhost:8080/",
          "height": 295
        },
        "id": "zwVV1kewOFb4",
        "outputId": "24fe692c-8ea9-4084-a501-6a83cdb7c691"
      },
      "source": [
        "# plotting the losses for the training epochs\n",
        "plt.figure(1)\n",
        "plt.plot(history.history['loss'])\n",
        "plt.plot(history.history['val_loss'])\n",
        "plt.title('model loss')\n",
        "plt.ylabel('cross-entropy')\n",
        "plt.xlabel('epoch')\n",
        "plt.legend(['train', 'test'], loc='best')\n",
        "plt.savefig('4c_losses.png')"
      ],
      "execution_count": 69,
      "outputs": [
        {
          "output_type": "display_data",
          "data": {
            "image/png": "[encoded data removed]",
            "text/plain": [
              "<Figure size 432x288 with 1 Axes>"
            ]
          },
          "metadata": {
            "needs_background": "light"
          }
        }
      ]
    },
    {
      "cell_type": "code",
      "metadata": {
        "colab": {
          "base_uri": "https://localhost:8080/"
        },
        "id": "qymdQCTlOXSo",
        "outputId": "84a327be-dfca-4ef0-b7bd-405085e8eec5"
      },
      "source": [
        "keras.backend.clear_session()\n",
        "\n",
        "model_dropout = Sequential()\n",
        "model_dropout.add(Embedding(128,embed_dim,input_length = X.shape[1]))\n",
        "model_dropout.add(Conv1D(filters=32,\n",
        "               kernel_size=8,\n",
        "               strides=1,\n",
        "               activation='relu',\n",
        "               padding='same', kernel_regularizer=keras.regularizers.l1()))\n",
        "model_dropout.add(LSTM(units=128, return_sequences=False))\n",
        "model_dropout.add(Dense(9, activation='softmax'))\n",
        "\n",
        "model_dropout.summary()"
      ],
      "execution_count": 76,
      "outputs": [
        {
          "output_type": "stream",
          "name": "stdout",
          "text": [
            "Model: \"sequential\"\n",
            "_________________________________________________________________\n",
            " Layer (type)                Output Shape              Param #   \n",
            "=================================================================\n",
            " embedding (Embedding)       (None, 28, 64)            8192      \n",
            "                                                                 \n",
            " conv1d (Conv1D)             (None, 28, 32)            16416     \n",
            "                                                                 \n",
            " lstm (LSTM)                 (None, 128)               82432     \n",
            "                                                                 \n",
            " dense (Dense)               (None, 9)                 1161      \n",
            "                                                                 \n",
            "=================================================================\n",
            "Total params: 108,201\n",
            "Trainable params: 108,201\n",
            "Non-trainable params: 0\n",
            "_________________________________________________________________\n"
          ]
        }
      ]
    },
    {
      "cell_type": "code",
      "metadata": {
        "id": "dwAZac4RPOVY"
      },
      "source": [
        "model_dropout.compile(loss='categorical_crossentropy', optimizer='adam', metrics=['accuracy'])"
      ],
      "execution_count": 77,
      "outputs": []
    },
    {
      "cell_type": "code",
      "metadata": {
        "colab": {
          "base_uri": "https://localhost:8080/"
        },
        "id": "uloVPELRPR4X",
        "outputId": "ee708535-08c4-4d3e-f6e5-91de0171db13"
      },
      "source": [
        "history = model_dropout.fit(X_train, Y_train, epochs = 20, batch_size=64, validation_data=(X_test, Y_test))"
      ],
      "execution_count": 78,
      "outputs": [
        {
          "output_type": "stream",
          "name": "stdout",
          "text": [
            "Epoch 1/20\n",
            "481/481 [==============================] - 11s 19ms/step - loss: 2.3848 - accuracy: 0.3274 - val_loss: 1.8974 - val_accuracy: 0.3323\n",
            "Epoch 2/20\n",
            "481/481 [==============================] - 8s 17ms/step - loss: 1.8988 - accuracy: 0.3283 - val_loss: 1.8941 - val_accuracy: 0.3323\n",
            "Epoch 3/20\n",
            "481/481 [==============================] - 8s 17ms/step - loss: 1.8977 - accuracy: 0.3283 - val_loss: 1.8935 - val_accuracy: 0.3323\n",
            "Epoch 4/20\n",
            "481/481 [==============================] - 8s 17ms/step - loss: 1.8978 - accuracy: 0.3283 - val_loss: 1.8935 - val_accuracy: 0.3323\n",
            "Epoch 5/20\n",
            "481/481 [==============================] - 8s 17ms/step - loss: 1.8971 - accuracy: 0.3283 - val_loss: 1.8923 - val_accuracy: 0.3323\n",
            "Epoch 6/20\n",
            "481/481 [==============================] - 8s 17ms/step - loss: 1.8960 - accuracy: 0.3283 - val_loss: 1.8917 - val_accuracy: 0.3323\n",
            "Epoch 7/20\n",
            "481/481 [==============================] - 8s 17ms/step - loss: 1.8965 - accuracy: 0.3283 - val_loss: 1.8921 - val_accuracy: 0.3323\n",
            "Epoch 8/20\n",
            "481/481 [==============================] - 8s 17ms/step - loss: 1.8959 - accuracy: 0.3283 - val_loss: 1.8921 - val_accuracy: 0.3323\n",
            "Epoch 9/20\n",
            "481/481 [==============================] - 8s 17ms/step - loss: 1.8960 - accuracy: 0.3283 - val_loss: 1.8929 - val_accuracy: 0.3323\n",
            "Epoch 10/20\n",
            "481/481 [==============================] - 8s 17ms/step - loss: 1.8958 - accuracy: 0.3283 - val_loss: 1.8914 - val_accuracy: 0.3323\n",
            "Epoch 11/20\n",
            "481/481 [==============================] - 8s 17ms/step - loss: 1.8957 - accuracy: 0.3283 - val_loss: 1.8928 - val_accuracy: 0.3323\n",
            "Epoch 12/20\n",
            "481/481 [==============================] - 8s 17ms/step - loss: 1.8955 - accuracy: 0.3283 - val_loss: 1.8918 - val_accuracy: 0.3323\n",
            "Epoch 13/20\n",
            "481/481 [==============================] - 8s 17ms/step - loss: 1.8955 - accuracy: 0.3283 - val_loss: 1.8924 - val_accuracy: 0.3323\n",
            "Epoch 14/20\n",
            "481/481 [==============================] - 8s 17ms/step - loss: 1.8955 - accuracy: 0.3283 - val_loss: 1.8917 - val_accuracy: 0.3323\n",
            "Epoch 15/20\n",
            "481/481 [==============================] - 8s 17ms/step - loss: 1.8955 - accuracy: 0.3283 - val_loss: 1.8917 - val_accuracy: 0.3323\n",
            "Epoch 16/20\n",
            "481/481 [==============================] - 8s 17ms/step - loss: 1.8955 - accuracy: 0.3283 - val_loss: 1.8920 - val_accuracy: 0.3323\n",
            "Epoch 17/20\n",
            "481/481 [==============================] - 8s 17ms/step - loss: 1.8954 - accuracy: 0.3283 - val_loss: 1.8912 - val_accuracy: 0.3323\n",
            "Epoch 18/20\n",
            "481/481 [==============================] - 8s 17ms/step - loss: 1.8955 - accuracy: 0.3283 - val_loss: 1.8924 - val_accuracy: 0.3323\n",
            "Epoch 19/20\n",
            "481/481 [==============================] - 8s 17ms/step - loss: 1.8955 - accuracy: 0.3283 - val_loss: 1.8916 - val_accuracy: 0.3323\n",
            "Epoch 20/20\n",
            "481/481 [==============================] - 8s 17ms/step - loss: 1.8952 - accuracy: 0.3283 - val_loss: 1.8920 - val_accuracy: 0.3323\n"
          ]
        }
      ]
    },
    {
      "cell_type": "code",
      "metadata": {
        "colab": {
          "base_uri": "https://localhost:8080/",
          "height": 295
        },
        "id": "b2cXbfIGPgHH",
        "outputId": "2162c29d-3b0a-4d42-e299-f4acec6b4000"
      },
      "source": [
        "# plotting the accuracies for the training epochs\n",
        "plt.figure(1)\n",
        "plt.plot(history.history['accuracy'])\n",
        "plt.plot(history.history['val_accuracy'])\n",
        "plt.title('model accuracy')\n",
        "plt.ylabel('accuracy')\n",
        "plt.xlabel('epoch')\n",
        "plt.legend(['train', 'test'], loc='best')\n",
        "plt.savefig('5b_accuracies.png')"
      ],
      "execution_count": 79,
      "outputs": [
        {
          "output_type": "display_data",
          "data": {
            "image/png": "[encoded data removed]",
            "text/plain": [
              "<Figure size 432x288 with 1 Axes>"
            ]
          },
          "metadata": {
            "needs_background": "light"
          }
        }
      ]
    },
    {
      "cell_type": "code",
      "metadata": {
        "colab": {
          "base_uri": "https://localhost:8080/",
          "height": 295
        },
        "id": "2R29dvI6Q_Q3",
        "outputId": "8e014e46-42cd-4dff-9c01-3e728ba76b62"
      },
      "source": [
        "# plotting the losses for the training epochs\n",
        "plt.figure(1)\n",
        "plt.plot(history.history['loss'])\n",
        "plt.plot(history.history['val_loss'])\n",
        "plt.title('model loss')\n",
        "plt.ylabel('cross-entropy')\n",
        "plt.xlabel('epoch')\n",
        "plt.legend(['train', 'test'], loc='best')\n",
        "plt.savefig('5c_losses.png')"
      ],
      "execution_count": 80,
      "outputs": [
        {
          "output_type": "display_data",
          "data": {
            "image/png": "[encoded data removed]",
            "text/plain": [
              "<Figure size 432x288 with 1 Axes>"
            ]
          },
          "metadata": {
            "needs_background": "light"
          }
        }
      ]
    },
    {
      "cell_type": "code",
      "metadata": {
        "id": "6VGx5pPTSJjn"
      },
      "source": [
        "from keras.layers import Layer\n",
        "class attention(Layer):\n",
        "    def __init__(self,**kwargs):\n",
        "        super(attention,self).__init__(**kwargs)\n",
        "\n",
        "    def build(self,input_shape):\n",
        "        self.W=self.add_weight(name=\"att_weight\",shape=(input_shape[-1],1),initializer=\"normal\")\n",
        "        self.b=self.add_weight(name=\"att_bias\",shape=(input_shape[1],1),initializer=\"zeros\")        \n",
        "        super(attention, self).build(input_shape)\n",
        "\n",
        "    def call(self,x):\n",
        "        et=K.squeeze(K.tanh(K.dot(x,self.W)+self.b),axis=-1)\n",
        "        at=K.softmax(et)\n",
        "        at=K.expand_dims(at,axis=-1)\n",
        "        output=x*at\n",
        "        return K.sum(output,axis=1)\n",
        "\n",
        "    def compute_output_shape(self,input_shape):\n",
        "        return (input_shape[0],input_shape[-1])\n",
        "\n",
        "    def get_config(self):\n",
        "        return super(attention,self).get_config()"
      ],
      "execution_count": 89,
      "outputs": []
    },
    {
      "cell_type": "code",
      "metadata": {
        "colab": {
          "base_uri": "https://localhost:8080/"
        },
        "id": "hYKYbqmVRCDm",
        "outputId": "e67c0ee4-34cd-45a8-9ee2-941aea03ffad"
      },
      "source": [
        "keras.backend.clear_session()\n",
        "embed_dim = 8\n",
        "\n",
        "inputs=Input((28,))\n",
        "x=Embedding(128,embed_dim,input_length = X.shape[1],\\\n",
        "            embeddings_regularizer=keras.regularizers.l2(.001))(inputs)\n",
        "att_in=LSTM(128,return_sequences=True,dropout=0.3,recurrent_dropout=0.2)(x)\n",
        "att_out=attention()(att_in)\n",
        "outputs=Dense(9,activation='softmax',trainable=True)(att_out)\n",
        "model=keras.Model(inputs,outputs)\n",
        "model.summary()"
      ],
      "execution_count": 100,
      "outputs": [
        {
          "output_type": "stream",
          "name": "stdout",
          "text": [
            "WARNING:tensorflow:Layer lstm will not use cuDNN kernels since it doesn't meet the criteria. It will use a generic GPU kernel as fallback when running on GPU.\n",
            "Model: \"model\"\n",
            "_________________________________________________________________\n",
            " Layer (type)                Output Shape              Param #   \n",
            "=================================================================\n",
            " input_1 (InputLayer)        [(None, 28)]              0         \n",
            "                                                                 \n",
            " embedding (Embedding)       (None, 28, 8)             1024      \n",
            "                                                                 \n",
            " lstm (LSTM)                 (None, 28, 128)           70144     \n",
            "                                                                 \n",
            " attention (attention)       (None, 128)               156       \n",
            "                                                                 \n",
            " dense (Dense)               (None, 9)                 1161      \n",
            "                                                                 \n",
            "=================================================================\n",
            "Total params: 72,485\n",
            "Trainable params: 72,485\n",
            "Non-trainable params: 0\n",
            "_________________________________________________________________\n"
          ]
        }
      ]
    },
    {
      "cell_type": "code",
      "metadata": {
        "id": "XqnLD8fHTTaZ"
      },
      "source": [
        "model.compile(loss='categorical_crossentropy', optimizer='adam', metrics=['accuracy'])"
      ],
      "execution_count": 101,
      "outputs": []
    },
    {
      "cell_type": "code",
      "metadata": {
        "colab": {
          "base_uri": "https://localhost:8080/"
        },
        "id": "-ljXlpZPUEwo",
        "outputId": "673f7fb1-8458-4533-c264-4a7850d5f945"
      },
      "source": [
        "history = model.fit(X_train, Y_train, epochs = 20, batch_size=64, validation_data=(X_test, Y_test))"
      ],
      "execution_count": 102,
      "outputs": [
        {
          "output_type": "stream",
          "name": "stdout",
          "text": [
            "Epoch 1/20\n",
            "481/481 [==============================] - 133s 269ms/step - loss: 1.8906 - accuracy: 0.3277 - val_loss: 1.8813 - val_accuracy: 0.3323\n",
            "Epoch 2/20\n",
            "481/481 [==============================] - 126s 263ms/step - loss: 1.8793 - accuracy: 0.3283 - val_loss: 1.8740 - val_accuracy: 0.3323\n",
            "Epoch 3/20\n",
            "481/481 [==============================] - 125s 261ms/step - loss: 1.8756 - accuracy: 0.3283 - val_loss: 1.8679 - val_accuracy: 0.3323\n",
            "Epoch 4/20\n",
            "481/481 [==============================] - 128s 266ms/step - loss: 1.8465 - accuracy: 0.3447 - val_loss: 1.8027 - val_accuracy: 0.3612\n",
            "Epoch 5/20\n",
            "481/481 [==============================] - 125s 261ms/step - loss: 1.7985 - accuracy: 0.3625 - val_loss: 1.7857 - val_accuracy: 0.3733\n",
            "Epoch 6/20\n",
            "481/481 [==============================] - 126s 261ms/step - loss: 1.7880 - accuracy: 0.3705 - val_loss: 1.7762 - val_accuracy: 0.3798\n",
            "Epoch 7/20\n",
            "481/481 [==============================] - 127s 264ms/step - loss: 1.7814 - accuracy: 0.3754 - val_loss: 1.7722 - val_accuracy: 0.3829\n",
            "Epoch 8/20\n",
            "481/481 [==============================] - 128s 266ms/step - loss: 1.7747 - accuracy: 0.3794 - val_loss: 1.7687 - val_accuracy: 0.3848\n",
            "Epoch 9/20\n",
            "481/481 [==============================] - 129s 269ms/step - loss: 1.7707 - accuracy: 0.3825 - val_loss: 1.7582 - val_accuracy: 0.3861\n",
            "Epoch 10/20\n",
            "481/481 [==============================] - 126s 263ms/step - loss: 1.7646 - accuracy: 0.3831 - val_loss: 1.7538 - val_accuracy: 0.3874\n",
            "Epoch 11/20\n",
            "481/481 [==============================] - 129s 268ms/step - loss: 1.7583 - accuracy: 0.3893 - val_loss: 1.7589 - val_accuracy: 0.3874\n",
            "Epoch 12/20\n",
            "481/481 [==============================] - 127s 265ms/step - loss: 1.7539 - accuracy: 0.3893 - val_loss: 1.7405 - val_accuracy: 0.3946\n",
            "Epoch 13/20\n",
            "481/481 [==============================] - 126s 263ms/step - loss: 1.7513 - accuracy: 0.3896 - val_loss: 1.7409 - val_accuracy: 0.3925\n",
            "Epoch 14/20\n",
            "481/481 [==============================] - 126s 262ms/step - loss: 1.7493 - accuracy: 0.3912 - val_loss: 1.7362 - val_accuracy: 0.3941\n",
            "Epoch 15/20\n",
            "481/481 [==============================] - 128s 267ms/step - loss: 1.7457 - accuracy: 0.3916 - val_loss: 1.7341 - val_accuracy: 0.3963\n",
            "Epoch 16/20\n",
            "481/481 [==============================] - 127s 263ms/step - loss: 1.7451 - accuracy: 0.3931 - val_loss: 1.7331 - val_accuracy: 0.3944\n",
            "Epoch 17/20\n",
            "481/481 [==============================] - 126s 262ms/step - loss: 1.7411 - accuracy: 0.3929 - val_loss: 1.7298 - val_accuracy: 0.3980\n",
            "Epoch 18/20\n",
            "481/481 [==============================] - 125s 260ms/step - loss: 1.7391 - accuracy: 0.3942 - val_loss: 1.7321 - val_accuracy: 0.3957\n",
            "Epoch 19/20\n",
            "481/481 [==============================] - 127s 263ms/step - loss: 1.7369 - accuracy: 0.3943 - val_loss: 1.7323 - val_accuracy: 0.3973\n",
            "Epoch 20/20\n",
            "481/481 [==============================] - 124s 257ms/step - loss: 1.7365 - accuracy: 0.3943 - val_loss: 1.7274 - val_accuracy: 0.3958\n"
          ]
        }
      ]
    },
    {
      "cell_type": "code",
      "metadata": {
        "colab": {
          "base_uri": "https://localhost:8080/",
          "height": 295
        },
        "id": "Tc8ikvibUHzf",
        "outputId": "3f8a1b96-d6a0-4c18-c011-6d0ef7eeff2b"
      },
      "source": [
        "# plotting the accuracies for the training epochs\n",
        "plt.figure(1)\n",
        "plt.plot(history.history['accuracy'])\n",
        "plt.plot(history.history['val_accuracy'])\n",
        "plt.title('model accuracy')\n",
        "plt.ylabel('accuracy')\n",
        "plt.xlabel('epoch')\n",
        "plt.legend(['train', 'test'], loc='best')\n",
        "plt.savefig('6b_accuracies.png')"
      ],
      "execution_count": 103,
      "outputs": [
        {
          "output_type": "display_data",
          "data": {
            "image/png": "[encoded data removed]",
            "text/plain": [
              "<Figure size 432x288 with 1 Axes>"
            ]
          },
          "metadata": {
            "needs_background": "light"
          }
        }
      ]
    },
    {
      "cell_type": "code",
      "metadata": {
        "colab": {
          "base_uri": "https://localhost:8080/",
          "height": 295
        },
        "id": "QIyCXOqQZPZo",
        "outputId": "7b13acde-8a51-4278-cc74-fdfd068002ed"
      },
      "source": [
        "# plotting the losses for the training epochs\n",
        "plt.figure(1)\n",
        "plt.plot(history.history['loss'])\n",
        "plt.plot(history.history['val_loss'])\n",
        "plt.title('model loss')\n",
        "plt.ylabel('cross-entropy')\n",
        "plt.xlabel('epoch')\n",
        "plt.legend(['train', 'test'], loc='best')\n",
        "plt.savefig('6c_losses.png')"
      ],
      "execution_count": 104,
      "outputs": [
        {
          "output_type": "display_data",
          "data": {
            "image/png": "[encoded data removed]",
            "text/plain": [
              "<Figure size 432x288 with 1 Axes>"
            ]
          },
          "metadata": {
            "needs_background": "light"
          }
        }
      ]
    },
    {
      "cell_type": "code",
      "metadata": {
        "colab": {
          "base_uri": "https://localhost:8080/"
        },
        "id": "mrgoPCCPZSu4",
        "outputId": "a609010c-f6f8-4037-ae59-743f79c51b51"
      },
      "source": [
        "keras.backend.clear_session()\n",
        "embed_dim = 8\n",
        "\n",
        "inputs=Input((28,))\n",
        "x=Embedding(128,embed_dim,input_length = X.shape[1],\\\n",
        "            embeddings_regularizer=keras.regularizers.l2(.001))(inputs)\n",
        "att_in=LSTM(128,return_sequences=True,dropout=0.3,recurrent_dropout=0.2)(x)\n",
        "att_in_1=LSTM(128,return_sequences=True,dropout=0.3,recurrent_dropout=0.2)(att_in)\n",
        "att_out=attention()(att_in_1)\n",
        "outputs=Dense(9,activation='softmax',trainable=True)(att_out)\n",
        "model=keras.Model(inputs,outputs)\n",
        "model.summary()"
      ],
      "execution_count": 107,
      "outputs": [
        {
          "output_type": "stream",
          "name": "stdout",
          "text": [
            "WARNING:tensorflow:Layer lstm will not use cuDNN kernels since it doesn't meet the criteria. It will use a generic GPU kernel as fallback when running on GPU.\n",
            "WARNING:tensorflow:Layer lstm_1 will not use cuDNN kernels since it doesn't meet the criteria. It will use a generic GPU kernel as fallback when running on GPU.\n",
            "Model: \"model\"\n",
            "_________________________________________________________________\n",
            " Layer (type)                Output Shape              Param #   \n",
            "=================================================================\n",
            " input_1 (InputLayer)        [(None, 28)]              0         \n",
            "                                                                 \n",
            " embedding (Embedding)       (None, 28, 8)             1024      \n",
            "                                                                 \n",
            " lstm (LSTM)                 (None, 28, 128)           70144     \n",
            "                                                                 \n",
            " lstm_1 (LSTM)               (None, 28, 128)           131584    \n",
            "                                                                 \n",
            " attention (attention)       (None, 128)               156       \n",
            "                                                                 \n",
            " dense (Dense)               (None, 9)                 1161      \n",
            "                                                                 \n",
            "=================================================================\n",
            "Total params: 204,069\n",
            "Trainable params: 204,069\n",
            "Non-trainable params: 0\n",
            "_________________________________________________________________\n"
          ]
        }
      ]
    },
    {
      "cell_type": "code",
      "metadata": {
        "id": "ANe4vXiUmgqw"
      },
      "source": [
        "model.compile(loss='categorical_crossentropy', optimizer='adam', metrics=['accuracy'])"
      ],
      "execution_count": 108,
      "outputs": []
    },
    {
      "cell_type": "code",
      "metadata": {
        "colab": {
          "base_uri": "https://localhost:8080/"
        },
        "id": "YXZEjOQfmtdf",
        "outputId": "e6de9cf4-b278-4a21-942b-ae0e50cdb726"
      },
      "source": [
        "history = model.fit(X_train, Y_train, epochs = 20, batch_size=64, validation_data=(X_test, Y_test))"
      ],
      "execution_count": null,
      "outputs": [
        {
          "output_type": "stream",
          "name": "stdout",
          "text": [
            "Epoch 1/20\n",
            "481/481 [==============================] - 238s 482ms/step - loss: 1.8867 - accuracy: 0.3263 - val_loss: 1.8821 - val_accuracy: 0.3323\n",
            "Epoch 2/20\n",
            "481/481 [==============================] - 234s 487ms/step - loss: 1.8781 - accuracy: 0.3282 - val_loss: 1.8788 - val_accuracy: 0.3323\n",
            "Epoch 3/20\n",
            "481/481 [==============================] - 237s 493ms/step - loss: 1.8613 - accuracy: 0.3375 - val_loss: 1.8217 - val_accuracy: 0.3636\n",
            "Epoch 4/20\n",
            "481/481 [==============================] - 236s 490ms/step - loss: 1.8045 - accuracy: 0.3632 - val_loss: 1.7843 - val_accuracy: 0.3728\n",
            "Epoch 5/20\n",
            "481/481 [==============================] - 238s 494ms/step - loss: 1.7865 - accuracy: 0.3712 - val_loss: 1.7753 - val_accuracy: 0.3752\n",
            "Epoch 6/20\n",
            "481/481 [==============================] - 231s 480ms/step - loss: 1.7823 - accuracy: 0.3752 - val_loss: 1.7768 - val_accuracy: 0.3772\n",
            "Epoch 7/20\n",
            "481/481 [==============================] - 231s 480ms/step - loss: 1.7779 - accuracy: 0.3779 - val_loss: 1.7651 - val_accuracy: 0.3810\n",
            "Epoch 8/20\n",
            "481/481 [==============================] - 232s 483ms/step - loss: 1.7748 - accuracy: 0.3787 - val_loss: 1.7652 - val_accuracy: 0.3835\n",
            "Epoch 9/20\n",
            "481/481 [==============================] - 230s 478ms/step - loss: 1.7693 - accuracy: 0.3796 - val_loss: 1.7564 - val_accuracy: 0.3835\n",
            "Epoch 10/20\n",
            "481/481 [==============================] - 237s 493ms/step - loss: 1.7613 - accuracy: 0.3824 - val_loss: 1.7414 - val_accuracy: 0.3915\n",
            "Epoch 11/20\n",
            "481/481 [==============================] - 235s 490ms/step - loss: 1.7493 - accuracy: 0.3880 - val_loss: 1.7322 - val_accuracy: 0.3967\n",
            "Epoch 12/20\n",
            "481/481 [==============================] - 232s 482ms/step - loss: 1.7451 - accuracy: 0.3908 - val_loss: 1.7318 - val_accuracy: 0.3943\n",
            "Epoch 13/20\n",
            "481/481 [==============================] - 234s 487ms/step - loss: 1.7400 - accuracy: 0.3953 - val_loss: 1.7264 - val_accuracy: 0.3976\n",
            "Epoch 14/20\n",
            "481/481 [==============================] - 236s 491ms/step - loss: 1.7374 - accuracy: 0.3953 - val_loss: 1.7223 - val_accuracy: 0.3998\n",
            "Epoch 15/20\n",
            "481/481 [==============================] - 235s 489ms/step - loss: 1.7327 - accuracy: 0.3959 - val_loss: 1.7209 - val_accuracy: 0.3975\n",
            "Epoch 16/20\n",
            "481/481 [==============================] - 233s 484ms/step - loss: 1.7299 - accuracy: 0.3959 - val_loss: 1.7157 - val_accuracy: 0.4005\n",
            "Epoch 17/20\n",
            "312/481 [==================>...........] - ETA: 1:19 - loss: 1.7238 - accuracy: 0.4014"
          ]
        }
      ]
    },
    {
      "cell_type": "code",
      "metadata": {
        "id": "9nHFQBxsmwev"
      },
      "source": [
        ""
      ],
      "execution_count": null,
      "outputs": []
    }
  ]
}